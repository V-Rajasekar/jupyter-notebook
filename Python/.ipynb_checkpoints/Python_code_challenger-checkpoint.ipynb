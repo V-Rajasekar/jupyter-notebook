{
 "cells": [
  {
   "cell_type": "markdown",
   "metadata": {
    "id": "_2Nb6XWWug_8"
   },
   "source": [
    "# Find first non repeating character in a string\n"
   ]
  },
  {
   "cell_type": "code",
   "execution_count": 1,
   "metadata": {
    "id": "3FmUNFjtuvuv"
   },
   "outputs": [],
   "source": [
    "def findFirstNonRepatingCharacter(word):\n",
    "  word_dict = dict((chword, 1) for chword in word)\n",
    "  print(word_dict)  \n",
    "  \n"
   ]
  },
  {
   "cell_type": "code",
   "execution_count": 2,
   "metadata": {
    "colab": {
     "base_uri": "https://localhost:8080/"
    },
    "id": "0bw8lq5cv8fP",
    "outputId": "329c1486-2f9e-47e6-ddc2-e5c0209cf263"
   },
   "outputs": [
    {
     "name": "stdout",
     "output_type": "stream",
     "text": [
      "{'R': 1, 'a': 1, 'j': 1, 's': 1, 'e': 1, 'k': 1, 'r': 1}\n"
     ]
    }
   ],
   "source": [
    "findFirstNonRepatingCharacter('Rajasekar')"
   ]
  },
  {
   "cell_type": "markdown",
   "metadata": {
    "id": "Z9tHuCGQVldh"
   },
   "source": [
    "# Find the second largest number in an array!\n",
    "\n",
    "You are given an array (or a Python list) of integers.\n",
    "\n",
    "For example, [1, 3, 4, 5, 0, 2].\n",
    "\n",
    "Write a function, second_largest(given_list), which takes the list as the input, and returns the second largest number.\n",
    "\n",
    "## Examples:\n",
    "\n",
    "- **second_largest( [1, 3, 4, 5, 0, 2] )** should return 4.\n",
    "- **second_largest( [-2, -1] )** should return -2.\n",
    "- **second_largest( [2, 2, 1] )** should return 2.\n",
    "- **second_largest( [2] )** should return None.\n",
    "- **second_largest( [] )** should return None."
   ]
  },
  {
   "cell_type": "code",
   "execution_count": 3,
   "metadata": {
    "id": "mAqPy2kEWPGY"
   },
   "outputs": [],
   "source": [
    "def second_largest(given_list):\n",
    "    largest = None\n",
    "    second_largest = None\n",
    "    for current_element in given_list:\n",
    "        if largest == None:\n",
    "            largest = current_element\n",
    "        elif current_element > largest:\n",
    "                second_largest = largest\n",
    "                largest = current_element\n",
    "        elif second_largest == None:\n",
    "               second_largest = current_element\n",
    "        elif current_element > second_largest:\n",
    "               second_largest = current_element\n",
    "    return second_largest\n"
   ]
  },
  {
   "cell_type": "markdown",
   "metadata": {
    "id": "EeYpuxXCWVcs"
   },
   "source": [
    "# Use the code below to test your function."
   ]
  },
  {
   "cell_type": "code",
   "execution_count": 4,
   "metadata": {
    "colab": {
     "base_uri": "https://localhost:8080/"
    },
    "id": "-fsgrEfaWbEj",
    "outputId": "06240ab9-e2c5-4548-f100-13160bbf1039"
   },
   "outputs": [
    {
     "name": "stdout",
     "output_type": "stream",
     "text": [
      "The second largest number in [1, 3, 4, 5, 0, 2] is (should be 4):\n",
      "4\n",
      "The second largest number in [-2, -1] is: (should be -2)\n",
      "-2\n",
      "The second largest number in [2, 2, 1] is: (should be 2)\n",
      "2\n",
      "The second largest number in [2] is: (should be None)\n",
      "None\n",
      "The second largest number in [] is: (should be None)\n",
      "None\n",
      "The seconf largest number in [] is: (should be 3)\n",
      "3\n"
     ]
    }
   ],
   "source": [
    "print('The second largest number in [1, 3, 4, 5, 0, 2] is (should be 4):')\n",
    "print(second_largest([1, 3, 4, 5, 0, 2]))\n",
    "\n",
    "print('The second largest number in [-2, -1] is: (should be -2)')\n",
    "print(second_largest([-2, -1]))\n",
    "\n",
    "print('The second largest number in [2, 2, 1] is: (should be 2)')\n",
    "print(second_largest([2, 2, 1]))\n",
    "\n",
    "print('The second largest number in [2] is: (should be None)')\n",
    "print(second_largest([2]))\n",
    "\n",
    "print('The second largest number in [] is: (should be None)')\n",
    "print(second_largest([]))\n",
    "\n",
    "print('The seconf largest number in [] is: (should be 3)')\n",
    "print(second_largest([4, 2, 3]))"
   ]
  },
  {
   "cell_type": "markdown",
   "metadata": {
    "id": "7uEufBCiW930"
   },
   "source": [
    "# Strings are reverse\n",
    "\n",
    "For example, \"ABC\" and \"CBA\" are reverses of each other.  Assume that the two strings are not empty and have the same length."
   ]
  },
  {
   "cell_type": "code",
   "execution_count": null,
   "metadata": {
    "id": "bBQrcSBSXCgC"
   },
   "outputs": [],
   "source": [
    "# Modify the following function:\n",
    "def are_reverses(string_1, string_2):\n",
    "    for i in range(len(string_1)):\n",
    "        i2_index = len(string_1) -i - 1\n",
    "        if string_1[i] != string_2[i2_index]:\n",
    "            return False\n",
    "    return True"
   ]
  },
  {
   "cell_type": "markdown",
   "metadata": {
    "id": "tajUe50lXPwl"
   },
   "source": [
    "### Use the code below to test your function."
   ]
  },
  {
   "cell_type": "code",
   "execution_count": null,
   "metadata": {
    "colab": {
     "base_uri": "https://localhost:8080/",
     "height": 85
    },
    "id": "0LzWK9VMXROK",
    "outputId": "0164fed1-8c96-48aa-b2b7-8dbcecd2bf44"
   },
   "outputs": [
    {
     "name": "stdout",
     "output_type": "stream",
     "text": [
      "Are \"ABC\" and \"CBA\" reverses of each other? (Should be True.)\n",
      "Are \"CBA\" and \"AAA\" reverses of each other? (Should be False.)\n",
      "Malayalam and malayalaM reverse of each other? (Should be True)\n"
     ]
    },
    {
     "data": {
      "text/plain": [
       "True"
      ]
     },
     "execution_count": 10,
     "metadata": {
      "tags": []
     },
     "output_type": "execute_result"
    }
   ],
   "source": [
    "print('Are \"ABC\" and \"CBA\" reverses of each other? (Should be True.)')\n",
    "are_reverses(\"ABC\", \"CBA\")\n",
    "\n"
   ]
  },
  {
   "cell_type": "code",
   "execution_count": null,
   "metadata": {
    "colab": {
     "base_uri": "https://localhost:8080/",
     "height": 51
    },
    "id": "KXWwSW2PXnFV",
    "outputId": "8a46c754-3d39-44b8-e8c0-4652efa0fd22"
   },
   "outputs": [
    {
     "name": "stdout",
     "output_type": "stream",
     "text": [
      "Are \"CBA\" and \"AAA\" reverses of each other? (Should be False.)\n"
     ]
    },
    {
     "data": {
      "text/plain": [
       "False"
      ]
     },
     "execution_count": 11,
     "metadata": {
      "tags": []
     },
     "output_type": "execute_result"
    }
   ],
   "source": [
    "print('Are \"CBA\" and \"AAA\" reverses of each other? (Should be False.)')\n",
    "are_reverses(\"CBA\", \"AAA\")\n",
    "\n"
   ]
  },
  {
   "cell_type": "code",
   "execution_count": null,
   "metadata": {
    "colab": {
     "base_uri": "https://localhost:8080/",
     "height": 51
    },
    "id": "BhED9NrfXpGi",
    "outputId": "4fda230e-3a8b-49c4-fcc0-f32810f79d98"
   },
   "outputs": [
    {
     "name": "stdout",
     "output_type": "stream",
     "text": [
      "Malayalam and malayalaM reverse of each other? (Should be True)\n"
     ]
    },
    {
     "data": {
      "text/plain": [
       "True"
      ]
     },
     "execution_count": 12,
     "metadata": {
      "tags": []
     },
     "output_type": "execute_result"
    }
   ],
   "source": [
    "print(\"Malayalam and malayalaM reverse of each other? (Should be True)\")\n",
    "are_reverses(\"Malayalam\", \"malayalaM\")"
   ]
  },
  {
   "cell_type": "markdown",
   "metadata": {
    "id": "e_YMDHjDX4vt"
   },
   "source": [
    "### You're given a 2D array with the same number of rows and columns.  Write a function that adds up the diagonal elements and returns the sum.\n",
    "\n",
    "For example, you're given the following 2D array:\n",
    "\n",
    "[[1, 2, 3],  \n",
    " [4, 5, 6],  \n",
    " [7, 8, 9]]\n",
    "\n",
    "The diagonal elements are 1, 5, and 9, so your function should return 15."
   ]
  },
  {
   "cell_type": "code",
   "execution_count": null,
   "metadata": {
    "id": "jCSuCaswZSD5"
   },
   "outputs": [],
   "source": [
    "# Modify the following function:\n",
    "def diagonal_sum(given_2d):\n",
    "    sum_diagonalItem = 0\n",
    "    for i in range(len(given_2d)):\n",
    "        for j in range(len(given_2d[i])):\n",
    "            if i == j: \n",
    "                sum_diagonalItem += given_2d[i][j]\n",
    "                \n",
    "    return sum_diagonalItem "
   ]
  },
  {
   "cell_type": "code",
   "execution_count": null,
   "metadata": {
    "colab": {
     "base_uri": "https://localhost:8080/",
     "height": 85
    },
    "id": "PEG9K8pFZUM3",
    "outputId": "721c5b7c-c3a1-478b-c2a2-60e3e516ea58"
   },
   "outputs": [
    {
     "name": "stdout",
     "output_type": "stream",
     "text": [
      "\n",
      "The diagonal sum of [[1, 0],\n",
      "                     [0, 1]] is: (Should be 2)\n"
     ]
    },
    {
     "data": {
      "text/plain": [
       "2"
      ]
     },
     "execution_count": 4,
     "metadata": {
      "tags": []
     },
     "output_type": "execute_result"
    }
   ],
   "source": [
    "print(\"\"\"\n",
    "The diagonal sum of [[1, 0],\n",
    "                     [0, 1]] is: (Should be 2)\"\"\")\n",
    "diagonal_sum([[1, 0],\n",
    "              [0, 1]])\n",
    "\n",
    "\n"
   ]
  },
  {
   "cell_type": "code",
   "execution_count": null,
   "metadata": {
    "id": "VnXRohSfZmq9"
   },
   "outputs": [],
   "source": [
    "print(\"\"\"\n",
    "The diagonal sum of [[1, 2, 3],\n",
    "                     [4, 5, 6],\n",
    "                     [7, 8, 9]] is: (Should be 15)\"\"\")\n",
    "diagonal_sum([[1, 2, 3],\n",
    "              [4, 5, 6],\n",
    "              [7, 8, 9]])"
   ]
  },
  {
   "cell_type": "markdown",
   "metadata": {
    "id": "xPMphhEWZwVh"
   },
   "source": [
    "# 2D Array Counting the number of negative numbers.\n",
    "\n",
    "You are given a 2-dimensional array with integers.\n",
    "\n",
    "Example Input:  \n",
    "[[-4, -3, -1, 1],  \n",
    "&nbsp;[-2, -2,  1, 2],  \n",
    "&nbsp;[-1,&nbsp; 1,&nbsp; 2, 3],  \n",
    "&nbsp;[ 1,&nbsp; 2,&nbsp; 4, 5]]\n",
    "\n",
    "Write a function, count_negatives(input), which finds and returns the number of negative integers in th array."
   ]
  },
  {
   "cell_type": "code",
   "execution_count": null,
   "metadata": {
    "id": "e8I2CcZlZ6oP"
   },
   "outputs": [],
   "source": [
    "# Input: A 2-dimensional array with integers.  Example below.\n",
    "\n",
    "#[[-4, -3, -1, 1],\n",
    "# [-2, -2,  1, 2],\n",
    "# [-1,  1,  2, 3],\n",
    "# [ 1,  2,  4, 5]]\n",
    "# Returns:\n",
    "#  The number of negative numbers in the array.\n",
    "#  In the above case, this function should return 6\n",
    "#  since there are 6 negative numbers in the array.\n",
    "# The time complexity for each row is  nO(1) = O(n) since there are n rows then n(O)n = O(n*n)\n",
    "# Same for all column also O(n*n) adding them up we get 2O(n*n) multiplying a big O notation by a constant\n",
    "# doesn't change the big O notation so the time complexity is O(n*n) or Quadratic time complexity\n",
    "def count_negatives(given_array):\n",
    "    negative_count = 0\n",
    "    arr_len = len(given_array)\n",
    "    for row_i in range(arr_len):              # O(n)\n",
    "        for col_i in range(arr_len):          # O(n)\n",
    "            if given_array[row_i][col_i] < 0: # O(1)\n",
    "                negative_count += 1           # O(1)\n",
    "    return  negative_count"
   ]
  },
  {
   "cell_type": "code",
   "execution_count": null,
   "metadata": {
    "id": "4jEQ6Uj_Z8kF"
   },
   "outputs": [],
   "source": [
    "def count_negative(given_array):\n",
    "    count = 0\n",
    "    row_i = 0\n",
    "    col_i = len(given_array) -1\n",
    "    while col_i >= 0 and row_i < len(give_array) -1:\n",
    "        if give_array[row_i][col_i] < 0:\n",
    "            count += col_i\n",
    "            row_i += 1\n",
    "        else:\n",
    "            col_i -= 1\n"
   ]
  },
  {
   "cell_type": "markdown",
   "metadata": {
    "id": "uS2o-42ZaDXm"
   },
   "source": [
    "## Use the code below to test your function"
   ]
  },
  {
   "cell_type": "code",
   "execution_count": null,
   "metadata": {
    "id": "pWOQVfHkaFIl"
   },
   "outputs": [],
   "source": [
    "print(\"\"\"\n",
    "How many negative numbers are there in the following array?\n",
    "(There are 6.)\n",
    "\n",
    "[[-4, -3, -1, 1],\n",
    " [-2, -2,  1, 2],\n",
    " [-1,  1,  2, 3],\n",
    " [ 1,  2,  4, 5]]\n",
    "\"\"\")\n",
    "\n",
    "count_negatives(\n",
    "[[-4, -3, -1, 1],\n",
    " [-2, -2,  1, 2],\n",
    " [-1,  1,  2, 3],\n",
    " [ 1,  2,  4, 5]])"
   ]
  },
  {
   "cell_type": "code",
   "execution_count": null,
   "metadata": {
    "id": "i2hGOV7qaIYu"
   },
   "outputs": [],
   "source": [
    "print(\"\"\"\n",
    "How many negative numbers are there in the following array?\n",
    "(There is 1.)\n",
    "\n",
    "[[-1, 0],\n",
    " [0,  0]]\n",
    "\"\"\")\n",
    "\n",
    "count_negatives(\n",
    "[[-1, 0],\n",
    " [0,  0]])"
   ]
  },
  {
   "cell_type": "code",
   "execution_count": null,
   "metadata": {
    "id": "JjUxZvJNaL2s"
   },
   "outputs": [],
   "source": [
    "print(\"\"\"\n",
    "How many negative numbers are there in the following array?\n",
    "(There are 2.)\n",
    "\n",
    "[[-2, 0],\n",
    " [-1, 0]]\n",
    "\"\"\")\n",
    "\n",
    "count_negatives(\n",
    "[[-2, 0],\n",
    " [-1, 0]])"
   ]
  },
  {
   "cell_type": "markdown",
   "metadata": {
    "id": "2sSsucjvcS4u"
   },
   "source": [
    "# Find duplicate name in a list.\n",
    "\n",
    "For example, if you're given ['George', 'Tom', 'Emily', 'Jenny', 'Tom'], your function should return 'Tom'.\n",
    "\n",
    "**Just assume that there's only one name that appears twice.**"
   ]
  },
  {
   "cell_type": "code",
   "execution_count": null,
   "metadata": {
    "id": "i-nQ3qbNcUFk"
   },
   "outputs": [],
   "source": [
    "# Modify the following function:\n",
    "def appears_twice(given_list):\n",
    "    count = 0\n",
    "    dict ={}\n",
    "    for name in given_list:\n",
    "        if(name in dict and dict[name] > 1):\n",
    "            print(name)\n",
    "        else:\n",
    "            count += 1\n",
    "            dict[name] = count\n",
    "    return None"
   ]
  },
  {
   "cell_type": "code",
   "execution_count": null,
   "metadata": {
    "id": "aKsw5ATJcXRf"
   },
   "outputs": [],
   "source": [
    "print(\"Which name appears twice? (Should be 'Tom')\")\n",
    "appears_twice(['George', 'Tom', 'Emily', 'Jenny', 'Tom'])"
   ]
  },
  {
   "cell_type": "code",
   "execution_count": null,
   "metadata": {
    "id": "V7hfQaW8cZps"
   },
   "outputs": [],
   "source": [
    "print(\"Which name appears twice? (Should be 'George')\")\n",
    "appears_twice(['George', 'Claire', 'Tom', 'Lynda', 'George'])"
   ]
  }
 ],
 "metadata": {
  "colab": {
   "collapsed_sections": [],
   "name": "Python code challenger",
   "provenance": [],
   "toc_visible": true
  },
  "kernelspec": {
   "display_name": "Python 3",
   "language": "python",
   "name": "python3"
  },
  "language_info": {
   "codemirror_mode": {
    "name": "ipython",
    "version": 3
   },
   "file_extension": ".py",
   "mimetype": "text/x-python",
   "name": "python",
   "nbconvert_exporter": "python",
   "pygments_lexer": "ipython3",
   "version": "3.8.6"
  }
 },
 "nbformat": 4,
 "nbformat_minor": 1
}
