{
 "cells": [
  {
   "cell_type": "markdown",
   "metadata": {},
   "source": [
    "## Converting Date and Time to String format"
   ]
  },
  {
   "cell_type": "code",
   "execution_count": 6,
   "metadata": {},
   "outputs": [
    {
     "name": "stdout",
     "output_type": "stream",
     "text": [
      "2018/12/11 22:35:50\n",
      "2018/12/11 22:35:50\n",
      "2018/12/11 22:35:50\n",
      "2018/12/11\n"
     ]
    }
   ],
   "source": [
    "import java.text.DateFormat;\n",
    "\n",
    "import java.text.SimpleDateFormat;\n",
    "\n",
    "import java.time.LocalDateTime;\n",
    "\n",
    "import java.time.LocalDate;\n",
    "\n",
    "import java.time.format.DateTimeFormatter;\n",
    "\n",
    "import java.util.Calendar;\n",
    "\n",
    "import java.util.Date;\n",
    "\n",
    "\n",
    "private static final DateFormat sdf = new SimpleDateFormat(\"yyyy/MM/dd HH:mm:ss\");\n",
    "\n",
    "private static final DateTimeFormatter dtf = DateTimeFormatter.ofPattern(\"yyyy/MM/dd HH:mm:ss\");\n",
    "//Java old libraries java.util.Date another api for formating java.text.SimpleDateFormat\n",
    "        Date date = new Date();\n",
    "        System.out.println(sdf.format(date));\n",
    "\n",
    "        Calendar cal = Calendar.getInstance();\n",
    "        System.out.println(sdf.format(cal.getTime()));\n",
    "\n",
    "        LocalDateTime now = LocalDateTime.now();\n",
    "        System.out.println(dtf.format(now));\n",
    "\n",
    "        LocalDate localDate = LocalDate.now();\n",
    "        System.out.println(DateTimeFormatter.ofPattern(\"yyy/MM/dd\").format(localDate));\n",
    "\n"
   ]
  },
  {
   "cell_type": "markdown",
   "metadata": {},
   "source": [
    "## Converting String to local date Time"
   ]
  },
  {
   "cell_type": "code",
   "execution_count": 8,
   "metadata": {},
   "outputs": [
    {
     "name": "stdout",
     "output_type": "stream",
     "text": [
      "Before : 2017-06-13 12:30\n",
      "After : 2017-06-13T12:30\n",
      "After : 2017-06-13 12:30\n"
     ]
    }
   ],
   "source": [
    "import java.text.DateFormat;\n",
    "\n",
    "import java.text.SimpleDateFormat;\n",
    "\n",
    "import java.time.LocalDateTime;\n",
    "\n",
    "import java.time.LocalDate;\n",
    "\n",
    "import java.time.format.DateTimeFormatter;\n",
    "\n",
    "import java.util.Calendar;\n",
    "\n",
    "import java.util.Date;\n",
    "\n",
    "String now = \"2017-06-13 12:30\";\n",
    "DateTimeFormatter formatter = DateTimeFormatter.ofPattern(\"yyyy-MM-dd HH:mm\");\n",
    "\n",
    "LocalDateTime formatDateTime = LocalDateTime.parse(now, formatter);\n",
    "System.out.println(\"Before : \" + now);\n",
    "\n",
    "System.out.println(\"After : \" + formatDateTime);\n",
    "System.out.println(\"After : \" + formatDateTime.format(formatter));\n"
   ]
  },
  {
   "cell_type": "markdown",
   "metadata": {},
   "source": [
    "## Convert instant to localDateTime\n",
    "\n",
    "Instant method return machine readable date times see(z) at the end"
   ]
  },
  {
   "cell_type": "code",
   "execution_count": 9,
   "metadata": {},
   "outputs": [
    {
     "name": "stdout",
     "output_type": "stream",
     "text": [
      "Instant : 2018-12-11T21:44:47.310717Z\n",
      "LocalDateTime : 2018-12-11T21:44:47.310717\n"
     ]
    }
   ],
   "source": [
    "import java.time.LocalDateTime;\n",
    "\n",
    "import java.time.LocalDate;\n",
    "\n",
    "import java.time.ZoneOffset;\n",
    "\n",
    "import java.time.Instant;\n",
    "\n",
    "import java.time.format.DateTimeFormatter;\n",
    "\n",
    "Instant instant = Instant.now();\n",
    "System.out.println(\"Instant : \" + instant);\n",
    "\n",
    "LocalDateTime ldt = LocalDateTime.ofInstant(instant, ZoneOffset.UTC);\n",
    "System.out.println(\"LocalDateTime : \" + ldt);\n"
   ]
  },
  {
   "cell_type": "markdown",
   "metadata": {},
   "source": [
    "\n",
    "## Convert Date to LocalDate and LocalDateTime"
   ]
  },
  {
   "cell_type": "code",
   "execution_count": 21,
   "metadata": {},
   "outputs": [
    {
     "name": "stdout",
     "output_type": "stream",
     "text": [
      "System Default TimeZone : Europe/Berlin\n",
      "date : Tue Dec 11 22:55:51 CET 2018\n",
      "instant : 2018-12-11T21:55:51.940Z\n",
      "localDate : 2018-12-11\n",
      "localDateTime : 2018-12-11T22:55:51.940\n",
      "zonedDateTime : 2018-12-11T22:55:51.940+01:00[Europe/Berlin]\n",
      "lastDayOfMonth : 2018-12-31\n",
      "next monday : 2018-12-17\n",
      "                 Minguo: Minguo ROC 107-12-11\n",
      "               Japanese: Japanese Heisei 30-12-11\n",
      "           ThaiBuddhist: ThaiBuddhist BE 2561-12-11\n",
      "                    ISO: 2018-12-11\n",
      "        Hijrah-umalqura: Hijrah-umalqura AH 1440-04-04\n"
     ]
    }
   ],
   "source": [
    "import java.time.*;\n",
    "import java.time.chrono.Chronology;\n",
    "import java.time.chrono.ChronoLocalDate;\n",
    "import java.util.Date;\n",
    "import java.time.temporal.TemporalAdjusters;\n",
    "\n",
    "ZoneId defaultZoneId = ZoneId.systemDefault();\n",
    "System.out.println(\"System Default TimeZone : \" + defaultZoneId);\n",
    "\n",
    "Date date = new Date();\n",
    "System.out.println(\"date : \" + date);\n",
    "\n",
    "Instant instant = date.toInstant();\n",
    "System.out.println(\"instant : \" + instant); \n",
    "\n",
    "//2. Instant + system default time zone + toLocalDate() = LocalDate\n",
    "\n",
    "LocalDate localDate = instant.atZone(defaultZoneId).toLocalDate();\n",
    "\n",
    "System.out.println(\"localDate : \" + localDate);\n",
    "\n",
    "//3. Instant + system default time zone + toLocalDateTime() = LocalDateTime\n",
    "\n",
    "LocalDateTime localDateTime = instant.atZone(defaultZoneId).toLocalDateTime();\n",
    "\n",
    "System.out.println(\"localDateTime : \" + localDateTime);\n",
    "\n",
    "\n",
    "\n",
    "//4. Instant + system default time zone = ZonedDateTime\n",
    "\n",
    "ZonedDateTime zonedDateTime = instant.atZone(defaultZoneId);\n",
    "\n",
    "System.out.println(\"zonedDateTime : \" + zonedDateTime);\n",
    "\n",
    "//In Java 8, predefined java.time.temporal.TemporalAdjusters can be used to adjust a date or Temporal.\n",
    "\n",
    "//Please read below example to print last day of current month and next monday date.\n",
    "LocalDate with1 = localDate.with(TemporalAdjusters.lastDayOfMonth());\n",
    "System.out.println(\"lastDayOfMonth : \" + with1);\n",
    "\n",
    "LocalDate with2 = localDate.with(TemporalAdjusters.next(DayOfWeek.MONDAY));\n",
    "System.out.println(\"next monday : \" + with2);\n",
    "\n",
    "\n",
    "Set<Chronology> chronos = Chronology.getAvailableChronologies();\n",
    "\n",
    "       for (Chronology chrono : chronos) {\n",
    "\n",
    "           ChronoLocalDate date = chrono.dateNow();\n",
    "\n",
    "           System.out.printf(\"   %20s: %s%n\", chrono.getId(), date.toString());\n",
    "\n",
    "       }\n"
   ]
  },
  {
   "cell_type": "code",
   "execution_count": null,
   "metadata": {},
   "outputs": [],
   "source": []
  }
 ],
 "metadata": {
  "kernelspec": {
   "display_name": "Java",
   "language": "java",
   "name": "java"
  },
  "language_info": {
   "codemirror_mode": "java",
   "file_extension": ".java",
   "mimetype": "text/x-java-source",
   "name": "Java",
   "pygments_lexer": "java",
   "version": "11.0.1+13-LTS"
  }
 },
 "nbformat": 4,
 "nbformat_minor": 2
}
