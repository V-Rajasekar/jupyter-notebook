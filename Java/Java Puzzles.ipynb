{
 "cells": [
  {
   "cell_type": "markdown",
   "metadata": {},
   "source": [
    "# 1. Java Puzzle Challenges"
   ]
  },
  {
   "cell_type": "markdown",
   "metadata": {},
   "source": [
    "-[1.1 Logical condition](#11-Logical-condition)\n",
    "-[1.2 String Problems](#12-String-Problems)"
   ]
  },
  {
   "cell_type": "markdown",
   "metadata": {},
   "source": [
    "## 1.1 Logical condition\n"
   ]
  },
  {
   "cell_type": "code",
   "execution_count": null,
   "metadata": {
    "scrolled": true
   },
   "outputs": [],
   "source": [
    "\n",
    "/**\n",
    " * You are driving a little too fast, and a police officer stops you.\n",
    " * Write code to compute the fine you would have to pay.\n",
    " * If your speed is 60 or less, the result is 0 since there is no fine.\n",
    " * If speed is between 61 and 80 inclusive, the fine is 100 dollars.\n",
    " * If speed is 81 or more, the result is 200.\n",
    " * Unless it is a holiday -- on that day, your speed can be 5 higher in all cases. <br>\n",
    " * <br>\n",
    " *\n",
    " * <b>EXPECTATIONS:</b><br>\n",
    " speedingFine(60, false)  <b>---></b> 0 <br>\n",
    " speedingFine (65, false)   <b>---></b> 100 <br>\n",
    " speedingFine (65, true) <b>---></b> 0 <br>\n",
    " */\n",
    "public static int speedingFine(int speed, boolean isHoliday) {\n",
    "\n",
    "    int minSpeed = 60;\n",
    "    int maxSpeed = 80;\n",
    "    int fine = 0;\n",
    "    if (isHoliday) {\n",
    "        minSpeed += 5;\n",
    "        maxSpeed += 5;\n",
    "    }\n",
    "\n",
    "    if (speed <= minSpeed) {\n",
    "        fine = 0;\n",
    "    }\n",
    "    if (speed > minSpeed && speed <= maxSpeed) {\n",
    "        fine = 100;\n",
    "    }\n",
    "    if (speed > maxSpeed) {\n",
    "        fine = 200;\n",
    "    }\n",
    "    return fine;\n",
    "}\n",
    "\n",
    "System.out.println(speedingFine(60, false));\n",
    "System.out.println(speedingFine(65, false));\n",
    "System.out.println( speedingFine (65, true));\n",
    "System.out.println( speedingFine (84, true));\n",
    "System.out.println( speedingFine (86, true));"
   ]
  },
  {
   "cell_type": "code",
   "execution_count": null,
   "metadata": {
    "scrolled": true
   },
   "outputs": [],
   "source": [
    "\n",
    "    /**\n",
    "     * Given three ints, a b c, return true if it is possible to add two of \n",
    "     * the ints to get the third. There should only be a single line of code in the method body.<br>\n",
    "     * <br> \n",
    "     *\n",
    "     * <b>EXPECTATIONS:</b><br>\n",
    "     twoSumOne(1, 2, 3)   <b>---></b> true <br>\n",
    "     twoSumOne(3, 1, 2)    <b>---></b> true <br>\n",
    "     twoSumOne(3, 2, 2) <b>---></b> false <br>\n",
    "     */\n",
    "    public static boolean twoSumOne(int a, int b, int c) {\n",
    "        return (a + b == c) || (a + c == b) || (b + c == a);\n",
    "    }\n",
    "System.out.println(twoSumOne(1, 2, 3));\n",
    "System.out.println(twoSumOne(3, 1, 2));\n",
    "System.out.println(twoSumOne(3, 2, 2));"
   ]
  },
  {
   "cell_type": "code",
   "execution_count": null,
   "metadata": {
    "scrolled": true
   },
   "outputs": [],
   "source": [
    " /**\n",
    "     The birds in Florida like to sing during favorable temperatures. \n",
    "     In particular, they sing if the temperature is between 60 and 90 (inclusive). \n",
    "     Unless it is summer, then the upper limit is 100 instead of 90. \n",
    "     Given an int temperature and a boolean isSummer, \n",
    "     return true if the birds are singing and false otherwise. <br>\n",
    "     <br>\n",
    "     * <b>EXPECTATIONS:</b><br>\n",
    "     birdsSinging(70, false)   <b>---></b> true <br>\n",
    "     birdsSinging(95, false)    <b>---></b> false <br>\n",
    "     birdsSinging(95, true) <b>---></b> true <br>\n",
    "     */\n",
    "    public static boolean birdsSinging(int temp, boolean isSummer) {\n",
    "        int minTemp = 60;\n",
    "        int maxTemp = 90;\n",
    "         return (isSummer) ? (temp > minTemp && temp <= 100) : (temp >= minTemp && temp <= maxTemp);\n",
    "\n",
    "    }\n",
    "System.out.println( birdsSinging(70, false));\n",
    "System.out.println( birdsSinging(95, false));\n",
    "System.out.println( birdsSinging(95, true));"
   ]
  },
  {
   "cell_type": "code",
   "execution_count": null,
   "metadata": {
    "scrolled": true
   },
   "outputs": [],
   "source": [
    "/**\n",
    "     Given three ints, first, second, third, return true if second is greater than first, and third is \n",
    "     greater than second. However, with the exception that if the parameter \"itsOk\" is true, \n",
    "     second does not need to be greater than first but still better be less than third.\n",
    "     <br>\n",
    "     <br>\n",
    "     * <b>EXPECTATIONS:</b><br>\n",
    "     isOrdered(1, 2, 4, false)   <b>---></b> true <br>\n",
    "     isOrdered(1, 2, 1, false)    <b>---></b> false <br>\n",
    "     isOrdered(1, 1, 2, true) <b>---></b> true <br>\n",
    "*/\n",
    "public static boolean isOrdered(int first, int second, int third, boolean itsOk) {\n",
    "    return (itsOk && second < third) || (second > first && third > second);\n",
    "\n",
    "}\n",
    "System.out.println(isOrdered(1, 2, 4, false));\n",
    "System.out.println(isOrdered(1, 2, 1, false));\n",
    "System.out.println(isOrdered(1, 1, 2, false));"
   ]
  },
  {
   "cell_type": "code",
   "execution_count": null,
   "metadata": {
    "scrolled": true
   },
   "outputs": [],
   "source": [
    "/**\n",
    " We'll say a number is cool if it's a multiple of 11 or if it is one more than a multiple of 11. \n",
    " Return true if the given non-negative number is cool. Use the % \"modulus\" operator \n",
    " we spoke about in the prerequisite section. Watch the lesson on modulus if you need to review\n",
    " <br>\n",
    " <br>\n",
    " * <b>EXPECTATIONS:</b><br>\n",
    " isCool(22)   <b>---></b> true <br>\n",
    " isCool(23)    <b>---></b> true <br>\n",
    " isCool(24) <b>---></b> false <br>\n",
    " */\n",
    " \n",
    "public static boolean isCool(int n) {\n",
    "    int reminder = n % 11;\n",
    "    return (reminder == 0 || reminder == 1);\n",
    "}\n",
    "\n",
    "System.out.println(isCool(22));\n",
    "System.out.println(isCool(23));\n",
    "System.out.println(isCool(24));\n"
   ]
  },
  {
   "cell_type": "markdown",
   "metadata": {},
   "source": [
    "## FizzBuzz problem\n"
   ]
  },
  {
   "cell_type": "code",
   "execution_count": null,
   "metadata": {
    "scrolled": true
   },
   "outputs": [],
   "source": [
    "    /**\n",
    "     Given an int n, return the string form of the number followed by \"!\". \n",
    "     So if the int is for example 13 this method should return \"13!\". \n",
    "     However the catch is that if the number is divisible by 3 the method should return \"Fizz!\" \n",
    "     instead of the number, and if the number is divisible by 5 it should return \"Buzz!\", \n",
    "     and if divisible by both 3 and 5, use \"FizzBuzz!\". You’ll need to use the % \"mod\" \n",
    "     for computing the remainder after division, so 23 % 10 yields 3. \n",
    "\n",
    "     <br>\n",
    "     <br>\n",
    "     * <b>EXPECTATIONS:</b><br>\n",
    "     fizzyWizzy(1)   <b>---></b> \"1!\" <br>\n",
    "     fizzyWizzy(2)    <b>---></b> \"2!\" <br>\n",
    "     fizzyWizzy(3) <b>---></b> \"Fizz!\" <br>\n",
    "     */\n",
    "    public static String fizzyWizzy(int n) {\n",
    "        boolean fizz = (n % 3 == 0);\n",
    "        boolean buzz = (n % 5 == 0);\n",
    "\n",
    "        if (fizz && buzz) {\n",
    "            return \"FizzBuzz!\";\n",
    "        } else if (fizz) {\n",
    "            return \"Fizz!\";\n",
    "        } else if (buzz) {\n",
    "            return \"Buzz!\";\n",
    "        }\n",
    "        return n + \"!\";\n",
    "    }\n",
    "    \n",
    " System.out.println( fizzyWizzy(1));\n",
    " System.out.println( fizzyWizzy(2));\n",
    " System.out.println( fizzyWizzy(3));"
   ]
  },
  {
   "cell_type": "code",
   "execution_count": null,
   "metadata": {
    "scrolled": true
   },
   "outputs": [],
   "source": [
    "\n",
    "    /**\n",
    "\n",
    "     Given 3 int arguments - a, b, c, return their sum. However, if one of the arguments \n",
    "     is the same as any of the other ones, that number should not count towards the sum. \n",
    "     So basically you only sum unique numbers, not duplicates\n",
    "     <br>\n",
    "     <br>\n",
    "     * <b>EXPECTATIONS:</b><br>\n",
    "     sumUnique(1, 2, 3)   <b>---></b> 6 <br>\n",
    "     sumUnique(3, 2, 3)    <b>---></b> 2 <br>\n",
    "     sumUnique(3, 3, 3) <b>---></b> 0 <br>\n",
    "     */\n",
    "\n",
    "    public static int sumUnique(int a, int b, int c) {\n",
    "        if (a == b && b == c && a == c) {\n",
    "            return 0;\n",
    "        }\n",
    "        if (a == b) return c;\n",
    "        if (a == c) return b;\n",
    "        if (b == c) return a;\n",
    "        return a + b + c;\n",
    "    }\n",
    "      System.out.println(sumUnique(1, 2, 3));\n",
    "      System.out.println(sumUnique(3, 2, 3)); \n",
    "      System.out.println(sumUnique(3, 3, 3));    "
   ]
  },
  {
   "cell_type": "code",
   "execution_count": null,
   "metadata": {
    "scrolled": true
   },
   "outputs": [],
   "source": [
    "\n",
    "    /**\n",
    "     Given 2 positive int arguments (a, b), return whichever argument is \n",
    "     nearest to the number 21 without going over.\n",
    "     Return 0 if they both go over 21. \n",
    "     <br>\n",
    "     <br>\n",
    "     * <b>EXPECTATIONS:</b><br>\n",
    "     nearestTwentyOne(19, 21)   <b>---></b> 21 <br>\n",
    "     nearestTwentyOne(21, 19)    <b>---></b> 21 <br>\n",
    "     nearestTwentyOne(19, 22) <b>---></b> 19 <br>\n",
    "     nearestTwentyOne(32, 22) <b>---></b> 0 <br>\n",
    "     */\n",
    "\n",
    "    public static int nearestTwentyOne(int a, int b) {\n",
    "        int targetNumber = 21;\n",
    "        boolean aGoingOver = a > targetNumber;\n",
    "        boolean bGoingOver = b > targetNumber;\n",
    "        if (aGoingOver && bGoingOver) {\n",
    "            return 0;\n",
    "        }\n",
    "        if (aGoingOver) {\n",
    "            return b;\n",
    "        }\n",
    "        if (bGoingOver) {\n",
    "            return a;\n",
    "        }\n",
    "        if (targetNumber - a <= targetNumber - b) {\n",
    "            return a;\n",
    "        } else {\n",
    "            return b;\n",
    "        }\n",
    "    }\n",
    "System.out.println(nearestTwentyOne(19, 21));\n",
    "System.out.println(nearestTwentyOne(21, 19));\n",
    "System.out.println(nearestTwentyOne(19, 22));\n",
    "System.out.println(nearestTwentyOne(32, 22));"
   ]
  },
  {
   "cell_type": "code",
   "execution_count": null,
   "metadata": {
    "scrolled": true
   },
   "outputs": [],
   "source": [
    "\n",
    "    /**\n",
    "\n",
    "     Given 3 int arguments, a b c, return their sum. However, if one of the arguments is 13 \n",
    "     then it does not count towards the sum and arguments to it's right do not count either. \n",
    "     So for example, if b is 13, then both b and c do not count. \n",
    "     <br>\n",
    "     <br>\n",
    "     * <b>EXPECTATIONS:</b><br>\n",
    "     partialSum(1, 2, 3)   <b>---></b> 6 <br>\n",
    "     partialSum(1, 2, 13)    <b>---></b> 3 <br>\n",
    "     partialSum(1, 13, 3) <b>---></b> 1 <br>\n",
    "     */\n",
    "\n",
    "    public static int partialSum(int a, int b, int c) {\n",
    "\t\t/*int nums[] = new int[] {a, b, c};\n",
    "\t\tint result = 0;\n",
    "\t\tfor(int num: nums) {\n",
    "\t\t\tif(num == 13) {\n",
    "\t\t\t\tbreak;\n",
    "\t\t\t}\n",
    "\t\t\tresult += num;\n",
    "\t\t}\n",
    "\t\treturn result;\n",
    "*/\n",
    "        if (a == 13) return 0;\n",
    "        if (b == 13) return a;\n",
    "        if (c == 13) return a + b;\n",
    "        return a + b + c;\n",
    "    }\n",
    "\n",
    "System.out.println(partialSum(1, 2, 3));\n",
    "System.out.println(partialSum(1, 2, 13));\n",
    "System.out.println(partialSum(1, 13, 3));"
   ]
  },
  {
   "cell_type": "markdown",
   "metadata": {},
   "source": [
    "## 1.2 String Problems"
   ]
  },
  {
   "cell_type": "markdown",
   "metadata": {},
   "source": [
    "### 1.2.1 Return middle 3 character from a string"
   ]
  },
  {
   "cell_type": "code",
   "execution_count": null,
   "metadata": {
    "scrolled": true
   },
   "outputs": [],
   "source": [
    " /**\n",
    "     Given a string of odd length, return the middle 3 characters from the string, \n",
    "     so the string <b>\"Monitor\"</b> yields <b>\"nit\"</b>. \n",
    "     If the string length is less than 3, return the string as is. <br> <br>\n",
    "\n",
    "     <b>EXPECTATIONS:</b><br>\n",
    "     middleThree(\"bunny\") <b>---></b> \"unn\" <br>\n",
    "     middleThree(\"peter\") <b>---></b> \"ete\" <br>\n",
    "     middleThree(\"Jamaica\") <b>---></b>\"mai\" <br>\n",
    "     */\n",
    "\n",
    "    public static String middleThree(String str) {\n",
    "        String result = str;\n",
    "        if (str.length() > 3) {\n",
    "            int startIndex = (str.length() / 2) - 1;\n",
    "            int endIndex = startIndex + 3; //Substring excludes endIndex so its +3\n",
    "            result = str.substring(startIndex, endIndex);\n",
    "        }\n",
    "        return result;\n",
    "    }\n",
    "\n",
    "System.out.println(middleThree(\"bunny\"));\n",
    "System.out.println( middleThree(\"peter\"));"
   ]
  },
  {
   "cell_type": "markdown",
   "metadata": {},
   "source": [
    "### 1.2.2 Find the first non-repating char in a string"
   ]
  },
  {
   "cell_type": "code",
   "execution_count": 4,
   "metadata": {
    "scrolled": true
   },
   "outputs": [
    {
     "name": "stdout",
     "output_type": "stream",
     "text": [
      "The first non-repeated char in the word 'hello' is  h\n",
      "The first non-repeated char in the word 'lhlhhe' is  e\n"
     ]
    }
   ],
   "source": [
    "//String word = \"hhll\"; \n",
    "public void findFirstNonRepeatedChar(String word) {\n",
    "Map<Character, Integer> wordCount = new LinkedHashMap<>();\n",
    "char firstNonRepeatedChar=' ';\n",
    "for (char ch: word.toLowerCase().toCharArray()) {\n",
    "    wordCount.put( ch, wordCount.containsKey(ch) ? wordCount.get(ch) + 1: 1); \n",
    "}\n",
    "\n",
    "for (Map.Entry<Character, Integer> entry  : wordCount.entrySet()) {\n",
    "  if ( entry.getValue() == 1) {\n",
    "     firstNonRepeatedChar =  entry.getKey();\n",
    "     break;\n",
    "  }\n",
    "}\n",
    "System.out.println(\"The first non-repeated char in the word '\"+ word + \"' is  \"+ firstNonRepeatedChar);\n",
    "}\n",
    "\n",
    "findFirstNonRepeatedChar(\"hello\");\n",
    "findFirstNonRepeatedChar(\"lhlhhe\");\n"
   ]
  },
  {
   "cell_type": "raw",
   "metadata": {},
   "source": []
  },
  {
   "cell_type": "code",
   "execution_count": null,
   "metadata": {},
   "outputs": [],
   "source": []
  },
  {
   "cell_type": "markdown",
   "metadata": {},
   "source": [
    "### 1.2.3 String Recursive (\"The\") <b>---></b> \"TThhee\" <br>"
   ]
  },
  {
   "cell_type": "code",
   "execution_count": null,
   "metadata": {
    "scrolled": true
   },
   "outputs": [],
   "source": [
    "/**\n",
    "\n",
    "     Given a string, return a string where for every char in the original, append another. \n",
    "     <br>\n",
    "     <br>\n",
    "     * <b>EXPECTATIONS:</b><br>\n",
    "     repeatChar(\"The\")  <b>---></b>\"TThhee\"<br>\n",
    "     repeatChar(\"AAbb\")    <b>---></b> \"AAAAbbbb\" <br>\n",
    "     repeatChar(\"Hi-There\") <b>---></b> \"HHii--TThheerree\" <br>\n",
    "     */\n",
    "\n",
    "    public static String repeatChar(String str) {\n",
    "        if (str.length() <= 0) {\n",
    "            return str;\n",
    "        }\n",
    "        return str.charAt(0) + String.valueOf(str.charAt(0)) + repeatChar(str.substring(1));\n",
    "    }\n",
    "System.out.println(repeatChar(\"Hi-There\"));"
   ]
  },
  {
   "cell_type": "markdown",
   "metadata": {},
   "source": [
    "### 1.2.4 String remove * and other chars immediately to it left and right \"ab**cd\" <b>--></b>\"ad\""
   ]
  },
  {
   "cell_type": "code",
   "execution_count": null,
   "metadata": {
    "scrolled": true
   },
   "outputs": [],
   "source": [
    "/**\n",
    "     *\n",
    "     Return a version of the given string, where for every star (*) \n",
    "     in the string the star and the chars immediately to its left and right are gone. \n",
    "     So \"ab*cd\" yields \"ad\" and \"ab**cd\" also yields \"ad\". \t<br>\n",
    "     <br>\n",
    "     * <b>EXPECTATIONS:</b><br>\n",
    "     starKill(\"cd*zq\")  <b>---></b>\"cq\"<br>\n",
    "     starKill(\"ab**cd\")    <b>---></b> \"ad\" <br>\n",
    "     starKill(\"wacy*xko\") <b>---></b> \"wacko\" <br>\n",
    "     */\n",
    "\n",
    "    public static String starKill(String str) {\n",
    "        // ab*cd\n",
    "        String result = \"\";\n",
    "        int len = str.length();\n",
    "        for (int i = 0; i <= len - 1; i++) { //4\n",
    "            if (i == 0 && str.charAt(i) != '*') {\n",
    "                result += str.charAt(0);\n",
    "            }\n",
    "            if (i > 0 && str.charAt(i) != '*' && str.charAt(i - 1) != '*') {\n",
    "                result += str.charAt(i);\n",
    "            }\n",
    "            if (i > 0 && str.charAt(i) == '*' && str.charAt(i - 1) != '*') { //a\n",
    "                result = result.substring(0, result.length() - 1);\n",
    "            }\n",
    "        }\n",
    "        return result;\n",
    "    }\n",
    "\n",
    "System.out.println(starKill(\"cd*zq\"));\n",
    "System.out.println(starKill(\"ab**cd\"));\n",
    "System.out.println(starKill(\"wacy*xk*\"));"
   ]
  },
  {
   "cell_type": "code",
   "execution_count": null,
   "metadata": {
    "scrolled": true
   },
   "outputs": [],
   "source": [
    "\n",
    "\n",
    "    /**\n",
    "     *\n",
    "     Given a string, return the length of the longest streak of the same chars in the string. \n",
    "\n",
    "     <br>\n",
    "     <br>\n",
    "     * <b>EXPECTATIONS:</b><br>\n",
    "     longestStreak(\"hayyeu\") <b>---></b> 2<br>\n",
    "     longestStreak(\"XPNzzzddOOOxx\")  <b>---></b> 3 <br>\n",
    "     longestStreak(\"\")  <b>---></b> 0 <br>\n",
    "     */\n",
    "\n",
    "    public static int longestStreak(String str) {\n",
    "        int max = 0;\n",
    "        for (int  i = 0; i < str.length(); i++) {\n",
    "            int count = 0;\n",
    "           for (int j = 1; j < str.length(); j++ ) {\n",
    "               if ( str.charAt(i) == str.charAt(j)) {\n",
    "                   count++,\n",
    "               } else {\n",
    "                   break;\n",
    "               }\n",
    "           }\n",
    "           if (count > max) {\n",
    "               max = count;\n",
    "           }\n",
    "        }\n",
    "        return max;\n",
    "    }\n",
    "    \n",
    "System.out.println( longestStreak(\"hayyeu\"));\n",
    "System.out.println(longestStreak(\"XPNzzzddOOOxx\"));\n",
    "System.out.println( longestStreak(\"\") );\n",
    "   "
   ]
  },
  {
   "cell_type": "markdown",
   "metadata": {},
   "source": [
    "## Compute no of times \"yo\" comes in a string (recursively)"
   ]
  },
  {
   "cell_type": "code",
   "execution_count": null,
   "metadata": {
    "scrolled": true
   },
   "outputs": [],
   "source": [
    "  /**\n",
    "     *\n",
    "     Given a string, compute recursively (no loops) the number of times \n",
    "     lowercase \"yo\" appears in the string.\n",
    "     <br>\n",
    "     <br>\n",
    "     * <b>EXPECTATIONS:</b><br>\n",
    "     yoYo(\"xhyoxx\") <b>---></b> 1<br>\n",
    "     yoYo(\"nyonnyon\")<b>---></b> 2 <br>\n",
    "     yoYo(\"yo\")  <b>---></b> 1 <br>\n",
    "     */\n",
    "    public static int yoYo(String str) {\n",
    "     \n",
    "      if (str.length() < 2)\n",
    "        return 0;\n",
    "      \n",
    "      if (str.substring(0, 2).equalsIgnoreCase(\"yo\"))\n",
    "        return 1 + yoYo(str.substring(1));\n",
    "      else\n",
    "        return yoYo(str.substring(1));  \n",
    "        \n",
    "    }\n",
    "     \n",
    "    System.out.println(yoYo(\"xhyoxx\"));\n",
    "    System.out.println(yoYo(\"nyonnyon\"));\n",
    "    System.out.println(yoYo(\"yo\"));"
   ]
  },
  {
   "cell_type": "code",
   "execution_count": null,
   "metadata": {
    "scrolled": true
   },
   "outputs": [],
   "source": [
    "    /**\n",
    "     *\n",
    "     Given a string, compute recursively a new string where all the \n",
    "     lowercase 'o' chars have been moved to the end of the string.\n",
    "\n",
    "     <br>\n",
    "     <br>\n",
    "     * <b>EXPECTATIONS:</b><br>\n",
    "     endoo(\"oore\") <b>---></b> reoo<br>\n",
    "     endoo(\"oohoi\") <b>---></b> hiooo <br>\n",
    "     endoo(\"oanotgo\") <b>---></b> antgooo <br>\n",
    "     */\n",
    "\n",
    "    public static String endoo(String str) {\n",
    "        if (str.equals(\"\"))\n",
    "            return str;\n",
    "\n",
    "        if (str.charAt(0) == 'o') {\n",
    "            return endoo(str.substring(1)) + 'o';\n",
    "        } else {\n",
    "            return str.charAt(0) + endoo(str.substring(1));\n",
    "        }\n",
    "    }\n",
    "    \n",
    "    System.out.println( endoo(\"oore\") );\n",
    "    System.out.println(  endoo(\"oohoi\"));\n",
    "    System.out.println( endoo(\"oanotgo\") );\n"
   ]
  },
  {
   "cell_type": "code",
   "execution_count": 12,
   "metadata": {
    "scrolled": true
   },
   "outputs": [
    {
     "name": "stdout",
     "output_type": "stream",
     "text": [
      "hel-lo\n",
      "x-xy-y\n",
      "a-a-a-a\n"
     ]
    }
   ],
   "source": [
    "  /**\n",
    "     *\n",
    "\n",
    "     Given a string, compute recursively a new string where identical chars \n",
    "     that are adjacent in the original string are separated from each other by a \"-\".\n",
    "\n",
    "     <br>\n",
    "     <br>\n",
    "     * <b>EXPECTATIONS:</b><br>\n",
    "     repeatHyphen(\"hello\") <b>---></b> hel-lo<br>\n",
    "     repeatHyphen(\"xxyy\") <b>---></b> x-xy-y <br>\n",
    "     repeatHyphen(\"aaaa\") <b>---></b> a-a-a-a <br>\n",
    "     */\n",
    "\n",
    "    public static String hyphenSplit(String str) {\n",
    "\n",
    "         if ( str.length() < 2) {\n",
    "             return str;\n",
    "         }\n",
    "        if (str.charAt(0) == str.charAt(1)) {\n",
    "           return   (str.charAt(0) + \"-\" ) + hyphenSplit(str.substring(1));\n",
    "        } else {\n",
    "          return str.charAt(0) + hyphenSplit(str.substring(1));\n",
    "        }\n",
    "            \n",
    "    }\n",
    "\n",
    "System.out.println(hyphenSplit(\"hello\"));\n",
    "System.out.println(hyphenSplit(\"xxyy\"));\n",
    "System.out.println(hyphenSplit(\"aaaa\"));"
   ]
  },
  {
   "cell_type": "code",
   "execution_count": 17,
   "metadata": {
    "scrolled": true
   },
   "outputs": [
    {
     "name": "stdout",
     "output_type": "stream",
     "text": [
      "[abc]\n",
      "[hello]\n",
      "[xy]\n"
     ]
    }
   ],
   "source": [
    "/**\n",
    "     *\n",
    "\n",
    "     Given a string that contains a single pair of brackets, compute recursively a new string made of \n",
    "     only of the brackets and their contents, so \"xyz[abc]123\" yields \"[abc]\".\n",
    "\n",
    "     <br>\n",
    "     <br>\n",
    "     * <b>EXPECTATIONS:</b><br>\n",
    "     insideBrackets(\"xyz[abc]123\") <b>---></b> [abc]<br>\n",
    "     insideBrackets(\"x[hello]\") <b>---></b> [hello] <br>\n",
    "     insideBrackets(\"[xy]1\") <b>---></b> [xy] <br>\n",
    "     */\n",
    "\n",
    "    public static String insideBrackets(String str) {\n",
    "        if (str.charAt(0) != '[' ) {\n",
    "            return insideBrackets(str.substring(1));\n",
    "        }\n",
    "\n",
    "        if (str.charAt(str.length() - 1) != ']') {\n",
    "            return insideBrackets(str.substring(0, str.length() - 1));\n",
    "        }\n",
    "        return str;\n",
    "    }\n",
    "    \n",
    "System.out.println(insideBrackets(\"xyz[abc]123\")); \n",
    "System.out.println( insideBrackets(\"x[hello]\")); \n",
    "System.out.println(insideBrackets(\"[xy]1\"));\n",
    "    "
   ]
  },
  {
   "cell_type": "code",
   "execution_count": null,
   "metadata": {
    "scrolled": true
   },
   "outputs": [],
   "source": []
  }
 ],
 "metadata": {
  "kernelspec": {
   "display_name": "Java",
   "language": "java",
   "name": "java"
  },
  "language_info": {
   "codemirror_mode": "java",
   "file_extension": ".jshell",
   "mimetype": "text/x-java-source",
   "name": "Java",
   "pygments_lexer": "java",
   "version": "11.0.9+7-LTS"
  }
 },
 "nbformat": 4,
 "nbformat_minor": 4
}
