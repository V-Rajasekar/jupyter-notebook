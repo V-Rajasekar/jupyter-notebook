{
 "cells": [
  {
   "cell_type": "markdown",
   "metadata": {},
   "source": [
    "# Working with Java8"
   ]
  },
  {
   "cell_type": "markdown",
   "metadata": {},
   "source": [
    "1. Advanced processing feature(multi core, parallel processing, big data)\n",
    "2. Passing behavior (Code as data, Functional Programming Support)\n",
    "3. Enhanced Library\n",
    "\n",
    "Out Come\n",
    "- Lamda Expression\n",
    "  - Functional style\n",
    "  - Behaviour parameterisation\n",
    "- Interface evolution\n",
    "  - Concrete methods (default, static)\n",
    "  \n",
    "- @FunctionalInterface \n",
    "   - Contains a single abstract method\n",
    "- Functionas\n",
    "   - Predicate, Consumer, Supplier, IntPredicate..\n",
    "- Streams   \n",
    "   - New pipeline model\n",
    "   - parallelStream  slices the data in to diff cores\n",
    "   \n",
    "- Others\n",
    "    - New Date and Time API\n",
    "      - JODA time influence\n",
    "    "
   ]
  },
  {
   "cell_type": "markdown",
   "metadata": {},
   "source": [
    "What is Lambda ?\n",
    "\n",
    "`Lamda are compact code block that can be stored, passed around like data value to other method and executed later.`"
   ]
  },
  {
   "cell_type": "code",
   "execution_count": 12,
   "metadata": {},
   "outputs": [
    {
     "name": "stdout",
     "output_type": "stream",
     "text": [
      "Result:Hello Raj\n",
      "Result:Did you miss something ?\n"
     ]
    }
   ],
   "source": [
    "interface Greeting {\n",
    "    public String sayHello(String greet);\n",
    "}\n",
    "public void testGreeting(String who, Greeting g) {\n",
    "    System.out.println(\"Result:\" + g.sayHello(who));\n",
    "}\n",
    "\n",
    "testGreeting(\"Raj\",s -> \"Hello \"+s);\n",
    "\n",
    "testGreeting(\"\", s -> s.isEmpty() ? \"Did you miss something ?\": \"Hello \"+s);\n",
    "\n"
   ]
  },
  {
   "cell_type": "code",
   "execution_count": 25,
   "metadata": {},
   "outputs": [
    {
     "name": "stdout",
     "output_type": "stream",
     "text": [
      "Robert,Michael,Mary,mary,Linda,John,James,james,Barbara,"
     ]
    }
   ],
   "source": [
    "String[] nameArray= {\"Barbara\", \"James\", \"Mary\", \"John\", \"Robert\", \"Michael\", \"Linda\", \"james\", \"mary\"};\n",
    "\n",
    "//Revers sort\n",
    "Arrays.sort(nameArray, (s, t) -> t.compareToIgnoreCase(s));\n",
    "\n",
    "for(String name: nameArray) {\n",
    "   System.out.print(name+\",\");\n",
    "}\n"
   ]
  },
  {
   "cell_type": "markdown",
   "metadata": {},
   "source": [
    "#### Lambda scope\n",
    "\n",
    "Local variable and params are accessible inside lambda but they can't be changed. Its also advisable to not change the private instance var inside lambda bcos of concurrency issue.\n",
    "` Values of private fields can be updated in a lambda, \n",
    "  but not params and local vars(which are read-only)`"
   ]
  },
  {
   "cell_type": "code",
   "execution_count": 39,
   "metadata": {},
   "outputs": [
    {
     "ename": "CompilationException",
     "evalue": "",
     "output_type": "error",
     "traceback": [
      "\u001b[1m\u001b[30m|   \u001b[1m\u001b[30m        return new Thread(() -> System.out.println(s + (\u001b[0m\u001b[1m\u001b[30m\u001b[41mn\u001b[0m\u001b[1m\u001b[30m+= mRes)));\u001b[0m",
      "\u001b[1m\u001b[31mlocal variables referenced from a lambda expression must be final or effectively final\u001b[0m",
      ""
     ]
    }
   ],
   "source": [
    "class ClosureExample {\n",
    "\n",
    "private int mRes=2;\n",
    "\n",
    "    Thread makeThreadClosure(String s, int n) {\n",
    "      // return new Thread(() -> System.out.println(s + (mRes+= n)));\n",
    "        return new Thread(() -> System.out.println(s + (n+= mRes)));\n",
    "      //\n",
    "    }\n",
    "\n",
    "    public ClosureExample() throws InterruptedException {\n",
    "      Thread t = makeThreadClosure(\"result = \", 10);\n",
    "      t.start();\n",
    "      t.join();\n",
    "    }\n",
    "}\n",
    "ClosureExample clex = new ClosureExample();\n"
   ]
  },
  {
   "cell_type": "markdown",
   "metadata": {},
   "source": [
    "#### Method Reference\n",
    "A method reference is a compact, easy-to-read handle for a method that already has a name\n",
    "\n",
    "| Kind | Example |\n",
    "| :----------------------------------- | :---------------------------------------------- |\n",
    "| Static Method | Containing class::staticMethodName |\n",
    "| instance Method | containing obj ::InstanceMethodName |\n",
    "| instance Method of **Aribtary** obj | ContainingType::methodName |\n",
    "| Constructor | ClassName :: new |\n"
   ]
  },
  {
   "cell_type": "code",
   "execution_count": 80,
   "metadata": {},
   "outputs": [
    {
     "name": "stdout",
     "output_type": "stream",
     "text": [
      "BarbaraJamesjamesJohnLindaMarymaryMichaelRobertAge: 25\n"
     ]
    }
   ],
   "source": [
    "import java.util.stream.Stream;\n",
    "\n",
    "String[] nameArray= {\"Barbara\", \"James\", \"Mary\", \"John\", \"Robert\", \"Michael\", \"Linda\", \"james\", \"mary\"};\n",
    "\n",
    "//Arbitary method referece String::\n",
    "Arrays.sort(nameArray, String:: compareToIgnoreCase);\n",
    "\n",
    "//Method reference out::\n",
    "Stream.of(nameArray).forEach(System.out::print);\n",
    "\n",
    "public class Employee{\n",
    " String name;\n",
    " Integer age;\n",
    " //Contructor of employee\n",
    " public Employee(String name, Integer age){\n",
    "  this.name=name;\n",
    "  this.age=age;\n",
    " }\n",
    " \n",
    " public int getAge() {return age;}\n",
    "}\n",
    " public interface EmployeeFactory {\n",
    "   public abstract Employee getEmployee(String name, Integer age);\n",
    "   \n",
    "}\n",
    "\n",
    "EmployeeFactory empFactory=Employee::new;\n",
    "Employee emp= empFactory.getEmployee(\"John Hammond\", 25);\n",
    "System.out.println(\"Age: \"+ emp.getAge());\n"
   ]
  },
  {
   "cell_type": "markdown",
   "metadata": {},
   "source": [
    "#### Functional Interface\n",
    "\n",
    "A functional interface contains only one abstract methods\n",
    "\n",
    "`(e.g) Comparator, Runnable, Callable interfaces `\n",
    "\n",
    "There are many Java8 functional interfaces among them the most common are:\n",
    "\n",
    "| NO |Type| Description | Syntax |\n",
    "| :--- | :--- | :--- | :--- |\n",
    "| 1.| Predicate | Performs a test that return true or false| boolean test(T t); |\n",
    "| 2.| Function | Function applies a computation on 1 parameter & returns a result,| public interface Function<T, R> { R apply(T t); } |\n",
    "| 3.| Consumer | Consumeraccepts a parameter & returns no results|public interface Consumer<T> { void accept(T t); } |\n",
    "| 4.| Supplier | Returns a value & takes no parameters|public interface Supplier<T> { T get(); } |\n",
    "| 5.| BiFunction | BiFunctionapplies a computation on 2 parameters & returns a result |\n",
    "public interface BiFunction<T, U, R> { R apply(T t, U u); } |\n",
    "    "
   ]
  },
  {
   "cell_type": "markdown",
   "metadata": {},
   "source": [
    "##### Predicate"
   ]
  },
  {
   "cell_type": "code",
   "execution_count": 4,
   "metadata": {},
   "outputs": [
    {
     "name": "stdout",
     "output_type": "stream",
     "text": [
      "{Moe=110, Larry=100, Curly=90}\n",
      "{Moe=110}\n"
     ]
    }
   ],
   "source": [
    "//Predicate\n",
    "Map<String, Integer> iqMap=\n",
    "    new ConcurrentHashMap<String, Integer>() { {\n",
    "       put(\"Larry\", 100); put(\"Curly\", 90); put(\"Moe\", 110);\n",
    "    }\n",
    "};\n",
    "System.out.println(iqMap);\n",
    "iqMap.entrySet().removeIf(entry -> entry.getValue() <= 100);\n",
    "System.out.println(iqMap);"
   ]
  },
  {
   "cell_type": "markdown",
   "metadata": {},
   "source": [
    "###### Composing Predicate \n",
    "Logical Operator and, or, not(negate), isEqual "
   ]
  },
  {
   "cell_type": "code",
   "execution_count": 28,
   "metadata": {},
   "outputs": [
    {
     "name": "stdout",
     "output_type": "stream",
     "text": [
      "BigTrade: true\n"
     ]
    }
   ],
   "source": [
    "import java.util.function.Predicate;\n",
    "\n",
    "class Trade {\n",
    "  int tradeValue = 1000;\n",
    "  String status = \"CANCELLED\";\n",
    "  \n",
    "  Trade(int tradeValue, String status) {\n",
    "     this.tradeValue = tradeValue;\n",
    "     this.status = status;\n",
    "  }\n",
    "  \n",
    "  public boolean isBigTrade(){\n",
    "        return this.tradeValue > 100000;\n",
    "  }\n",
    "  public boolean isCancelled() {\n",
    "        return this.status.equals(\"CANCELLED\");\n",
    "  }\n",
    "}\n",
    "\n",
    "Trade testTrade = new Trade(200000, \"CANCELLED\");\n",
    "Predicate<Trade> bigTrade = t -> t.isBigTrade();\n",
    "Predicate<Trade> cancelledTrade = t -> t.isCancelled();\n",
    " \n",
    "System.out.println(\"BigTrade: \" + (bigTrade.and(cancelledTrade)).test(testTrade));\n",
    "\n"
   ]
  },
  {
   "cell_type": "markdown",
   "metadata": {},
   "source": [
    "###### Function"
   ]
  },
  {
   "cell_type": "code",
   "execution_count": 37,
   "metadata": {},
   "outputs": [
    {
     "name": "stdout",
     "output_type": "stream",
     "text": [
      "Name: Chandru\n"
     ]
    }
   ],
   "source": [
    "import java.util.function.Function;\n",
    "\n",
    "public class Employee{\n",
    " String name;\n",
    " \n",
    " //Contructor of employee\n",
    " public Employee(String name){\n",
    "  this.name=name;\n",
    "  \n",
    " }\n",
    "}\n",
    "\n",
    "Function <String, Employee> createEmployee = s -> new Employee(s);\n",
    "\n",
    "public void testFunction(String name) { Employee employee = createEmployee.apply(name);\n",
    "                                      System.out.println(\"Name: \"+ employee.name);}\n",
    "\n",
    "testFunction(\"Chandru\")\n",
    "    \n"
   ]
  },
  {
   "cell_type": "code",
   "execution_count": 24,
   "metadata": {},
   "outputs": [
    {
     "name": "stdout",
     "output_type": "stream",
     "text": [
      "{Moe=110, Larry=100, Curly=90}\n",
      "{Moe=60, Larry=50, Curly=40}\n"
     ]
    }
   ],
   "source": [
    "\n",
    "// Bi Function\n",
    "\n",
    "Map<String, Integer> iqMap= new ConcurrentHashMap<String, Integer>() {\n",
    "{ put(\"Larry\", 100); put(\"Curly\", 90); put(\"Moe\", 110); }\n",
    "};\n",
    "System.out.println(iqMap);\n",
    "iqMap.replaceAll( (k,v) -> v = v-50);\n",
    "System.out.println(iqMap);"
   ]
  },
  {
   "cell_type": "code",
   "execution_count": null,
   "metadata": {},
   "outputs": [],
   "source": []
  }
 ],
 "metadata": {
  "kernelspec": {
   "display_name": "Java",
   "language": "java",
   "name": "java"
  },
  "language_info": {
   "codemirror_mode": "java",
   "file_extension": ".java",
   "mimetype": "text/x-java-source",
   "name": "Java",
   "pygments_lexer": "java",
   "version": "11.0.1+13-LTS"
  }
 },
 "nbformat": 4,
 "nbformat_minor": 2
}
