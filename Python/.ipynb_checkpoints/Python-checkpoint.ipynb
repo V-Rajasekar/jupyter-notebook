{
 "cells": [
  {
   "cell_type": "markdown",
   "metadata": {
    "colab_type": "text",
    "id": "tLLwcBzC5Ohr"
   },
   "source": [
    "# 1. How to Install python"
   ]
  },
  {
   "cell_type": "markdown",
   "metadata": {
    "colab_type": "text",
    "id": "YvpbAgb35cls"
   },
   "source": [
    "Install python from"
   ]
  },
  {
   "cell_type": "markdown",
   "metadata": {
    "colab_type": "text",
    "id": "vD0Od9rV5nyC"
   },
   "source": [
    "# 2. Declaration and DataTypes\n",
    "\n",
    "### 2.1 What type python understand ?\n",
    "- Int                \n",
    "- float\n",
    "- str\n",
    "-  bool\n",
    "\n",
    "### 2.2 Declaring a variable in python\n",
    "\n",
    "*Variable name can be mix of alpha,_ and numeric but should always start with alpha or _*\n",
    "\n",
    "### 2.3 Functions"
   ]
  },
  {
   "cell_type": "code",
   "execution_count": 0,
   "metadata": {
    "colab": {
     "base_uri": "https://localhost:8080/",
     "height": 85
    },
    "colab_type": "code",
    "executionInfo": {
     "elapsed": 576,
     "status": "ok",
     "timestamp": 1588323514411,
     "user": {
      "displayName": "Rajasekar Vadivelu",
      "photoUrl": "https://lh3.googleusercontent.com/a-/AOh14GiU1ng948bUWAUTXcxJyn-j01_qyfhA_EgvX-43Iw=s64",
      "userId": "00598683554340477825"
     },
     "user_tz": -120
    },
    "id": "fZhSaLqk54_x",
    "outputId": "82125d1c-8c58-4aa6-dd10-8a501ee996b9"
   },
   "outputs": [
    {
     "name": "stdout",
     "output_type": "stream",
     "text": [
      "1\n",
      "<class 'str'>\n",
      "<class 'int'>\n"
     ]
    },
    {
     "data": {
      "text/plain": [
       "5"
      ]
     },
     "execution_count": 4,
     "metadata": {
      "tags": []
     },
     "output_type": "execute_result"
    }
   ],
   "source": [
    "a = 1\n",
    "print(a)\n",
    "# Converting from String to int\n",
    "print(type(str(45.6)))\n",
    "# Converting int to String\n",
    "int_value = int(\"256\")\n",
    "print(type(int_value))\n",
    "len('Hello')\n",
    "\n"
   ]
  },
  {
   "cell_type": "markdown",
   "metadata": {
    "colab_type": "text",
    "id": "eIc7pHtNmy0x"
   },
   "source": [
    "### 2.4 Comparision\n",
    "Comparisions\n",
    "\n",
    "|Comparsion|Result|\n",
    "|---|---|\n",
    "|0 == 0|True|\n",
    "|0 !=1   | True|\n",
    "|\"a\" == \"A\"| False|\n",
    "|1   > 0| True|\n",
    "|\"H\" in \"Hello\"|True|\n",
    "|\"X\" not in \"Hello\"|True|"
   ]
  },
  {
   "cell_type": "code",
   "execution_count": 0,
   "metadata": {
    "colab": {
     "base_uri": "https://localhost:8080/",
     "height": 34
    },
    "colab_type": "code",
    "executionInfo": {
     "elapsed": 598,
     "status": "ok",
     "timestamp": 1542658746249,
     "user": {
      "displayName": "Rajasekar Vadivelu",
      "photoUrl": "https://lh5.googleusercontent.com/-OA4M9zFJqyA/AAAAAAAAAAI/AAAAAAAAAJ4/5QOQlNc5d2Q/s64/photo.jpg",
      "userId": "00598683554340477825"
     },
     "user_tz": -60
    },
    "id": "JpvAMeIKnh4h",
    "outputId": "c0b71140-c579-4c16-8f49-00e390a3d1fa"
   },
   "outputs": [
    {
     "data": {
      "text/plain": [
       "False"
      ]
     },
     "execution_count": 19,
     "metadata": {
      "tags": []
     },
     "output_type": "execute_result"
    }
   ],
   "source": [
    "\n",
    "\"A\" in \"Hello\"\n"
   ]
  },
  {
   "cell_type": "markdown",
   "metadata": {
    "colab_type": "text",
    "id": "l_1Ekof3oP-n"
   },
   "source": [
    "### 2.5 Condition Statement\n",
    "\n",
    "\n"
   ]
  },
  {
   "cell_type": "markdown",
   "metadata": {
    "colab_type": "text",
    "id": "_lnyQAQLz4RB"
   },
   "source": [
    "####  If, if elif else and if else"
   ]
  },
  {
   "cell_type": "code",
   "execution_count": 0,
   "metadata": {
    "colab": {
     "base_uri": "https://localhost:8080/",
     "height": 34
    },
    "colab_type": "code",
    "executionInfo": {
     "elapsed": 562,
     "status": "ok",
     "timestamp": 1542658853962,
     "user": {
      "displayName": "Rajasekar Vadivelu",
      "photoUrl": "https://lh5.googleusercontent.com/-OA4M9zFJqyA/AAAAAAAAAAI/AAAAAAAAAJ4/5QOQlNc5d2Q/s64/photo.jpg",
      "userId": "00598683554340477825"
     },
     "user_tz": -60
    },
    "id": "Znq6DJx6oaGf",
    "outputId": "f48e6bc6-6a00-4b18-8f59-90aad80fd385"
   },
   "outputs": [
    {
     "name": "stdout",
     "output_type": "stream",
     "text": [
      "Six is greater than 5\n"
     ]
    }
   ],
   "source": [
    "if 6>5:\n",
    "      print(\"Six is greater than 5\")\n"
   ]
  },
  {
   "cell_type": "code",
   "execution_count": 0,
   "metadata": {
    "colab": {
     "base_uri": "https://localhost:8080/",
     "height": 34
    },
    "colab_type": "code",
    "executionInfo": {
     "elapsed": 601,
     "status": "ok",
     "timestamp": 1542658928939,
     "user": {
      "displayName": "Rajasekar Vadivelu",
      "photoUrl": "https://lh5.googleusercontent.com/-OA4M9zFJqyA/AAAAAAAAAAI/AAAAAAAAAJ4/5QOQlNc5d2Q/s64/photo.jpg",
      "userId": "00598683554340477825"
     },
     "user_tz": -60
    },
    "id": "-JqM5MA3or3G",
    "outputId": "def2a635-6d45-4612-9f9f-b9603980260f"
   },
   "outputs": [
    {
     "name": "stdout",
     "output_type": "stream",
     "text": [
      "A is greater than B\n"
     ]
    }
   ],
   "source": [
    "a = 1\n",
    "b = 0\n",
    "if  a >  b:\n",
    "     print(\"A is greater than B\")\n",
    "else:\n",
    "      print(\"A is not greater than B\")\n"
   ]
  },
  {
   "cell_type": "code",
   "execution_count": 0,
   "metadata": {
    "colab": {
     "base_uri": "https://localhost:8080/",
     "height": 34
    },
    "colab_type": "code",
    "executionInfo": {
     "elapsed": 719,
     "status": "ok",
     "timestamp": 1542659019282,
     "user": {
      "displayName": "Rajasekar Vadivelu",
      "photoUrl": "https://lh5.googleusercontent.com/-OA4M9zFJqyA/AAAAAAAAAAI/AAAAAAAAAJ4/5QOQlNc5d2Q/s64/photo.jpg",
      "userId": "00598683554340477825"
     },
     "user_tz": -60
    },
    "id": "91ETXY6cpClv",
    "outputId": "462a485c-95e2-4749-c705-5bb3411fbcd7"
   },
   "outputs": [
    {
     "name": "stdout",
     "output_type": "stream",
     "text": [
      "A is greater than B\n"
     ]
    }
   ],
   "source": [
    "a = 1\n",
    "b = 0\n",
    "if  a >  b:\n",
    "     print(\"A is greater than B\")\n",
    "elif a ==b:\n",
    "    print(\"A and B are equals\")\n",
    "else:      \n",
    "    print(\"A is not greater than B\")\n"
   ]
  },
  {
   "cell_type": "markdown",
   "metadata": {
    "colab_type": "text",
    "id": "CkBbjdUto9V0"
   },
   "source": [
    "####  Compound conditions\n",
    "##### 1. and or"
   ]
  },
  {
   "cell_type": "code",
   "execution_count": 0,
   "metadata": {
    "colab": {
     "base_uri": "https://localhost:8080/",
     "height": 34
    },
    "colab_type": "code",
    "executionInfo": {
     "elapsed": 662,
     "status": "ok",
     "timestamp": 1542659205677,
     "user": {
      "displayName": "Rajasekar Vadivelu",
      "photoUrl": "https://lh5.googleusercontent.com/-OA4M9zFJqyA/AAAAAAAAAAI/AAAAAAAAAJ4/5QOQlNc5d2Q/s64/photo.jpg",
      "userId": "00598683554340477825"
     },
     "user_tz": -60
    },
    "id": "NHxXilxcptZk",
    "outputId": "81531d88-136e-46fc-d422-385d88edff02"
   },
   "outputs": [
    {
     "data": {
      "text/plain": [
       "False"
      ]
     },
     "execution_count": 30,
     "metadata": {
      "tags": []
     },
     "output_type": "execute_result"
    }
   ],
   "source": [
    "  1 < 2 and \"X\" in \"abc\"  \n",
    "  \n"
   ]
  },
  {
   "cell_type": "code",
   "execution_count": 0,
   "metadata": {
    "colab": {
     "base_uri": "https://localhost:8080/",
     "height": 34
    },
    "colab_type": "code",
    "executionInfo": {
     "elapsed": 645,
     "status": "ok",
     "timestamp": 1542659213132,
     "user": {
      "displayName": "Rajasekar Vadivelu",
      "photoUrl": "https://lh5.googleusercontent.com/-OA4M9zFJqyA/AAAAAAAAAAI/AAAAAAAAAJ4/5QOQlNc5d2Q/s64/photo.jpg",
      "userId": "00598683554340477825"
     },
     "user_tz": -60
    },
    "id": "57X3HSgXp3gM",
    "outputId": "7ac4c3e9-ced3-4627-d408-139a097d5aac"
   },
   "outputs": [
    {
     "data": {
      "text/plain": [
       "True"
      ]
     },
     "execution_count": 31,
     "metadata": {
      "tags": []
     },
     "output_type": "execute_result"
    }
   ],
   "source": [
    "1 < 2 or \"X\" in \"abc\""
   ]
  },
  {
   "cell_type": "markdown",
   "metadata": {
    "colab_type": "text",
    "id": "G1YzRXpZqZaJ"
   },
   "source": [
    "####  While Loop"
   ]
  },
  {
   "cell_type": "code",
   "execution_count": 0,
   "metadata": {
    "colab": {
     "base_uri": "https://localhost:8080/",
     "height": 102
    },
    "colab_type": "code",
    "executionInfo": {
     "elapsed": 615,
     "status": "ok",
     "timestamp": 1542659407984,
     "user": {
      "displayName": "Rajasekar Vadivelu",
      "photoUrl": "https://lh5.googleusercontent.com/-OA4M9zFJqyA/AAAAAAAAAAI/AAAAAAAAAJ4/5QOQlNc5d2Q/s64/photo.jpg",
      "userId": "00598683554340477825"
     },
     "user_tz": -60
    },
    "id": "REYoVn4SqegE",
    "outputId": "2ae6ac7d-38b2-4324-8fde-d1f3ab37b769"
   },
   "outputs": [
    {
     "name": "stdout",
     "output_type": "stream",
     "text": [
      "Hello0\n",
      "Hello1\n",
      "Hello2\n",
      "Hello3\n",
      "Hello4\n"
     ]
    }
   ],
   "source": [
    "counter = 0\n",
    "while counter < 5:\n",
    "\tprint(\"Hello\" + str(counter))\n",
    "\tcounter = counter + 1\n"
   ]
  },
  {
   "cell_type": "markdown",
   "metadata": {
    "colab_type": "text",
    "id": "zxOghotPtFok"
   },
   "source": [
    "####  For\n"
   ]
  },
  {
   "cell_type": "markdown",
   "metadata": {
    "colab_type": "text",
    "id": "UAewqAn8hV-X"
   },
   "source": [
    "##### For each"
   ]
  },
  {
   "cell_type": "code",
   "execution_count": 0,
   "metadata": {
    "colab": {
     "base_uri": "https://localhost:8080/",
     "height": 102
    },
    "colab_type": "code",
    "executionInfo": {
     "elapsed": 492,
     "status": "ok",
     "timestamp": 1588324363185,
     "user": {
      "displayName": "Rajasekar Vadivelu",
      "photoUrl": "https://lh3.googleusercontent.com/a-/AOh14GiU1ng948bUWAUTXcxJyn-j01_qyfhA_EgvX-43Iw=s64",
      "userId": "00598683554340477825"
     },
     "user_tz": -120
    },
    "id": "q25O2IbgtJE3",
    "outputId": "950c2ae3-3ebe-4875-c51f-e1a33c2bb82e"
   },
   "outputs": [
    {
     "name": "stdout",
     "output_type": "stream",
     "text": [
      "Alice\n",
      "Amy\n",
      "Mani\n",
      "radarchandru\n",
      "Amma\n"
     ]
    }
   ],
   "source": [
    "names = [\"Alice\", \"Amy\", 'Mani', \"radar\"'chandru', \"Amma\"]\n",
    "for name in names:\n",
    "   print(name)"
   ]
  },
  {
   "cell_type": "markdown",
   "metadata": {
    "colab_type": "text",
    "id": "cHDe-EBof2yJ"
   },
   "source": [
    "##### For i in range .."
   ]
  },
  {
   "cell_type": "code",
   "execution_count": 0,
   "metadata": {
    "colab": {
     "base_uri": "https://localhost:8080/",
     "height": 102
    },
    "colab_type": "code",
    "executionInfo": {
     "elapsed": 501,
     "status": "ok",
     "timestamp": 1588324405809,
     "user": {
      "displayName": "Rajasekar Vadivelu",
      "photoUrl": "https://lh3.googleusercontent.com/a-/AOh14GiU1ng948bUWAUTXcxJyn-j01_qyfhA_EgvX-43Iw=s64",
      "userId": "00598683554340477825"
     },
     "user_tz": -120
    },
    "id": "oH3Uki7egTmY",
    "outputId": "2136922c-2676-455a-d6cc-158364294587"
   },
   "outputs": [
    {
     "name": "stdout",
     "output_type": "stream",
     "text": [
      "Alice\n",
      "Amy\n",
      "Mani\n",
      "radarchandru\n",
      "Amma\n"
     ]
    }
   ],
   "source": [
    "names = [\"Alice\", \"Amy\", 'Mani', \"radar\"'chandru', \"Amma\"]\n",
    "for item in range(len(names)):\n",
    "  print(names[item])"
   ]
  },
  {
   "cell_type": "markdown",
   "metadata": {
    "colab_type": "text",
    "id": "hyicAKErrVSG"
   },
   "source": [
    "# 3. Modules\n",
    "\t• Adding additional functionality through modules\n",
    "\t• Django            \n",
    "\t• Matplotlib      \n",
    "\t• Python twitter\n",
    "  - data analysis\n",
    "  - build website\n"
   ]
  },
  {
   "cell_type": "code",
   "execution_count": 0,
   "metadata": {
    "colab": {
     "base_uri": "https://localhost:8080/",
     "height": 34
    },
    "colab_type": "code",
    "executionInfo": {
     "elapsed": 670,
     "status": "ok",
     "timestamp": 1543553836350,
     "user": {
      "displayName": "Rajasekar Vadivelu",
      "photoUrl": "https://lh5.googleusercontent.com/-OA4M9zFJqyA/AAAAAAAAAAI/AAAAAAAAAJ4/5QOQlNc5d2Q/s64/photo.jpg",
      "userId": "00598683554340477825"
     },
     "user_tz": -60
    },
    "id": "SMSH5nBSrcS4",
    "outputId": "93a09943-9b89-47b1-c0de-13e962f44837"
   },
   "outputs": [
    {
     "data": {
      "text/plain": [
       "6"
      ]
     },
     "execution_count": 1,
     "metadata": {
      "tags": []
     },
     "output_type": "execute_result"
    }
   ],
   "source": [
    "\timport random    #adding modules\n",
    "  \n",
    "\trandom.randint(1,6)\n",
    "  \n",
    "  \n",
    "\n"
   ]
  },
  {
   "cell_type": "code",
   "execution_count": 0,
   "metadata": {
    "colab": {
     "base_uri": "https://localhost:8080/",
     "height": 34
    },
    "colab_type": "code",
    "executionInfo": {
     "elapsed": 622,
     "status": "ok",
     "timestamp": 1543553844814,
     "user": {
      "displayName": "Rajasekar Vadivelu",
      "photoUrl": "https://lh5.googleusercontent.com/-OA4M9zFJqyA/AAAAAAAAAAI/AAAAAAAAAJ4/5QOQlNc5d2Q/s64/photo.jpg",
      "userId": "00598683554340477825"
     },
     "user_tz": -60
    },
    "id": "g3ugasp8sCEm",
    "outputId": "606f7738-d849-41ef-f334-6d2351602b2a"
   },
   "outputs": [
    {
     "data": {
      "text/plain": [
       "'Jack'"
      ]
     },
     "execution_count": 2,
     "metadata": {
      "tags": []
     },
     "output_type": "execute_result"
    }
   ],
   "source": [
    "import random\n",
    "cards=[\"Ace\", \"Queen\", \"King\", \"Jack\"]\n",
    "random.choice(cards)"
   ]
  },
  {
   "cell_type": "markdown",
   "metadata": {
    "colab_type": "text",
    "id": "kJ7tzcET6ciy"
   },
   "source": [
    "# 4. Data Structure"
   ]
  },
  {
   "cell_type": "markdown",
   "metadata": {
    "colab_type": "text",
    "id": "J7Rh6p176vpa"
   },
   "source": [
    "#### 1. **Three variants of Collections in python**\n",
    "*   List             - Insertion order allows duplicate\n",
    "*   Map           - Key value pair\n",
    "*   Set              - Order is not consistent allows duplicate\n",
    "\n",
    "\n"
   ]
  },
  {
   "cell_type": "markdown",
   "metadata": {
    "colab_type": "text",
    "id": "a48B7gw_iSDr"
   },
   "source": [
    "##### List"
   ]
  },
  {
   "cell_type": "code",
   "execution_count": 0,
   "metadata": {
    "colab": {
     "base_uri": "https://localhost:8080/",
     "height": 34
    },
    "colab_type": "code",
    "executionInfo": {
     "elapsed": 623,
     "status": "ok",
     "timestamp": 1542660011029,
     "user": {
      "displayName": "Rajasekar Vadivelu",
      "photoUrl": "https://lh5.googleusercontent.com/-OA4M9zFJqyA/AAAAAAAAAAI/AAAAAAAAAJ4/5QOQlNc5d2Q/s64/photo.jpg",
      "userId": "00598683554340477825"
     },
     "user_tz": -60
    },
    "id": "g2vRjGor7Khd",
    "outputId": "f82d87d7-f50a-491f-9c38-1cbe6913bb1a"
   },
   "outputs": [
    {
     "data": {
      "text/plain": [
       "'Boob'"
      ]
     },
     "execution_count": 53,
     "metadata": {
      "tags": []
     },
     "output_type": "execute_result"
    }
   ],
   "source": [
    "# LIST\n",
    "your_list = [\"a\",\"b\", \"c\"]\n",
    "len(your_list)   \t\t\t\t#Finding the length of the list\n",
    "empty_list = [] \t\t\t\t#Create a empty list \n",
    "\n",
    "names = [\"Alice\", \"Amy\"]          \n",
    "names.append('Boob')  \t\t\t#appending list\n",
    "names[0] = 'Jimmy'    \t\t\t#Replace first element in the list\n",
    "names[-1]        \t\t\t\t#Returns the last element in the list\n"
   ]
  },
  {
   "cell_type": "markdown",
   "metadata": {
    "colab_type": "text",
    "id": "afXtE7CyiYGM"
   },
   "source": [
    "##### Set"
   ]
  },
  {
   "cell_type": "code",
   "execution_count": 0,
   "metadata": {
    "colab": {
     "base_uri": "https://localhost:8080/",
     "height": 102
    },
    "colab_type": "code",
    "executionInfo": {
     "elapsed": 590,
     "status": "ok",
     "timestamp": 1588325373871,
     "user": {
      "displayName": "Rajasekar Vadivelu",
      "photoUrl": "https://lh3.googleusercontent.com/a-/AOh14GiU1ng948bUWAUTXcxJyn-j01_qyfhA_EgvX-43Iw=s64",
      "userId": "00598683554340477825"
     },
     "user_tz": -120
    },
    "id": "MIPpX31etl-e",
    "outputId": "cbd42c82-4316-43ad-cc1b-4b30429ff86b"
   },
   "outputs": [
    {
     "name": "stdout",
     "output_type": "stream",
     "text": [
      "{'c', 'a', 'b', 'd'}\n",
      "Length: 4\n",
      "{'a', 'b', 'd'}\n",
      "{'b', 'd'}\n",
      "{'d'}\n"
     ]
    }
   ],
   "source": [
    "# Set\n",
    "my_set = set()\n",
    "my_set.add(\"a\")\n",
    "my_set.add(\"b\")\n",
    "my_set.add(\"c\")\n",
    "my_set.add(\"d\")\n",
    "my_set.add(\"a\")\n",
    "print(my_set)\n",
    "print(\"Length: {}\".format(len(my_set)))\n",
    "my_set.pop()\n",
    "print(my_set)\n",
    "my_set.pop()\n",
    "print(my_set)\n",
    "# my_set.remove(\"a\") # Removing element not in the collection will throw KeyError\n",
    "my_set.remove('b')\n",
    "print(my_set)"
   ]
  },
  {
   "cell_type": "markdown",
   "metadata": {
    "colab_type": "text",
    "id": "BVWf-lsDkkOs"
   },
   "source": [
    "##### Dictionaries"
   ]
  },
  {
   "cell_type": "code",
   "execution_count": 0,
   "metadata": {
    "colab": {
     "base_uri": "https://localhost:8080/",
     "height": 170
    },
    "colab_type": "code",
    "executionInfo": {
     "elapsed": 479,
     "status": "ok",
     "timestamp": 1588326498395,
     "user": {
      "displayName": "Rajasekar Vadivelu",
      "photoUrl": "https://lh3.googleusercontent.com/a-/AOh14GiU1ng948bUWAUTXcxJyn-j01_qyfhA_EgvX-43Iw=s64",
      "userId": "00598683554340477825"
     },
     "user_tz": -120
    },
    "id": "iYOtiUvruIa7",
    "outputId": "bb18b462-2395-4afa-c6d0-1d9b0ef786e6"
   },
   "outputs": [
    {
     "name": "stdout",
     "output_type": "stream",
     "text": [
      "---All existing key value pairs---\n",
      "Alice chocloate\n",
      "Bob strawberry\n",
      "cara mint choc\n",
      "---Should print Alice cara Raj---\n",
      "Alice\n",
      "cara\n",
      "Raj\n"
     ]
    },
    {
     "data": {
      "text/plain": [
       "False"
      ]
     },
     "execution_count": 45,
     "metadata": {
      "tags": []
     },
     "output_type": "execute_result"
    }
   ],
   "source": [
    "# Dictonaries \n",
    "  #creating empty map\n",
    "\tphone_numbers  = { }       \n",
    "\n",
    "# Initializing\n",
    "\tice_creams = {\"Alice\": \"chocloate\", \"Bob\": \"strawberry\", \"cara\":\n",
    "\t \"mint choc\" } # Dcl dict with value\n",
    "\tprint(\"---All existing key value pairs---\")\n",
    "\tfor x, y in ice_creams.items(): \n",
    "\t\tprint(x,y)\n",
    "# Adding\t \n",
    "\tice_creams[\"Raj\"] = \"Vanilla\" # Adding a new element\n",
    "# Removing\n",
    "print(\"---Should print Alice cara Raj---\")\n",
    "\tice_creams.pop(\"Bob\")\n",
    "\tfor key in ice_creams.keys(): \n",
    "\t\tprint(key)\n",
    "\n",
    "\t\"Eve\" in ice_creams                 #check the presenence of element in a dicnarioes false\n"
   ]
  },
  {
   "cell_type": "markdown",
   "metadata": {
    "colab_type": "text",
    "id": "y4LMaNsDuwbN"
   },
   "source": [
    "#### 2. Converting List to Dictionary with Default value"
   ]
  },
  {
   "cell_type": "code",
   "execution_count": 0,
   "metadata": {
    "colab": {
     "base_uri": "https://localhost:8080/",
     "height": 34
    },
    "colab_type": "code",
    "executionInfo": {
     "elapsed": 616,
     "status": "ok",
     "timestamp": 1542660484549,
     "user": {
      "displayName": "Rajasekar Vadivelu",
      "photoUrl": "https://lh5.googleusercontent.com/-OA4M9zFJqyA/AAAAAAAAAAI/AAAAAAAAAJ4/5QOQlNc5d2Q/s64/photo.jpg",
      "userId": "00598683554340477825"
     },
     "user_tz": -60
    },
    "id": "aVhnIVA4unXf",
    "outputId": "1f6eff96-1a5f-4a45-abf2-a36599422957"
   },
   "outputs": [
    {
     "name": "stdout",
     "output_type": "stream",
     "text": [
      "{'Amy': 1, 'Mani': 1, 'chandru': 1, 'Alice': 1}\n"
     ]
    }
   ],
   "source": [
    "word_list =  [\"Alice\", \"Amy\", 'Mani', 'chandru']\n",
    "word_dict= dict((resword, 1) for resword in word_list)\n",
    "print(word_dict)"
   ]
  },
  {
   "cell_type": "markdown",
   "metadata": {
    "colab_type": "text",
    "id": "ZbJzMR8FvHwu"
   },
   "source": [
    "### 3. Converting List to Set\n",
    "\n"
   ]
  },
  {
   "cell_type": "code",
   "execution_count": 0,
   "metadata": {
    "colab": {
     "base_uri": "https://localhost:8080/",
     "height": 34
    },
    "colab_type": "code",
    "executionInfo": {
     "elapsed": 584,
     "status": "ok",
     "timestamp": 1542660684657,
     "user": {
      "displayName": "Rajasekar Vadivelu",
      "photoUrl": "https://lh5.googleusercontent.com/-OA4M9zFJqyA/AAAAAAAAAAI/AAAAAAAAAJ4/5QOQlNc5d2Q/s64/photo.jpg",
      "userId": "00598683554340477825"
     },
     "user_tz": -60
    },
    "id": "Kc-GWbhmvcMT",
    "outputId": "a9208f41-4c66-4f01-af44-54e59d8ea842"
   },
   "outputs": [
    {
     "name": "stdout",
     "output_type": "stream",
     "text": [
      "set(['Amy', 'Mani', 'chandru', 'Alice'])\n"
     ]
    }
   ],
   "source": [
    "word_list =  [\"Alice\", \"Amy\", 'Mani', 'chandru', 'Alice']\n",
    "my_set = set(word_list)\n",
    "print(my_set)"
   ]
  },
  {
   "cell_type": "markdown",
   "metadata": {
    "colab_type": "text",
    "id": "QSESb3w2vsJB"
   },
   "source": [
    "# 5. Working with Files\n",
    "### 1. Writing a file"
   ]
  },
  {
   "cell_type": "code",
   "execution_count": 0,
   "metadata": {
    "colab": {
     "base_uri": "https://localhost:8080/",
     "height": 401
    },
    "colab_type": "code",
    "executionInfo": {
     "elapsed": 9802,
     "status": "error",
     "timestamp": 1542660836170,
     "user": {
      "displayName": "Rajasekar Vadivelu",
      "photoUrl": "https://lh5.googleusercontent.com/-OA4M9zFJqyA/AAAAAAAAAAI/AAAAAAAAAJ4/5QOQlNc5d2Q/s64/photo.jpg",
      "userId": "00598683554340477825"
     },
     "user_tz": -60
    },
    "id": "aXEDM--ev2aN",
    "outputId": "afec9f1d-159e-4eda-9719-655601c719fc"
   },
   "outputs": [
    {
     "name": "stdout",
     "output_type": "stream",
     "text": [
      "Enter the name of the Participant > Chandru\n"
     ]
    },
    {
     "ename": "NameError",
     "evalue": "ignored",
     "output_type": "error",
     "traceback": [
      "\u001b[0;31m\u001b[0m",
      "\u001b[0;31mNameError\u001b[0mTraceback (most recent call last)",
      "\u001b[0;32m<ipython-input-63-8cdfb92f5652>\u001b[0m in \u001b[0;36m<module>\u001b[0;34m()\u001b[0m\n\u001b[1;32m      1\u001b[0m \u001b[0mf\u001b[0m \u001b[0;34m=\u001b[0m \u001b[0mopen\u001b[0m\u001b[0;34m(\u001b[0m\u001b[0;34m\"scores.txt\"\u001b[0m\u001b[0;34m,\u001b[0m\u001b[0;34m\"w\"\u001b[0m\u001b[0;34m)\u001b[0m\u001b[0;34m\u001b[0m\u001b[0m\n\u001b[1;32m      2\u001b[0m \u001b[0;32mwhile\u001b[0m \u001b[0mTrue\u001b[0m\u001b[0;34m:\u001b[0m\u001b[0;34m\u001b[0m\u001b[0m\n\u001b[0;32m----> 3\u001b[0;31m     \u001b[0mparticipant\u001b[0m \u001b[0;34m=\u001b[0m \u001b[0minput\u001b[0m\u001b[0;34m(\u001b[0m\u001b[0;34m\"Enter the name of the Participant > \"\u001b[0m\u001b[0;34m)\u001b[0m\u001b[0;34m\u001b[0m\u001b[0m\n\u001b[0m\u001b[1;32m      4\u001b[0m     \u001b[0;32mif\u001b[0m \u001b[0mparticipant\u001b[0m \u001b[0;34m==\u001b[0m \u001b[0;34m\"quit\"\u001b[0m\u001b[0;34m:\u001b[0m\u001b[0;34m\u001b[0m\u001b[0m\n\u001b[1;32m      5\u001b[0m         \u001b[0;32mprint\u001b[0m\u001b[0;34m(\u001b[0m\u001b[0;34m\"Quitting\"\u001b[0m\u001b[0;34m)\u001b[0m\u001b[0;34m\u001b[0m\u001b[0m\n",
      "\u001b[0;32m/usr/local/lib/python2.7/dist-packages/ipykernel/ipkernel.pyc\u001b[0m in \u001b[0;36m<lambda>\u001b[0;34m(prompt)\u001b[0m\n\u001b[1;32m    162\u001b[0m             \u001b[0mself\u001b[0m\u001b[0;34m.\u001b[0m\u001b[0m_sys_eval_input\u001b[0m \u001b[0;34m=\u001b[0m \u001b[0mbuiltin_mod\u001b[0m\u001b[0;34m.\u001b[0m\u001b[0minput\u001b[0m\u001b[0;34m\u001b[0m\u001b[0m\n\u001b[1;32m    163\u001b[0m             \u001b[0mbuiltin_mod\u001b[0m\u001b[0;34m.\u001b[0m\u001b[0mraw_input\u001b[0m \u001b[0;34m=\u001b[0m \u001b[0mself\u001b[0m\u001b[0;34m.\u001b[0m\u001b[0mraw_input\u001b[0m\u001b[0;34m\u001b[0m\u001b[0m\n\u001b[0;32m--> 164\u001b[0;31m             \u001b[0mbuiltin_mod\u001b[0m\u001b[0;34m.\u001b[0m\u001b[0minput\u001b[0m \u001b[0;34m=\u001b[0m \u001b[0;32mlambda\u001b[0m \u001b[0mprompt\u001b[0m\u001b[0;34m=\u001b[0m\u001b[0;34m''\u001b[0m\u001b[0;34m:\u001b[0m \u001b[0meval\u001b[0m\u001b[0;34m(\u001b[0m\u001b[0mself\u001b[0m\u001b[0;34m.\u001b[0m\u001b[0mraw_input\u001b[0m\u001b[0;34m(\u001b[0m\u001b[0mprompt\u001b[0m\u001b[0;34m)\u001b[0m\u001b[0;34m)\u001b[0m\u001b[0;34m\u001b[0m\u001b[0m\n\u001b[0m\u001b[1;32m    165\u001b[0m         \u001b[0mself\u001b[0m\u001b[0;34m.\u001b[0m\u001b[0m_save_getpass\u001b[0m \u001b[0;34m=\u001b[0m \u001b[0mgetpass\u001b[0m\u001b[0;34m.\u001b[0m\u001b[0mgetpass\u001b[0m\u001b[0;34m\u001b[0m\u001b[0m\n\u001b[1;32m    166\u001b[0m         \u001b[0mgetpass\u001b[0m\u001b[0;34m.\u001b[0m\u001b[0mgetpass\u001b[0m \u001b[0;34m=\u001b[0m \u001b[0mself\u001b[0m\u001b[0;34m.\u001b[0m\u001b[0mgetpass\u001b[0m\u001b[0;34m\u001b[0m\u001b[0m\n",
      "\u001b[0;32m/usr/local/lib/python2.7/dist-packages/ipykernel/ipkernel.pyc\u001b[0m in \u001b[0;36m<module>\u001b[0;34m()\u001b[0m\n",
      "\u001b[0;31mNameError\u001b[0m: name 'Chandru' is not defined"
     ]
    }
   ],
   "source": [
    "f = open(\"scores.txt\",\"w\")\n",
    "while True:\n",
    "    participant = input(\"Enter the name of the Participant > \")\n",
    "    if participant == \"quit\":\n",
    "        print(\"Quitting\")\n",
    "        break\n",
    "    score = input(\"Enter the score for the participant \" + participant)\n",
    "    f.write(participant + \",\" + score + \"\\n\")\n",
    "\n",
    "f.close()\n"
   ]
  },
  {
   "cell_type": "markdown",
   "metadata": {
    "colab_type": "text",
    "id": "cRdh32t8wjRW"
   },
   "source": [
    "### 2. Reading from a file"
   ]
  },
  {
   "cell_type": "code",
   "execution_count": 0,
   "metadata": {
    "colab": {
     "base_uri": "https://localhost:8080/",
     "height": 17
    },
    "colab_type": "code",
    "executionInfo": {
     "elapsed": 1377,
     "status": "error",
     "timestamp": 1570511988469,
     "user": {
      "displayName": "Rajasekar Vadivelu",
      "photoUrl": "https://lh3.googleusercontent.com/a-/AAuE7mCraAyyDwNujk9FoMU21hRJ24t8rtGDKRgz-yZQkQ=s64",
      "userId": "00598683554340477825"
     },
     "user_tz": -120
    },
    "id": "6iq85_TKwmwr",
    "outputId": "6c3706e5-9bcd-409f-e80e-4036444907dc"
   },
   "outputs": [
    {
     "ename": "FileNotFoundError",
     "evalue": "ignored",
     "output_type": "error",
     "traceback": [
      "\u001b[0;31m---------------------------------------------------------------------------\u001b[0m",
      "\u001b[0;31mFileNotFoundError\u001b[0m                         Traceback (most recent call last)",
      "\u001b[0;32m<ipython-input-1-eac46b03c2ff>\u001b[0m in \u001b[0;36m<module>\u001b[0;34m()\u001b[0m\n\u001b[0;32m----> 1\u001b[0;31m \u001b[0mf\u001b[0m \u001b[0;34m=\u001b[0m \u001b[0mopen\u001b[0m\u001b[0;34m(\u001b[0m\u001b[0;34m\"table.txt\"\u001b[0m\u001b[0;34m,\u001b[0m \u001b[0;34m\"r\"\u001b[0m\u001b[0;34m)\u001b[0m\u001b[0;34m\u001b[0m\u001b[0;34m\u001b[0m\u001b[0m\n\u001b[0m\u001b[1;32m      2\u001b[0m \u001b[0mcolumns\u001b[0m \u001b[0;34m=\u001b[0m \u001b[0;34m[\u001b[0m\u001b[0;34m]\u001b[0m\u001b[0;34m\u001b[0m\u001b[0;34m\u001b[0m\u001b[0m\n\u001b[1;32m      3\u001b[0m \u001b[0;32mfor\u001b[0m \u001b[0mline\u001b[0m \u001b[0;32min\u001b[0m \u001b[0mf\u001b[0m\u001b[0;34m:\u001b[0m\u001b[0;34m\u001b[0m\u001b[0;34m\u001b[0m\u001b[0m\n\u001b[1;32m      4\u001b[0m     \u001b[0mentries\u001b[0m \u001b[0;34m=\u001b[0m \u001b[0mline\u001b[0m\u001b[0;34m.\u001b[0m\u001b[0mstrip\u001b[0m\u001b[0;34m(\u001b[0m\u001b[0;34m)\u001b[0m\u001b[0;34m.\u001b[0m\u001b[0msplit\u001b[0m\u001b[0;34m(\u001b[0m\u001b[0;34m\" \"\u001b[0m\u001b[0;34m)\u001b[0m\u001b[0;34m\u001b[0m\u001b[0;34m\u001b[0m\u001b[0m\n\u001b[1;32m      5\u001b[0m     \u001b[0mcolumn\u001b[0m \u001b[0;34m=\u001b[0m  \u001b[0mentries\u001b[0m\u001b[0;34m[\u001b[0m\u001b[0;36m0\u001b[0m\u001b[0;34m]\u001b[0m\u001b[0;34m.\u001b[0m\u001b[0mlower\u001b[0m\u001b[0;34m(\u001b[0m\u001b[0;34m)\u001b[0m\u001b[0;34m\u001b[0m\u001b[0;34m\u001b[0m\u001b[0m\n",
      "\u001b[0;31mFileNotFoundError\u001b[0m: [Errno 2] No such file or directory: 'table.txt'"
     ]
    }
   ],
   "source": [
    "f = open(\"table.txt\", \"r\")\n",
    "columns = []\n",
    "for line in f:\n",
    "    entries = line.strip().split(\" \")\n",
    "    column =  entries[0].lower()\n",
    "    columns.append(column)\n",
    "f.close()\n",
    "sortedColumns = sorted(columns)\n",
    "for column in sortedColumns:\n",
    "  print('private ' + column + ';')\n",
    "\n",
    "    \n"
   ]
  },
  {
   "cell_type": "markdown",
   "metadata": {
    "colab_type": "text",
    "id": "Ykz-Yco8w4cQ"
   },
   "source": [
    "### 3. Reading File and add it to a list\n",
    "word = [resword.strip() for resword in open(\"score.txt\", \"r\").readlines()]\n"
   ]
  },
  {
   "cell_type": "markdown",
   "metadata": {
    "colab_type": "text",
    "id": "mC634sGvxMyF"
   },
   "source": [
    "# 6. Class and Method declaration\n",
    "\n"
   ]
  },
  {
   "cell_type": "code",
   "execution_count": 0,
   "metadata": {
    "colab": {
     "base_uri": "https://localhost:8080/",
     "height": 68
    },
    "colab_type": "code",
    "executionInfo": {
     "elapsed": 631,
     "status": "ok",
     "timestamp": 1542661478833,
     "user": {
      "displayName": "Rajasekar Vadivelu",
      "photoUrl": "https://lh5.googleusercontent.com/-OA4M9zFJqyA/AAAAAAAAAAI/AAAAAAAAAJ4/5QOQlNc5d2Q/s64/photo.jpg",
      "userId": "00598683554340477825"
     },
     "user_tz": -60
    },
    "id": "IJCMz4ynxQh1",
    "outputId": "6fdfb5e8-e81c-46ab-e6cc-8ccd5d2f0797"
   },
   "outputs": [
    {
     "name": "stdout",
     "output_type": "stream",
     "text": [
      "Hello\n",
      "Good Bye!!!\n",
      "Hello\n"
     ]
    }
   ],
   "source": [
    "\n",
    "\n",
    "class Greeter(object): # Inheriting from Object\n",
    "    def hello(self): # (self) should be the 1st arg  having a pointer back to the class\n",
    "        print('Hello')\n",
    "\n",
    "    def goodbye(self): # self is not user argument\n",
    "        print(\"Good Bye!!!\")\n",
    "\n",
    "g = Greeter() # instanating a class and assigning to you a reference\n",
    "g.hello()\n",
    "g.goodbye()\n",
    "\n",
    "g2 = Greeter()\n",
    "g2.hello()\n",
    "\n",
    "\n",
    "        \n"
   ]
  },
  {
   "cell_type": "code",
   "execution_count": 0,
   "metadata": {
    "colab": {
     "base_uri": "https://localhost:8080/",
     "height": 51
    },
    "colab_type": "code",
    "executionInfo": {
     "elapsed": 729,
     "status": "ok",
     "timestamp": 1542661492156,
     "user": {
      "displayName": "Rajasekar Vadivelu",
      "photoUrl": "https://lh5.googleusercontent.com/-OA4M9zFJqyA/AAAAAAAAAAI/AAAAAAAAAJ4/5QOQlNc5d2Q/s64/photo.jpg",
      "userId": "00598683554340477825"
     },
     "user_tz": -60
    },
    "id": "Erc3fyWkyjp8",
    "outputId": "e555fd7d-4976-49ab-c845-b323fc2d0dc8"
   },
   "outputs": [
    {
     "name": "stdout",
     "output_type": "stream",
     "text": [
      "HelloJessica\n",
      "Good Bye!!!Jessica\n"
     ]
    }
   ],
   "source": [
    "class Greeter2(object): # Inheriting from Object\n",
    "\n",
    "        \n",
    "    def __init__(self, name): # Initializer invoked while instantating the class\n",
    "        self.name = name  # self allows to create a variable and use it in other method in the class\n",
    "            \n",
    "    def hello(self): # (self) should be the 1st arg  having a pointer back to the class\n",
    "        print('Hello '+ self.name)\n",
    "\n",
    "    def goodbye(self): # self is not user argument\n",
    "        print(\"Good Bye!!!\" + self.name)\n",
    "\n",
    "g = Greeter2('Jessica') # instanating a class and assigning to you a reference\n",
    "g.hello()\n",
    "g.goodbye()"
   ]
  },
  {
   "cell_type": "code",
   "execution_count": 0,
   "metadata": {
    "colab": {},
    "colab_type": "code",
    "id": "vc9pxNo6yvXV"
   },
   "outputs": [],
   "source": [
    "class Die(object):\n",
    "\n",
    "    def __init__(self, side):\n",
    "        self.side = side\n",
    "        \n",
    "    def roll(self):\n",
    "       return random.randint(1,self.side)\n",
    "\n",
    "class  Poker(object):\n",
    "\n",
    "    def shuffle():\n",
    "        shades = [\"Spade\",\"Diamond\", \"clover\", \"Heartin\"]\n",
    "        ranks = [\"1\", \"2\", \"3\", \"4\", \"5\", \"6\", \"7\", \"8\", \"9\", \"10\", \"Jack\", \"Queen\", \"King\", \"Ace\"]\n",
    "        cards = []        \n",
    "        for shade in shades:\n",
    "            for rank in ranks:\n",
    "              cards.append( rank + \" Of \"+ shade)\n"
   ]
  },
  {
   "cell_type": "markdown",
   "metadata": {
    "colab_type": "text",
    "id": "vqx1Ks340c_R"
   },
   "source": [
    "# Solve problems"
   ]
  },
  {
   "cell_type": "markdown",
   "metadata": {
    "colab_type": "text",
    "id": "_WWUYeq63siO"
   },
   "source": [
    "Remove special character and space from the sentence and collect in a list "
   ]
  },
  {
   "cell_type": "code",
   "execution_count": 0,
   "metadata": {
    "colab": {
     "base_uri": "https://localhost:8080/",
     "height": 51
    },
    "colab_type": "code",
    "executionInfo": {
     "elapsed": 532,
     "status": "ok",
     "timestamp": 1570512980862,
     "user": {
      "displayName": "Rajasekar Vadivelu",
      "photoUrl": "https://lh3.googleusercontent.com/a-/AAuE7mCraAyyDwNujk9FoMU21hRJ24t8rtGDKRgz-yZQkQ=s64",
      "userId": "00598683554340477825"
     },
     "user_tz": -120
    },
    "id": "XuE4Ov800xXE",
    "outputId": "0d49f28a-f45a-4f3b-fffc-9df4c9c7d548"
   },
   "outputs": [
    {
     "name": "stdout",
     "output_type": "stream",
     "text": [
      "['Hello', 'world', 'python3!.', 'I', 'am', 'learning', 'python', 'which', 'is', 'exciting!']\n",
      "['Hello', 'world', 'python3', 'I', 'am', 'learning', 'python', 'which', 'is', 'exciting']\n"
     ]
    }
   ],
   "source": [
    "sentence = ''' Hello world python3!. I am learning python which is exciting! '''\n",
    "words = sentence.split()\n",
    "print(words)\n",
    "for word in words: \n",
    "   newword = word.strip(\"!.\")\n",
    "   i = words.index(word)\n",
    "   words[i] = newword\n",
    "print(words)   "
   ]
  },
  {
   "cell_type": "code",
   "execution_count": 0,
   "metadata": {
    "colab": {},
    "colab_type": "code",
    "id": "5FZXvbf20_MA"
   },
   "outputs": [],
   "source": []
  }
 ],
 "metadata": {
  "colab": {
   "collapsed_sections": [
    "UAewqAn8hV-X"
   ],
   "name": "Python.ipynb",
   "provenance": [
    {
     "file_id": "1z04CJZTAFmj0HfpcgLhRdd0Irgr7q6L5",
     "timestamp": 1541053180197
    }
   ],
   "toc_visible": true
  },
  "kernelspec": {
   "display_name": "Python 3",
   "language": "python",
   "name": "python3"
  },
  "language_info": {
   "codemirror_mode": {
    "name": "ipython",
    "version": 3
   },
   "file_extension": ".py",
   "mimetype": "text/x-python",
   "name": "python",
   "nbconvert_exporter": "python",
   "pygments_lexer": "ipython3",
   "version": "3.8.6"
  }
 },
 "nbformat": 4,
 "nbformat_minor": 1
}
