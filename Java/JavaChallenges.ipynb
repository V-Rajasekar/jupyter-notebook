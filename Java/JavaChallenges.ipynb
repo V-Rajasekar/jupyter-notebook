
# Java Challenges

 1. String
		 a. [count the occurrence of a char in string](#count-char)
		 
 2. Array

### Specification

### count char
	count the occurrence of a given character in a string?
### print the first non-repeated character from a string?
### bubble sort algorithm
### merge sort algorithm
### convert a given String into int like the atoi()? How to implement a bucket sort algorithm?
### implement a counting sort algorithm?
### remove duplicates from an array in place?
### reverse an array in place in Java?
### are duplicates removed from an array without using any library?
### radix sort algorithm
### swap two numbers without using the third variable?
### check if two rectangles overlap with each other?
### design a vending machine?
### find the missing number in a given integer array of 1 to 101?
### find the duplicate number on a given integer array?
### find duplicate numbers in an array if it contains multiple duplicates?
### Difference between a stable and unstable sorting algorithm? (answer)
### is an iterative quicksort algorithm
### find the largest and smallest number in an unsorted integer array?
### reverse a linked list in place?
### add an element at the middle of the linked list?
### sort a linked list in Java?
### find all pairs of an integer array whose sum is equal to a given number?
### implement an insertion sort algorithm?
### are duplicates removed from a given array in Java?
### remove the duplicate character from String?
### find the maximum occurring character in given String?
### is an integer array sorted in place using the quicksort algorithm?
### reverse a given string in place?
### print duplicate characters from a string?
### check if two strings are anagrams of each other?
### find all the permutations of a string?
### can a given string be reversed using recursion?
### check if a given string is a palindrome?
### find the length of the longest substring without repeating characters?
### Given string str, How to find the longest palindromic substring in str?
### check if a string contains only digits?
### remove Nth Node from the end of a linked list?
### merge two sorted linked list?
### convert a sorted list to a binary search tree?
### find duplicate characters in a given string?
### count a number of vowels and consonants in a given string?
### reverse words in a given sentence without using any library method?
### check if two strings are a rotation of each other?
### convert a byte array to String?
### remove a given character from String?
### find the middle element of a singly linked list in one pass?
### check if a given linked list contains a cycle?
### find the starting node of the cycle?
### reverse a linked list?
### reverse a singly linked list without recursion?
### are duplicate nodes removed in an unsorted linked list?
### find the length of a singly linked list?
### find the third node from the end in a singly linked list?
### find the sum of two linked lists using Stack?
### What is the difference between array and linked list? (answer)
### remove duplicates from a sorted linked list?
### find the node at which the intersection of two singly linked lists begins.
### Given a linked list and a value x, partition it such that all nodes less than x come before nodes greater than or equal to x.
### check if a given linked list is a palindrome?
### remove all elements from a linked list of integers which matches with given value?
### binary search tree
### perform preorder traversal in a given binary tree?
### traverse a given binary tree in preorder without recursion?
### perform an inorder traversal in a given binary tree?
### print all nodes of a given binary tree using inorder traversal without recursion?
### implement a postorder traversal algorithm?
### traverse a binary tree in postorder traversal without recursion?
### are all leaves of a binary search tree printed?
### count a number of leaf nodes in a given binary tree?
### perform a binary search in a given array?
### Swap two numbers without using the third variable?
### check if two rectangles overlap with each other?
### design a Vending Machine?
### implement an LRU Cache in your favorite programming language?
### check if a given number is a Palindrome?
### check if a given number is an Armstrong number?
### find all prime factors of a given number?
### check if a given number is positive or negative in Java?
### find the largest prime factor of a given integral number?
### print all prime numbers up to a given number?### print Floyd's triangle?
### print Pascal's triangle?
### calculate the square root of a given number?
### check if the given number is a prime number?
### add two numbers without using the plus operator in Java?
### check if a given number is even/odd without using Arithmetic operator?
### print a given Pyramid structure?
### find the highest repeating world from a given file in Java?
### reverse given Integer in Java?
### convert a decimal number to binary in Java?
### check if a given year is a leap year in Java?
### Implement a Binary search Algorithm without recursion?
### What is Depth First Search Algorithm for a binary tree?
### is an iterative quicksort algorithm
### implement an insertion sort algorithm?
### merge sort algorithm
### What is the difference between Comparison and Non-Comparison Sorting Algorithms? (answer)
### do implement Sieve of Eratosthenes Algorithms for Prime Number?
### find sub array with maximum sum?
### count char
<!--stackedit_data:
eyJoaXN0b3J5IjpbMTI3MzY2Mzk0OSw0MDc5ODIzMzUsLTMzOT
g1NzE2NF19
-->