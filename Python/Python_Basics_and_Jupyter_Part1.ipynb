{
 "cells": [
  {
   "cell_type": "markdown",
   "metadata": {
    "colab_type": "text",
    "id": "4J2lIggJLUMS"
   },
   "source": [
    "# **Essential Machine Learning and Exploratory Data Analysis with Python and Jupyter Notebook**"
   ]
  },
  {
   "cell_type": "markdown",
   "metadata": {
    "colab_type": "text",
    "id": "Pci2aotqPIME"
   },
   "source": [
    "## Jupyter Notebook\n",
    "\n",
    "Many flavors of Jupyter Notebook.  A few popular ones:\n",
    "\n",
    "### Hosted Commercial Flavors\n",
    "\n",
    "* [Google Colaboratory](https://colab.research.google.com/notebook)\n",
    "* [Kaggle](https://www.kaggle.com/)\n",
    "\n",
    "### Pure Open Source\n",
    "\n",
    "* [Jupyter](http://jupyter.org/) standalone, original\n",
    "* [JupyterHub](https://github.com/jupyterhub/jupyterhub) multi-user, docker friendly\n",
    "\n",
    "### Hybrid Solutions\n",
    "\n",
    "* Running Jupyter on [AWS Spot Instances](https://aws.amazon.com/ec2/spot/)\n",
    "* [Google Data Lab](https://cloud.google.com/datalab/)\n",
    "* [Azure Data Science Virtual Machines](https://azure.microsoft.com/en-us/services/virtual-machines/data-science-virtual-machines/)\n"
   ]
  },
  {
   "cell_type": "markdown",
   "metadata": {
    "colab_type": "text",
    "id": "HWKUOfEBUMLS"
   },
   "source": [
    "## Part 1: Introductory Concepts in Python and Functions Using Jupyter Notebook (180 minutes)"
   ]
  },
  {
   "cell_type": "markdown",
   "metadata": {
    "colab_type": "text",
    "id": "6HJtGuiKUYFU"
   },
   "source": [
    "### Introductory Concepts\n",
    "*  **Procedural Statements**\n",
    "*  Strings and String Formatting\n",
    "*  Numbers and Arithmetic Operations\n",
    "*  Data Structures\n",
    "\n"
   ]
  },
  {
   "cell_type": "markdown",
   "metadata": {
    "colab_type": "text",
    "id": "BwmnQEziVQ9k"
   },
   "source": [
    " #### Procedural Statements\n",
    " Procedural statements are literally statements that  can be issued one line at a time.  Below are types of procedural statements.  These statements can be run in:\n",
    " * Jupyter Notebook\n",
    " * IPython shell\n",
    " * Python interpreter\n",
    " * Python scripts"
   ]
  },
  {
   "cell_type": "markdown",
   "metadata": {
    "colab_type": "text",
    "id": "yTePE3imVqfP"
   },
   "source": [
    "**Printing**"
   ]
  },
  {
   "cell_type": "code",
   "execution_count": 0,
   "metadata": {
    "colab": {
     "base_uri": "https://localhost:8080/",
     "height": 34
    },
    "colab_type": "code",
    "id": "n1r0n2V3Vs70",
    "outputId": "ca706fd5-a163-4746-8dd0-11bc1c46e9c6"
   },
   "outputs": [
    {
     "name": "stdout",
     "output_type": "stream",
     "text": [
      "Hello world\n"
     ]
    }
   ],
   "source": [
    "print(\"Hello world\")"
   ]
  },
  {
   "cell_type": "markdown",
   "metadata": {
    "colab_type": "text",
    "id": "8nUjNnApV6cC"
   },
   "source": [
    "**Create Variable and Use Variable**"
   ]
  },
  {
   "cell_type": "code",
   "execution_count": 0,
   "metadata": {
    "colab": {
     "base_uri": "https://localhost:8080/",
     "height": 34
    },
    "colab_type": "code",
    "id": "mhjO2LpSVx9V",
    "outputId": "fc5d18df-c08f-41bf-a47c-908267d6cb9e"
   },
   "outputs": [
    {
     "name": "stdout",
     "output_type": "stream",
     "text": [
      "armbar\n"
     ]
    }
   ],
   "source": [
    "variable = \"armbar\"; print(variable)"
   ]
  },
  {
   "cell_type": "markdown",
   "metadata": {
    "colab_type": "text",
    "id": "H004n8R-WDGF"
   },
   "source": [
    "**Multiple procedural statements**"
   ]
  },
  {
   "cell_type": "code",
   "execution_count": 0,
   "metadata": {
    "colab": {
     "base_uri": "https://localhost:8080/",
     "height": 51
    },
    "colab_type": "code",
    "id": "xrZWZEFmV_bN",
    "outputId": "b09e0c2f-3ffd-42cd-f9df-f9ada73bfbd0"
   },
   "outputs": [
    {
     "name": "stdout",
     "output_type": "stream",
     "text": [
      "In Brazilian Jiu Jitsu a common attack is a: kimura\n",
      "Another common attack is a: arm triangle\n"
     ]
    }
   ],
   "source": [
    "attack_one = \"kimura\"\n",
    "attack_two = \"arm triangle\"\n",
    "print(\"In Brazilian Jiu Jitsu a common attack is a:\", attack_one)\n",
    "print(\"Another common attack is a:\", attack_two)\n"
   ]
  },
  {
   "cell_type": "markdown",
   "metadata": {
    "colab_type": "text",
    "id": "6IiZ6RnLWKsq"
   },
   "source": [
    "**Adding Numbers**"
   ]
  },
  {
   "cell_type": "code",
   "execution_count": 0,
   "metadata": {
    "colab": {
     "base_uri": "https://localhost:8080/",
     "height": 34
    },
    "colab_type": "code",
    "id": "h049FhlhWPRm",
    "outputId": "6a0c7a05-71a8-4860-a970-156dfa54f7e6"
   },
   "outputs": [
    {
     "data": {
      "text/plain": [
       "2"
      ]
     },
     "execution_count": 4,
     "metadata": {
      "tags": []
     },
     "output_type": "execute_result"
    }
   ],
   "source": [
    "1+1"
   ]
  },
  {
   "cell_type": "markdown",
   "metadata": {
    "colab_type": "text",
    "id": "mlszsN87WmcO"
   },
   "source": [
    "**Adding Phrases**"
   ]
  },
  {
   "cell_type": "code",
   "execution_count": 0,
   "metadata": {
    "colab": {
     "base_uri": "https://localhost:8080/",
     "height": 34
    },
    "colab_type": "code",
    "id": "FaE5GnCaWgbI",
    "outputId": "9473d571-0b4a-4988-98c8-f3d3e163d7cf"
   },
   "outputs": [
    {
     "data": {
      "text/plain": [
       "'armbar4morestuff'"
      ]
     },
     "execution_count": 5,
     "metadata": {
      "tags": []
     },
     "output_type": "execute_result"
    }
   ],
   "source": [
    "\"arm\" + \"bar\"+\"4\"+\"morestuff\""
   ]
  },
  {
   "cell_type": "markdown",
   "metadata": {
    "colab_type": "text",
    "id": "WSrfrIO1XYts"
   },
   "source": [
    "**Complex statements**\n",
    "\n",
    "More complex statements can be created that use data structures like the belts variable, which is a list."
   ]
  },
  {
   "cell_type": "code",
   "execution_count": 0,
   "metadata": {
    "colab": {
     "base_uri": "https://localhost:8080/",
     "height": 102
    },
    "colab_type": "code",
    "id": "0nf0W0e3XSQS",
    "outputId": "4842df69-a623-419e-e41f-4f499149137c"
   },
   "outputs": [
    {
     "name": "stdout",
     "output_type": "stream",
     "text": [
      "This is not the belt I want to end up at: white\n",
      "This is not the belt I want to end up at: blue\n",
      "This is not the belt I want to end up at: purple\n",
      "This is not the belt I want to end up at: brown\n",
      "The belt I want to be is: black\n"
     ]
    }
   ],
   "source": [
    "belts = [\"white\", \"blue\", \"purple\", \"brown\", \"black\"]\n",
    "for belt in belts:\n",
    "    if \"black\" in belt:\n",
    "        print(\"The belt I want to be is:\", belt)\n",
    "    else:\n",
    "        print(\"This is not the belt I want to end up at:\", belt)"
   ]
  },
  {
   "cell_type": "markdown",
   "metadata": {
    "colab_type": "text",
    "id": "UYzPEDtnXlbx"
   },
   "source": [
    "#### Strings and String Formatting\n",
    "\n",
    "Strings are a sequence of characters and they are often programmatically formatted.  Almost all Python programs have strings because they can be used to send messages to users who use the program.  When creating strings there are few core concepts to understand:\n",
    "\n",
    "* Strings can be create with the single, double and triple/double quotes\n",
    "* Strings are can be formatted\n",
    "* One complication of strings is they can be encoded in several formats including unicode\n",
    "* Many methods are available to operate on strings.  In an editor or IPython shell you can see these methods by tab completion: \n",
    "```\n",
    "basic_string.\n",
    "            capitalize()   format()       islower()      lower()        rpartition()   title()         \n",
    "            casefold()     format_map()   isnumeric()    lstrip()       rsplit()       translate()     \n",
    "            center()       index()        isprintable()  maketrans()    rstrip()       upper()         \n",
    "            count()        isalnum()      isspace()      partition()    split()        zfill()         \n",
    "            encode()       isalpha()      istitle()      replace()      splitlines()                  \n",
    "            endswith()     isdecimal()    isupper()      rfind()        startswith()                  \n",
    "            expandtabs()   isdigit()      join()         rindex()       strip()                       \n",
    "            find()         isidentifier() ljust()        rjust()        swapcase()        \n",
    "```"
   ]
  },
  {
   "cell_type": "code",
   "execution_count": 0,
   "metadata": {
    "colab": {
     "base_uri": "https://localhost:8080/",
     "height": 34
    },
    "colab_type": "code",
    "id": "eHJX2ZFiXbFC",
    "outputId": "61d7f680-db1a-4881-ff97-c032fa711fe1"
   },
   "outputs": [
    {
     "data": {
      "text/plain": [
       "'this is a string I am using'"
      ]
     },
     "execution_count": 8,
     "metadata": {
      "tags": []
     },
     "output_type": "execute_result"
    }
   ],
   "source": [
    "my_string = \"this is a string I am using\"\n",
    "my_string"
   ]
  },
  {
   "cell_type": "markdown",
   "metadata": {
    "colab_type": "text",
    "id": "8afQjS25YDvQ"
   },
   "source": [
    "**Basic String**"
   ]
  },
  {
   "cell_type": "code",
   "execution_count": 0,
   "metadata": {
    "colab": {},
    "colab_type": "code",
    "id": "yfhfvyIpX-pc"
   },
   "outputs": [],
   "source": [
    "basic_string = \"Brazilian Jiu Jitsu Ji\""
   ]
  },
  {
   "cell_type": "markdown",
   "metadata": {
    "colab_type": "text",
    "id": "GMYqc-cKYJlL"
   },
   "source": [
    "**Splitting String**\n",
    "\n",
    "Turn a string in a list by splitting on spaces, or some other thing"
   ]
  },
  {
   "cell_type": "code",
   "execution_count": 0,
   "metadata": {
    "colab": {
     "base_uri": "https://localhost:8080/",
     "height": 34
    },
    "colab_type": "code",
    "id": "eJaoPyTzYGSk",
    "outputId": "763ffecd-15aa-4149-bd2a-461eb5ef2136"
   },
   "outputs": [
    {
     "data": {
      "text/plain": [
       "['Brazilian', 'Jiu', 'Jitsu', 'Ji']"
      ]
     },
     "execution_count": 7,
     "metadata": {
      "tags": []
     },
     "output_type": "execute_result"
    }
   ],
   "source": [
    "#split on spaces (default)\n",
    "basic_string.split()"
   ]
  },
  {
   "cell_type": "code",
   "execution_count": 0,
   "metadata": {
    "colab": {
     "base_uri": "https://localhost:8080/",
     "height": 34
    },
    "colab_type": "code",
    "id": "z94Ajl0NZXBP",
    "outputId": "bf6684d7-f41a-47bc-b3a3-f710cb028210"
   },
   "outputs": [
    {
     "data": {
      "text/plain": [
       "['Brazilian', 'Jiu', 'Jitsu']"
      ]
     },
     "execution_count": 12,
     "metadata": {
      "tags": []
     },
     "output_type": "execute_result"
    }
   ],
   "source": [
    "#split on hyphen\n",
    "string_with_hyphen = \"Brazilian-Jiu-Jitsu\"\n",
    "string_with_hyphen.split(\"-\")"
   ]
  },
  {
   "cell_type": "markdown",
   "metadata": {
    "colab_type": "text",
    "id": "Ti9hySuGZbbX"
   },
   "source": [
    "**All Capital**\n",
    "\n",
    "Turn a string into all Capital Letter"
   ]
  },
  {
   "cell_type": "code",
   "execution_count": 0,
   "metadata": {
    "colab": {
     "base_uri": "https://localhost:8080/",
     "height": 34
    },
    "colab_type": "code",
    "id": "y2NEPM8PZZT_",
    "outputId": "0573e2a4-f1af-4532-d659-41749615a699"
   },
   "outputs": [
    {
     "data": {
      "text/plain": [
       "'BRAZILIAN JIU JITSU'"
      ]
     },
     "execution_count": 13,
     "metadata": {
      "tags": []
     },
     "output_type": "execute_result"
    }
   ],
   "source": [
    "basic_string.upper()"
   ]
  },
  {
   "cell_type": "markdown",
   "metadata": {
    "colab_type": "text",
    "id": "ZlifO6c4Zk5W"
   },
   "source": [
    "**Slicing Strings**\n",
    "\n",
    "Strings can be referenced by length and sliced"
   ]
  },
  {
   "cell_type": "code",
   "execution_count": 0,
   "metadata": {
    "colab": {
     "base_uri": "https://localhost:8080/",
     "height": 34
    },
    "colab_type": "code",
    "id": "tBXlXz0TZh1Q",
    "outputId": "dfea33fb-83e7-42ec-9fa3-e7acfde75196"
   },
   "outputs": [
    {
     "data": {
      "text/plain": [
       "'Br'"
      ]
     },
     "execution_count": 14,
     "metadata": {
      "tags": []
     },
     "output_type": "execute_result"
    }
   ],
   "source": [
    "#Get first two characters\n",
    "basic_string[:2]"
   ]
  },
  {
   "cell_type": "code",
   "execution_count": 0,
   "metadata": {
    "colab": {
     "base_uri": "https://localhost:8080/",
     "height": 34
    },
    "colab_type": "code",
    "id": "EhgFdziaZtPv",
    "outputId": "623c0108-a584-4515-ea25-c23844645719"
   },
   "outputs": [
    {
     "data": {
      "text/plain": [
       "19"
      ]
     },
     "execution_count": 15,
     "metadata": {
      "tags": []
     },
     "output_type": "execute_result"
    }
   ],
   "source": [
    "#Get length of string\n",
    "len(basic_string)"
   ]
  },
  {
   "cell_type": "markdown",
   "metadata": {
    "colab_type": "text",
    "id": "lxvtolozZy1f"
   },
   "source": [
    "**Strings Can Be Added Together**"
   ]
  },
  {
   "cell_type": "code",
   "execution_count": 0,
   "metadata": {
    "colab": {
     "base_uri": "https://localhost:8080/",
     "height": 34
    },
    "colab_type": "code",
    "id": "eIVgqMsRZvNQ",
    "outputId": "d200e55a-f506-4c97-c0c6-e5790b3084f6"
   },
   "outputs": [
    {
     "data": {
      "text/plain": [
       "'Brazilian Jiu Jitsu is my favorite Martial Art'"
      ]
     },
     "execution_count": 16,
     "metadata": {
      "tags": []
     },
     "output_type": "execute_result"
    }
   ],
   "source": [
    "basic_string + \" is my favorite Martial Art\""
   ]
  },
  {
   "cell_type": "markdown",
   "metadata": {
    "colab_type": "text",
    "id": "nNYxshNHZ6O8"
   },
   "source": [
    "**Strings Can Be Formatted in More Complex Ways**\n",
    "\n",
    "One of the best ways to format a string in modern Python 3 is to use f-strings"
   ]
  },
  {
   "cell_type": "code",
   "execution_count": 0,
   "metadata": {
    "colab": {
     "base_uri": "https://localhost:8080/",
     "height": 34
    },
    "colab_type": "code",
    "id": "u_NAcD5sZ1l4",
    "outputId": "7c70e01c-239a-4021-c894-26a0227ad0cf"
   },
   "outputs": [
    {
     "data": {
      "text/plain": [
       "'I love practicing my favorite Martial Art, Brazilian Jiu Jitsu'"
      ]
     },
     "execution_count": 17,
     "metadata": {
      "tags": []
     },
     "output_type": "execute_result"
    }
   ],
   "source": [
    "f'I love practicing my favorite Martial Art, {basic_string}'"
   ]
  },
  {
   "cell_type": "markdown",
   "metadata": {
    "colab_type": "text",
    "id": "wlpMuwdmbui0"
   },
   "source": [
    "**Strings Can Use Triple Quotes to Wrap**"
   ]
  },
  {
   "cell_type": "code",
   "execution_count": 0,
   "metadata": {
    "colab": {
     "base_uri": "https://localhost:8080/",
     "height": 54
    },
    "colab_type": "code",
    "id": "YWmNAWzqbT4k",
    "outputId": "f0312224-3e75-495c-fa08-a24bb0fff1f5"
   },
   "outputs": [
    {
     "data": {
      "text/plain": [
       "'\\nThis phrase is multiple sentenances long.\\nThere phrase can be formatted like simpler sentances,\\nfor example, I can still talk about my favorite Martial Art Brazilian Jiu Jitsu\\n'"
      ]
     },
     "execution_count": 18,
     "metadata": {
      "tags": []
     },
     "output_type": "execute_result"
    }
   ],
   "source": [
    "f\"\"\"\n",
    "This phrase is multiple sentenances long.\n",
    "There phrase can be formatted like simpler sentances,\n",
    "for example, I can still talk about my favorite Martial Art {basic_string}\n",
    "\"\"\""
   ]
  },
  {
   "cell_type": "markdown",
   "metadata": {
    "colab_type": "text",
    "id": "mBuMTMQWb239"
   },
   "source": [
    "**Line Breaks Can Be Removed with Replace**\n",
    "\n",
    "The last long line contained line breaks, which are the **\\n** character, and they can be removed by using the replace method"
   ]
  },
  {
   "cell_type": "code",
   "execution_count": 0,
   "metadata": {
    "colab": {
     "base_uri": "https://localhost:8080/",
     "height": 54
    },
    "colab_type": "code",
    "id": "K8AVf6Pibz3H",
    "outputId": "c7d284a7-f913-4489-bff6-a491c364dbac"
   },
   "outputs": [
    {
     "data": {
      "text/plain": [
       "'This phrase is multiple sentenances long.There phrase can be formatted like simpler sentances,for example, I can still talk about my favorite Martial Art Brazilian Jiu Jitsu'"
      ]
     },
     "execution_count": 19,
     "metadata": {
      "tags": []
     },
     "output_type": "execute_result"
    }
   ],
   "source": [
    "f\"\"\"\n",
    "This phrase is multiple sentenances long.\n",
    "There phrase can be formatted like simpler sentances,\n",
    "for example, I can still talk about my favorite Martial Art {basic_string}\n",
    "\"\"\".replace(\"\\n\", \"\")"
   ]
  },
  {
   "cell_type": "markdown",
   "metadata": {
    "colab_type": "text",
    "id": "eRmipgSocZ9i"
   },
   "source": [
    "#### Numbers and Arithmetic Operations\n",
    "\n",
    "Python is also a built-in calculator. Without installing any additional libraries it can do many simple and complex arithmetic operations."
   ]
  },
  {
   "cell_type": "markdown",
   "metadata": {
    "colab_type": "text",
    "id": "xd6LxgEXcgP8"
   },
   "source": [
    "**Adding and Subtracting Numbers**"
   ]
  },
  {
   "cell_type": "code",
   "execution_count": 0,
   "metadata": {
    "colab": {
     "base_uri": "https://localhost:8080/",
     "height": 34
    },
    "colab_type": "code",
    "id": "mKwZGBoMb6_A",
    "outputId": "3bb3fa57-c655-449e-bc9c-3af954c95fd4"
   },
   "outputs": [
    {
     "name": "stdout",
     "output_type": "stream",
     "text": [
      "Two Steps Forward:  One Step Back = 1\n"
     ]
    }
   ],
   "source": [
    "steps = (1+1)-1\n",
    "print(f\"Two Steps Forward:  One Step Back = {steps}\")"
   ]
  },
  {
   "cell_type": "markdown",
   "metadata": {
    "colab_type": "text",
    "id": "nMKS0ZYkdjvp"
   },
   "source": [
    "**Multiplication with Decimals**"
   ]
  },
  {
   "cell_type": "code",
   "execution_count": 0,
   "metadata": {
    "colab": {
     "base_uri": "https://localhost:8080/",
     "height": 34
    },
    "colab_type": "code",
    "id": "Xgrw0LDucinh",
    "outputId": "fe3370c3-e383-4878-b9e6-68f61b8470df"
   },
   "outputs": [
    {
     "name": "stdout",
     "output_type": "stream",
     "text": [
      "I weight 200lbs, and 20.0lbs of that is fat\n"
     ]
    }
   ],
   "source": [
    "body_fat_percentage = 0.10\n",
    "weight = 200\n",
    "fat_total = body_fat_percentage * weight\n",
    "print(f\"I weight 200lbs, and {fat_total}lbs of that is fat\")"
   ]
  },
  {
   "cell_type": "markdown",
   "metadata": {
    "colab_type": "text",
    "id": "f1_B6OUrdxlU"
   },
   "source": [
    "**Using Exponents**\n",
    "\n",
    "Using the math library it is straightforward to call 2 to the 3rd power"
   ]
  },
  {
   "cell_type": "code",
   "execution_count": 0,
   "metadata": {
    "colab": {
     "base_uri": "https://localhost:8080/",
     "height": 34
    },
    "colab_type": "code",
    "id": "Q2oC1HVhdmB9",
    "outputId": "f5113c26-2fab-4937-c8c7-a0563d829e13"
   },
   "outputs": [
    {
     "data": {
      "text/plain": [
       "8.0"
      ]
     },
     "execution_count": 22,
     "metadata": {
      "tags": []
     },
     "output_type": "execute_result"
    }
   ],
   "source": [
    "import math\n",
    "math.pow(2,3)"
   ]
  },
  {
   "cell_type": "markdown",
   "metadata": {
    "colab_type": "text",
    "id": "P6gOf9qtd6Nt"
   },
   "source": [
    "**Converting Between different numerical types**\n",
    "\n",
    "There are many numerical forms to be aware of in Python.\n",
    "A couple of the most common are:\n",
    "\n",
    "* Integers\n",
    "* Floats"
   ]
  },
  {
   "cell_type": "code",
   "execution_count": 0,
   "metadata": {
    "colab": {
     "base_uri": "https://localhost:8080/",
     "height": 34
    },
    "colab_type": "code",
    "id": "XCWg7yX-d210",
    "outputId": "211a5f2f-ee47-4f82-8c23-1a130bc1a4db"
   },
   "outputs": [
    {
     "name": "stdout",
     "output_type": "stream",
     "text": [
      "100 is type [int]\n"
     ]
    }
   ],
   "source": [
    "number = 100\n",
    "num_type = type(number).__name__\n",
    "print(f\"{number} is type [{num_type}]\")"
   ]
  },
  {
   "cell_type": "code",
   "execution_count": 0,
   "metadata": {
    "colab": {
     "base_uri": "https://localhost:8080/",
     "height": 34
    },
    "colab_type": "code",
    "id": "iW2f1Ik7eAzd",
    "outputId": "ef3862b6-a523-44bd-c88f-75db3c49418c"
   },
   "outputs": [
    {
     "name": "stdout",
     "output_type": "stream",
     "text": [
      "100.0 is type [float]\n"
     ]
    }
   ],
   "source": [
    "number = float(100)\n",
    "num_type = type(number).__name__\n",
    "print(f\"{number} is type [{num_type}]\")"
   ]
  },
  {
   "cell_type": "markdown",
   "metadata": {
    "colab_type": "text",
    "id": "MrrFXb99gQ1Z"
   },
   "source": [
    "**Numbers can also be rounded**"
   ]
  },
  {
   "cell_type": "code",
   "execution_count": 0,
   "metadata": {
    "colab": {
     "base_uri": "https://localhost:8080/",
     "height": 34
    },
    "colab_type": "code",
    "id": "Wjtnfol2iZDL",
    "outputId": "60790e60-e7f6-492c-a009-f43bc5afe5a1"
   },
   "outputs": [
    {
     "data": {
      "text/plain": [
       "1.91"
      ]
     },
     "execution_count": 25,
     "metadata": {
      "tags": []
     },
     "output_type": "execute_result"
    }
   ],
   "source": [
    "too_many_decimals = 1.912345897\n",
    "round(too_many_decimals, 2)"
   ]
  },
  {
   "cell_type": "markdown",
   "metadata": {
    "colab_type": "text",
    "id": "CuJ2OPSZiewO"
   },
   "source": [
    "#### Data Structures\n",
    "Python has a couple of core Data Structures that are used very frequently\n",
    "\n",
    "* Lists\n",
    "* Dictionaries\n",
    "\n",
    "Dictionaries and lists are the real workhorses of Python, but there are also other Data Structers like tuples, sets, Counters, etc, that are worth exploring too."
   ]
  },
  {
   "cell_type": "code",
   "execution_count": 0,
   "metadata": {
    "colab": {},
    "colab_type": "code",
    "id": "IEi6YTS2iZj7"
   },
   "outputs": [],
   "source": [
    "submissions = {\"armbar\": \"upper_body\", \n",
    "               \"arm_triangle\": \"upper_body\", \n",
    "               \"heel_hook\": \"lower_body\", \n",
    "               \"knee_bar\": \"lower_body\"}"
   ]
  },
  {
   "cell_type": "code",
   "execution_count": 0,
   "metadata": {
    "colab": {
     "base_uri": "https://localhost:8080/",
     "height": 34
    },
    "colab_type": "code",
    "id": "4guKbqgfink8",
    "outputId": "bac7f14e-d086-4efb-f0ea-e9d9bff721c9"
   },
   "outputs": [
    {
     "data": {
      "text/plain": [
       "{'upper_body': 'lower_body'}"
      ]
     },
     "execution_count": 27,
     "metadata": {
      "tags": []
     },
     "output_type": "execute_result"
    }
   ],
   "source": [
    "new_dict ={\"upper_body\":\"lower_body\"}\n",
    "new_dict"
   ]
  },
  {
   "cell_type": "markdown",
   "metadata": {
    "colab_type": "text",
    "id": "TjNRS-YOjYxw"
   },
   "source": [
    "A common dictionary pattern is to iterate on a dictionary by using the items method. In the example below the key and the value are printed:"
   ]
  },
  {
   "cell_type": "code",
   "execution_count": 0,
   "metadata": {
    "colab": {
     "base_uri": "https://localhost:8080/",
     "height": 85
    },
    "colab_type": "code",
    "id": "kW1UR_yMi5bl",
    "outputId": "54b2a200-12d3-4b10-fbd4-8d2ea8227fc0"
   },
   "outputs": [
    {
     "name": "stdout",
     "output_type": "stream",
     "text": [
      "The armbar is an attack on the upper_body\n",
      "The arm_triangle is an attack on the upper_body\n",
      "The heel_hook is an attack on the lower_body\n",
      "The knee_bar is an attack on the lower_body\n"
     ]
    }
   ],
   "source": [
    "for submission, body_part in submissions.items():\n",
    "    print(f\"The {submission} is an attack on the {body_part}\")"
   ]
  },
  {
   "cell_type": "markdown",
   "metadata": {
    "colab_type": "text",
    "id": "5cue3xbzjfhF"
   },
   "source": [
    "Dictionaries can also be used to filter.  In the example below, only the submission attacks on the upper body are displayed:"
   ]
  },
  {
   "cell_type": "code",
   "execution_count": 0,
   "metadata": {
    "colab": {
     "base_uri": "https://localhost:8080/",
     "height": 68
    },
    "colab_type": "code",
    "id": "buIoEo_Ajc1-",
    "outputId": "9b294afe-7358-4d18-da96-17232dafc9b0"
   },
   "outputs": [
    {
     "name": "stdout",
     "output_type": "stream",
     "text": [
      "These are upper_body submission attacks in Brazilian Jiu Jitsu:\n",
      "heel_hook\n",
      "knee_bar\n"
     ]
    }
   ],
   "source": [
    "print(f\"These are upper_body submission attacks in Brazilian Jiu Jitsu:\")\n",
    "for submission, body_part in submissions.items():\n",
    "    if body_part == \"lower_body\":\n",
    "        print(submission)"
   ]
  },
  {
   "cell_type": "markdown",
   "metadata": {
    "colab_type": "text",
    "id": "9jkR5VTHjsc2"
   },
   "source": [
    "Dictionary keys and values can also be selected:"
   ]
  },
  {
   "cell_type": "code",
   "execution_count": 0,
   "metadata": {
    "colab": {
     "base_uri": "https://localhost:8080/",
     "height": 51
    },
    "colab_type": "code",
    "id": "SviUgzEfjjD-",
    "outputId": "1bb6716e-21a9-4f75-ee6a-625405d8f3fe"
   },
   "outputs": [
    {
     "name": "stdout",
     "output_type": "stream",
     "text": [
      "These are keys: dict_keys(['armbar', 'arm_triangle', 'heel_hook', 'knee_bar'])\n",
      "These are values: dict_values(['upper_body', 'upper_body', 'lower_body', 'lower_body'])\n"
     ]
    }
   ],
   "source": [
    "print(f\"These are keys: {submissions.keys()}\")\n",
    "print(f\"These are values: {submissions.values()}\")"
   ]
  },
  {
   "cell_type": "markdown",
   "metadata": {
    "colab_type": "text",
    "id": "IyHkox1Rj66y"
   },
   "source": [
    "**Lists**\n",
    "\n",
    "Lists are also very commonly used in Python. They allow for sequential collections. Lists can hold dictionaries, just as dictionaries can hold lists."
   ]
  },
  {
   "cell_type": "code",
   "execution_count": 0,
   "metadata": {
    "colab": {},
    "colab_type": "code",
    "id": "MI-S0FStj1o4"
   },
   "outputs": [],
   "source": [
    "list_of_bjj_positions = [\"mount\", \"full-guard\", \"half-guard\", \n",
    "                         \"turtle\", \"side-control\", \"rear-mount\", \n",
    "                         \"knee-on-belly\", \"north-south\", \"open-guard\"]"
   ]
  },
  {
   "cell_type": "code",
   "execution_count": 0,
   "metadata": {
    "colab": {
     "base_uri": "https://localhost:8080/",
     "height": 68
    },
    "colab_type": "code",
    "id": "EoFWVpKYj94o",
    "outputId": "1d89105e-814e-48bd-969a-e474bd079360"
   },
   "outputs": [
    {
     "name": "stdout",
     "output_type": "stream",
     "text": [
      "full-guard\n",
      "half-guard\n",
      "open-guard\n"
     ]
    }
   ],
   "source": [
    "for postion in list_of_bjj_positions:\n",
    "    if \"guard\" in postion:\n",
    "        print(postion)"
   ]
  },
  {
   "cell_type": "markdown",
   "metadata": {
    "colab_type": "text",
    "id": "YAMxQJobkCy8"
   },
   "source": [
    "Lists can also be used to select elements by slicing"
   ]
  },
  {
   "cell_type": "code",
   "execution_count": 0,
   "metadata": {
    "colab": {
     "base_uri": "https://localhost:8080/",
     "height": 68
    },
    "colab_type": "code",
    "id": "Zi6PKsRIkAl_",
    "outputId": "fe2bd59e-df4c-44d3-b4c4-f6eece786ab4"
   },
   "outputs": [
    {
     "name": "stdout",
     "output_type": "stream",
     "text": [
      "First position: ['mount']\n",
      "Last position: ['open-guard']\n",
      "First three positions: ['mount', 'full-guard', 'half-guard']\n"
     ]
    }
   ],
   "source": [
    "print(f'First position: {list_of_bjj_positions[:1]}')\n",
    "print(f'Last position: {list_of_bjj_positions[-1:]}')\n",
    "print(f'First three positions: {list_of_bjj_positions[0:3]}')"
   ]
  },
  {
   "cell_type": "markdown",
   "metadata": {
    "colab_type": "text",
    "id": "KkCOxC9-lcPn"
   },
   "source": [
    "## Functions\n",
    "*  **Writing Functions**\n",
    "*  Function arguments:  positional, keyword\n",
    "*  Functional Currying:  Passing uncalled functions\n",
    "*  Functions that Yield\n",
    "*  Decorators:  Functions that wrap other functions"
   ]
  },
  {
   "cell_type": "markdown",
   "metadata": {
    "colab_type": "text",
    "id": "Cdiexy7floD0"
   },
   "source": [
    "#### Writing Functions\n",
    "Learning to write a function is the most fundamental skill to learn in Python.  With a basic mastery of functions, it is possible to have an almost full command of the language."
   ]
  },
  {
   "cell_type": "markdown",
   "metadata": {
    "colab_type": "text",
    "id": "8FUYk1qGluHH"
   },
   "source": [
    "**Simple function**\n",
    "\n",
    "The simplest functions just return a value."
   ]
  },
  {
   "cell_type": "code",
   "execution_count": 0,
   "metadata": {
    "colab": {},
    "colab_type": "code",
    "id": "evAM5jI_k-Sa"
   },
   "outputs": [],
   "source": [
    "def favorite_martial_art():\n",
    "    return \"bjj\""
   ]
  },
  {
   "cell_type": "code",
   "execution_count": 0,
   "metadata": {
    "colab": {},
    "colab_type": "code",
    "id": "ISarIoxmlz3l"
   },
   "outputs": [],
   "source": [
    "def myfunc():pass"
   ]
  },
  {
   "cell_type": "code",
   "execution_count": 0,
   "metadata": {
    "colab": {
     "base_uri": "https://localhost:8080/",
     "height": 34
    },
    "colab_type": "code",
    "id": "n3RqISfwl1f1",
    "outputId": "14357e71-d971-41e9-b518-d73bb116fdfa"
   },
   "outputs": [
    {
     "data": {
      "text/plain": [
       "'bjj'"
      ]
     },
     "execution_count": 12,
     "metadata": {
      "tags": []
     },
     "output_type": "execute_result"
    }
   ],
   "source": [
    "favorite_martial_art()"
   ]
  },
  {
   "cell_type": "markdown",
   "metadata": {
    "colab_type": "text",
    "id": "5s1MX4mTl8HZ"
   },
   "source": [
    "**Documenting Functions**\n",
    "\n",
    "It is a very good idea to document functions.  \n",
    "In Jupyter Notebook and IPython docstrings can be viewed by referring to the function with a ?.  ie.\n",
    "\n",
    "```\n",
    "In [2]: favorite_martial_art_with_docstring?\n",
    "Signature: favorite_martial_art_with_docstring()\n",
    "Docstring: This function returns the name of my favorite martial art\n",
    "File:      ~/src/functional_intro_to_python/<ipython-input-1-bef983c31735>\n",
    "Type:      function\n",
    "```"
   ]
  },
  {
   "cell_type": "code",
   "execution_count": 0,
   "metadata": {
    "colab": {},
    "colab_type": "code",
    "id": "DIxYggI-l3FF"
   },
   "outputs": [],
   "source": [
    "def favorite_martial_art_with_docstring():\n",
    "    \"\"\"This function returns the name of my favorite martial art\"\"\"\n",
    "    return \"bjj\""
   ]
  },
  {
   "cell_type": "markdown",
   "metadata": {
    "colab_type": "text",
    "id": "gz9xWRbymGxN"
   },
   "source": [
    "**Docstrings of functions can be printed out by referring to *```__doc__```*** "
   ]
  },
  {
   "cell_type": "code",
   "execution_count": 0,
   "metadata": {
    "colab": {
     "base_uri": "https://localhost:8080/",
     "height": 34
    },
    "colab_type": "code",
    "id": "3Ri4xRDAmEAt",
    "outputId": "682ee266-a75d-46e1-cb0e-eb41962bbaea"
   },
   "outputs": [
    {
     "data": {
      "text/plain": [
       "'This function returns the name of my favorite martial art'"
      ]
     },
     "execution_count": 41,
     "metadata": {
      "tags": []
     },
     "output_type": "execute_result"
    }
   ],
   "source": [
    "favorite_martial_art_with_docstring.__doc__"
   ]
  },
  {
   "cell_type": "markdown",
   "metadata": {
    "colab_type": "text",
    "id": "lSbZioWDmt7A"
   },
   "source": [
    "#### Function arguments: positional, keyword\n",
    "\n",
    "A function is most useful when arguments are passed to the function. New values for times are processed inside the function. This function is also a 'positional' argument, vs a keyword argument. Positional arguments are processed in the order they are created in."
   ]
  },
  {
   "cell_type": "code",
   "execution_count": 0,
   "metadata": {
    "colab": {},
    "colab_type": "code",
    "id": "ZazxMrcgmIu2"
   },
   "outputs": [],
   "source": [
    "def practice(times):\n",
    "    print(f\"I like to practice {times} times a day\")"
   ]
  },
  {
   "cell_type": "code",
   "execution_count": 0,
   "metadata": {
    "colab": {
     "base_uri": "https://localhost:8080/",
     "height": 34
    },
    "colab_type": "code",
    "id": "WAfQ7R9Lm0hH",
    "outputId": "401e6528-767a-4a49-9dbe-23b24ca6fa45"
   },
   "outputs": [
    {
     "name": "stdout",
     "output_type": "stream",
     "text": [
      "I like to practice 2 times a day\n"
     ]
    }
   ],
   "source": [
    "practice(2)"
   ]
  },
  {
   "cell_type": "code",
   "execution_count": 0,
   "metadata": {
    "colab": {
     "base_uri": "https://localhost:8080/",
     "height": 34
    },
    "colab_type": "code",
    "id": "yaC3N-xRm2UP",
    "outputId": "2173c603-a531-4161-b871-740218c1604d"
   },
   "outputs": [
    {
     "name": "stdout",
     "output_type": "stream",
     "text": [
      "I like to practice 3 times a day\n"
     ]
    }
   ],
   "source": [
    "practice(3)"
   ]
  },
  {
   "cell_type": "markdown",
   "metadata": {
    "colab_type": "text",
    "id": "wjOPqG4tm6V4"
   },
   "source": [
    "**Positional Arguments are processed in order**"
   ]
  },
  {
   "cell_type": "code",
   "execution_count": 0,
   "metadata": {
    "colab": {},
    "colab_type": "code",
    "id": "LAnbb7Ffm3jA"
   },
   "outputs": [],
   "source": [
    "def practice(times, technique, duration):\n",
    "    print(f\"I like to practice {technique}, {times} times a day, for {duration} minutes\")"
   ]
  },
  {
   "cell_type": "code",
   "execution_count": 0,
   "metadata": {
    "colab": {
     "base_uri": "https://localhost:8080/",
     "height": 34
    },
    "colab_type": "code",
    "id": "pBFg1WSpm96o",
    "outputId": "ef1494e1-0034-46ee-97c7-890bf72f9e9c"
   },
   "outputs": [
    {
     "name": "stdout",
     "output_type": "stream",
     "text": [
      "I like to practice leg locks, 2 times a day, for 45 minutes\n"
     ]
    }
   ],
   "source": [
    "practice(2, \"leg locks\", 45)"
   ]
  },
  {
   "cell_type": "markdown",
   "metadata": {
    "colab_type": "text",
    "id": "Q-iFl78bqYL7"
   },
   "source": [
    "**Keyword Arguments are processed by key, value and can have default values**\n",
    "\n",
    "One handy feature of keyword arguments is that you can set defaults and only change the defaults you want to change."
   ]
  },
  {
   "cell_type": "code",
   "execution_count": 0,
   "metadata": {
    "colab": {},
    "colab_type": "code",
    "id": "xGPSr7oRnNoB"
   },
   "outputs": [],
   "source": [
    "def practice(times=2, technique=\"kimura\", duration=60):\n",
    "    print(f\"I like to practice {technique}, {times} times a day, for {duration} minutes\")"
   ]
  },
  {
   "cell_type": "code",
   "execution_count": 0,
   "metadata": {
    "colab": {
     "base_uri": "https://localhost:8080/",
     "height": 34
    },
    "colab_type": "code",
    "id": "9wbcHp3RqeE6",
    "outputId": "38222eba-d8d0-4caf-e196-1a6f25f87f9a"
   },
   "outputs": [
    {
     "name": "stdout",
     "output_type": "stream",
     "text": [
      "I like to practice kimura, 2 times a day, for 60 minutes\n"
     ]
    }
   ],
   "source": [
    "practice()"
   ]
  },
  {
   "cell_type": "code",
   "execution_count": 0,
   "metadata": {
    "colab": {
     "base_uri": "https://localhost:8080/",
     "height": 34
    },
    "colab_type": "code",
    "id": "iZpM_CFfqf1K",
    "outputId": "627a9641-aab9-44ca-c252-e7bd701d2766"
   },
   "outputs": [
    {
     "name": "stdout",
     "output_type": "stream",
     "text": [
      "I like to practice armbar, 4 times a day, for 90 minutes\n"
     ]
    }
   ],
   "source": [
    "practice(duration=90, technique=\"armbar\", times=4)"
   ]
  },
  {
   "cell_type": "markdown",
   "metadata": {
    "colab_type": "text",
    "id": "YLx6Cax5qlII"
   },
   "source": [
    "*****args and ****kwargs\n",
    "\n",
    "allow dynamic argument passing to functions\n",
    "Should be used with discretion because it can make code hard to understand"
   ]
  },
  {
   "cell_type": "code",
   "execution_count": 0,
   "metadata": {
    "colab": {},
    "colab_type": "code",
    "id": "S94YHFbbqhzj"
   },
   "outputs": [],
   "source": [
    "def attack_techniques(**kwargs):\n",
    "    \"\"\"This accepts any number of keyword arguments\"\"\"\n",
    "    \n",
    "    for name, attack in kwargs.items():\n",
    "        print(f\"This is attack I would like to practice: {attack}\")"
   ]
  },
  {
   "cell_type": "code",
   "execution_count": 0,
   "metadata": {
    "colab": {
     "base_uri": "https://localhost:8080/",
     "height": 68
    },
    "colab_type": "code",
    "id": "FzmNEp5aq3gT",
    "outputId": "0d332186-4122-4117-836b-dcdaf58d2974"
   },
   "outputs": [
    {
     "name": "stdout",
     "output_type": "stream",
     "text": [
      "This is attack I would like to practice: kimura\n",
      "This is attack I would like to practice: straight_ankle_lock\n",
      "This is attack I would like to practice: arm_triangle\n"
     ]
    }
   ],
   "source": [
    "attack_techniques(arm_attack=\"kimura\", \n",
    "                  leg_attack=\"straight_ankle_lock\", neck_attach=\"arm_triangle\")"
   ]
  },
  {
   "cell_type": "markdown",
   "metadata": {
    "colab_type": "text",
    "id": "HH_3zD8Uq7pc"
   },
   "source": [
    "**passing dictionary of keywords to function**\n",
    "\n",
    "**kwargs syntax can also be used to pass in arguments all at once"
   ]
  },
  {
   "cell_type": "code",
   "execution_count": 0,
   "metadata": {
    "colab": {},
    "colab_type": "code",
    "id": "0o0bvq5Sq5WF"
   },
   "outputs": [],
   "source": [
    "attacks = {\"arm_attack\":\"kimura\", \n",
    "           \"leg_attack\":\"straight_ankle_lock\", \n",
    "           \"neck_attach\":\"arm_triangle\"}"
   ]
  },
  {
   "cell_type": "code",
   "execution_count": 0,
   "metadata": {
    "colab": {
     "base_uri": "https://localhost:8080/",
     "height": 68
    },
    "colab_type": "code",
    "id": "LIm6ZxNUrDRV",
    "outputId": "52e9d4ff-a82d-46ed-fda5-56d33b95b663"
   },
   "outputs": [
    {
     "name": "stdout",
     "output_type": "stream",
     "text": [
      "This is attack I would like to practice: kimura\n",
      "This is attack I would like to practice: straight_ankle_lock\n",
      "This is attack I would like to practice: arm_triangle\n"
     ]
    }
   ],
   "source": [
    "attack_techniques(**attacks)"
   ]
  },
  {
   "cell_type": "markdown",
   "metadata": {
    "colab_type": "text",
    "id": "68UzTUSvrHNU"
   },
   "source": [
    "**Passing Around Functions**\n",
    "\n",
    "Object-Oriented programming is a very popular way to program, but it isn't the only style available in Python. For concurrency and for Data Science, functional programming fits as a complementary style.\n",
    "\n",
    "In the example, below a function can be used inside of another function by being passed into the function itself as an argument."
   ]
  },
  {
   "cell_type": "code",
   "execution_count": 0,
   "metadata": {
    "colab": {},
    "colab_type": "code",
    "id": "33LkDqP7rFHu"
   },
   "outputs": [],
   "source": [
    "def attack_location(technique):\n",
    "    \"\"\"Return the location of an attack\"\"\"\n",
    "    \n",
    "    attacks = {\"kimura\": \"arm_attack\",\n",
    "           \"straight_ankle_lock\":\"leg_attack\", \n",
    "           \"arm_triangle\":\"neck_attach\"}\n",
    "    if technique in attacks:\n",
    "        return attacks[technique]\n",
    "    return \"Unknown\""
   ]
  },
  {
   "cell_type": "code",
   "execution_count": 0,
   "metadata": {
    "colab": {
     "base_uri": "https://localhost:8080/",
     "height": 34
    },
    "colab_type": "code",
    "id": "_DSlMWEHrNO8",
    "outputId": "bf7d47f3-85e8-4f09-cc84-8698b368972a"
   },
   "outputs": [
    {
     "data": {
      "text/plain": [
       "'arm_attack'"
      ]
     },
     "execution_count": 56,
     "metadata": {
      "tags": []
     },
     "output_type": "execute_result"
    }
   ],
   "source": [
    "attack_location(\"kimura\")"
   ]
  },
  {
   "cell_type": "code",
   "execution_count": 0,
   "metadata": {
    "colab": {
     "base_uri": "https://localhost:8080/",
     "height": 34
    },
    "colab_type": "code",
    "id": "cE4gnDHnrStV",
    "outputId": "6ed6686f-07a3-4024-d645-4f530dac76d6"
   },
   "outputs": [
    {
     "data": {
      "text/plain": [
       "'Unknown'"
      ]
     },
     "execution_count": 57,
     "metadata": {
      "tags": []
     },
     "output_type": "execute_result"
    }
   ],
   "source": [
    "attack_location(\"bear hug\")"
   ]
  },
  {
   "cell_type": "code",
   "execution_count": 0,
   "metadata": {
    "colab": {},
    "colab_type": "code",
    "id": "mDt1pozYrUet"
   },
   "outputs": [],
   "source": [
    "def multiple_attacks(attack_location_function):\n",
    "    \"\"\"Takes a function that categorizes attacks and returns location\"\"\"\n",
    "    \n",
    "    new_attacks_list = [\"rear_naked_choke\", \"americana\", \"kimura\"]\n",
    "    for attack in new_attacks_list:\n",
    "        attack_location = attack_location_function(attack)\n",
    "        print(f\"The location of attack {attack} is {attack_location}\")\n",
    "    "
   ]
  },
  {
   "cell_type": "code",
   "execution_count": 0,
   "metadata": {
    "colab": {
     "base_uri": "https://localhost:8080/",
     "height": 68
    },
    "colab_type": "code",
    "id": "mHHjf1u_rWCd",
    "outputId": "9b2414e8-5362-4b1e-cd37-b00386552aa4"
   },
   "outputs": [
    {
     "name": "stdout",
     "output_type": "stream",
     "text": [
      "The location of attack rear_naked_choke is Unknown\n",
      "The location of attack americana is Unknown\n",
      "The location of attack kimura is arm_attack\n"
     ]
    }
   ],
   "source": [
    "multiple_attacks(attack_location)"
   ]
  },
  {
   "cell_type": "markdown",
   "metadata": {
    "colab_type": "text",
    "id": "TUiAz5MQrzQ0"
   },
   "source": [
    "#### Closures and Functional Currying\n",
    "\n",
    "Closures are functions that contain other nested functions. In Python, a common way to use them is to keep track of the state. In the example below, the outer function, attack_counter keeps track of counts of attacks. The inner fuction attack_filter uses the \"nonlocal\" keyword in Python3, to modify the variable in the outer function.\n",
    "\n",
    "This approach is called \"functional currying\". It allows for a specialized function to be created from general functions. As shown below, this style of function could be the basis of a simple video game or maybe for the statistics crew of a mma match."
   ]
  },
  {
   "cell_type": "code",
   "execution_count": 0,
   "metadata": {
    "colab": {},
    "colab_type": "code",
    "id": "GA98rOUfrYYW"
   },
   "outputs": [],
   "source": [
    "def attack_counter():\n",
    "    \"\"\"Counts number of attacks on part of body\"\"\"\n",
    "    lower_body_counter = 0\n",
    "    upper_body_counter = 0\n",
    "    #print(lower_body_counter)\n",
    "    def attack_filter(attack):\n",
    "        nonlocal lower_body_counter\n",
    "        nonlocal upper_body_counter\n",
    "        attacks = {\"kimura\": \"upper_body\",\n",
    "           \"straight_ankle_lock\":\"lower_body\", \n",
    "           \"arm_triangle\":\"upper_body\",\n",
    "            \"keylock\": \"upper_body\",\n",
    "            \"knee_bar\": \"lower_body\"}\n",
    "        if attack in attacks:\n",
    "            if attacks[attack] == \"upper_body\":\n",
    "                upper_body_counter +=1\n",
    "            if attacks[attack] == \"lower_body\":\n",
    "                lower_body_counter +=1\n",
    "        print(f\"Upper Body Attacks {upper_body_counter}, Lower Body Attacks {lower_body_counter}\")\n",
    "    return attack_filter"
   ]
  },
  {
   "cell_type": "code",
   "execution_count": 0,
   "metadata": {
    "colab": {},
    "colab_type": "code",
    "id": "lkgoQQK6r_Ce"
   },
   "outputs": [],
   "source": [
    "fight = attack_counter()"
   ]
  },
  {
   "cell_type": "code",
   "execution_count": 0,
   "metadata": {
    "colab": {
     "base_uri": "https://localhost:8080/",
     "height": 34
    },
    "colab_type": "code",
    "id": "-XmBshgPsBA_",
    "outputId": "29bf34e8-d562-408c-9df7-b77386a1fb1b"
   },
   "outputs": [
    {
     "name": "stdout",
     "output_type": "stream",
     "text": [
      "Upper Body Attacks 1, Lower Body Attacks 0\n"
     ]
    }
   ],
   "source": [
    "fight(\"kimura\")"
   ]
  },
  {
   "cell_type": "code",
   "execution_count": 0,
   "metadata": {
    "colab": {
     "base_uri": "https://localhost:8080/",
     "height": 34
    },
    "colab_type": "code",
    "id": "raaAX8rssCow",
    "outputId": "e2f622da-6eea-4194-a2da-22678ec8a4f8"
   },
   "outputs": [
    {
     "name": "stdout",
     "output_type": "stream",
     "text": [
      "Upper Body Attacks 1, Lower Body Attacks 1\n"
     ]
    }
   ],
   "source": [
    "fight(\"knee_bar\")"
   ]
  },
  {
   "cell_type": "code",
   "execution_count": 0,
   "metadata": {
    "colab": {
     "base_uri": "https://localhost:8080/",
     "height": 34
    },
    "colab_type": "code",
    "id": "IiMpVq_asD8_",
    "outputId": "7a091129-44ad-44d8-a099-2e2f1c81ebc9"
   },
   "outputs": [
    {
     "name": "stdout",
     "output_type": "stream",
     "text": [
      "Upper Body Attacks 2, Lower Body Attacks 1\n"
     ]
    }
   ],
   "source": [
    "fight(\"keylock\")"
   ]
  },
  {
   "cell_type": "markdown",
   "metadata": {
    "colab_type": "text",
    "id": "aLIO9ChNsLtv"
   },
   "source": [
    "#### Functions that Yield (Generators)\n",
    "\n",
    "A very useful style of programming is \"lazy evaluation\". A generator is an example of that. Generators yield an items at a time.\n",
    "\n",
    "The example below return an \"infinite\" random sequence of attacks. The lazy portion comes into play in that while there is an infinite amount of values, they are only returned when the function is called."
   ]
  },
  {
   "cell_type": "code",
   "execution_count": 0,
   "metadata": {
    "colab": {},
    "colab_type": "code",
    "id": "POIrTolzsGHI"
   },
   "outputs": [],
   "source": [
    "def lazy_return_random_attacks():\n",
    "    \"\"\"Yield attacks each time\"\"\"\n",
    "    import random\n",
    "    attacks = {\"kimura\": \"upper_body\",\n",
    "           \"straight_ankle_lock\":\"lower_body\", \n",
    "           \"arm_triangle\":\"upper_body\",\n",
    "            \"keylock\": \"upper_body\",\n",
    "            \"knee_bar\": \"lower_body\"}\n",
    "    while True:\n",
    "        random_attack = random.choices(list(attacks.keys()))\n",
    "        yield random_attack"
   ]
  },
  {
   "cell_type": "code",
   "execution_count": 0,
   "metadata": {
    "colab": {},
    "colab_type": "code",
    "id": "2-YpCTpgsQ-w"
   },
   "outputs": [],
   "source": [
    "attack = lazy_return_random_attacks()"
   ]
  },
  {
   "cell_type": "code",
   "execution_count": 0,
   "metadata": {
    "colab": {
     "base_uri": "https://localhost:8080/",
     "height": 34
    },
    "colab_type": "code",
    "id": "E0KpVrnBsSmB",
    "outputId": "48b31a13-1998-4da8-c5fa-a2a0b0874cf9"
   },
   "outputs": [
    {
     "data": {
      "text/plain": [
       "generator"
      ]
     },
     "execution_count": 6,
     "metadata": {
      "tags": []
     },
     "output_type": "execute_result"
    }
   ],
   "source": [
    "type(attack)"
   ]
  },
  {
   "cell_type": "code",
   "execution_count": 0,
   "metadata": {
    "colab": {},
    "colab_type": "code",
    "id": "GpmNPsCFsURY"
   },
   "outputs": [],
   "source": [
    "attacks = {\"kimura\": \"upper_body\",\n",
    "           \"straight_ankle_lock\":\"lower_body\", \n",
    "           \"arm_triangle\":\"upper_body\",\n",
    "            \"keylock\": \"upper_body\",\n",
    "            \"knee_bar\": \"lower_body\"}"
   ]
  },
  {
   "cell_type": "code",
   "execution_count": 0,
   "metadata": {
    "colab": {
     "base_uri": "https://localhost:8080/",
     "height": 102
    },
    "colab_type": "code",
    "id": "uq41o3wrsYRJ",
    "outputId": "469fe9db-0891-4650-f2b5-d34b8f1ecb67"
   },
   "outputs": [
    {
     "name": "stdout",
     "output_type": "stream",
     "text": [
      "['kimura']\n",
      "['straight_ankle_lock']\n",
      "['keylock']\n",
      "['arm_triangle']\n",
      "['arm_triangle']\n"
     ]
    }
   ],
   "source": [
    "for _ in range(5):\n",
    "    print(next(attack))"
   ]
  },
  {
   "cell_type": "markdown",
   "metadata": {
    "colab_type": "text",
    "id": "vMuPog4LshHn"
   },
   "source": [
    "#### Decorators: Functions that wrap other functions\n",
    "\n",
    "Another useful technique in Python is to use the decorator syntax to wrap one function with another function. In the example below, a decorator is written that adds random sleep to each function call. When combined with the previous \"infinite\" attack generator, it generates random sleeps between each function call."
   ]
  },
  {
   "cell_type": "code",
   "execution_count": 0,
   "metadata": {
    "colab": {},
    "colab_type": "code",
    "id": "Mgg2IeqqscMI"
   },
   "outputs": [],
   "source": [
    "def randomized_speed_attack_decorator(function):\n",
    "    \"\"\"Randomizes the speed of attacks\"\"\"\n",
    "    \n",
    "    import time\n",
    "    import random\n",
    "    \n",
    "    def wrapper_func(*args, **kwargs):\n",
    "        sleep_time = random.randint(0,3)\n",
    "        print(f\"Attacking after {sleep_time} seconds\")\n",
    "        time.sleep(sleep_time)\n",
    "        return function(*args, **kwargs)\n",
    "    return wrapper_func\n"
   ]
  },
  {
   "cell_type": "code",
   "execution_count": 0,
   "metadata": {
    "colab": {},
    "colab_type": "code",
    "id": "DzYV0s0GslOx"
   },
   "outputs": [],
   "source": [
    "@randomized_speed_attack_decorator\n",
    "def lazy_return_random_attacks():\n",
    "    \"\"\"Yield attacks each time\"\"\"\n",
    "    import random\n",
    "    attacks = {\"kimura\": \"upper_body\",\n",
    "           \"straight_ankle_lock\":\"lower_body\", \n",
    "           \"arm_triangle\":\"upper_body\",\n",
    "            \"keylock\": \"upper_body\",\n",
    "            \"knee_bar\": \"lower_body\"}\n",
    "    while True:\n",
    "        random_attack = random.choices(list(attacks.keys()))\n",
    "        yield random_attack"
   ]
  },
  {
   "cell_type": "code",
   "execution_count": 0,
   "metadata": {
    "colab": {
     "base_uri": "https://localhost:8080/",
     "height": 357
    },
    "colab_type": "code",
    "id": "GdsePWP4sreC",
    "outputId": "fdd7232d-1a1f-477b-fb09-1b26d1291305"
   },
   "outputs": [
    {
     "name": "stdout",
     "output_type": "stream",
     "text": [
      "Attacking after 2 seconds\n",
      "['arm_triangle']\n",
      "Attacking after 3 seconds\n",
      "['arm_triangle']\n",
      "Attacking after 3 seconds\n",
      "['keylock']\n",
      "Attacking after 0 seconds\n",
      "['knee_bar']\n",
      "Attacking after 3 seconds\n",
      "['knee_bar']\n",
      "Attacking after 3 seconds\n",
      "['keylock']\n",
      "Attacking after 2 seconds\n",
      "['knee_bar']\n",
      "Attacking after 1 seconds\n",
      "['keylock']\n",
      "Attacking after 3 seconds\n",
      "['arm_triangle']\n",
      "Attacking after 0 seconds\n",
      "['keylock']\n"
     ]
    }
   ],
   "source": [
    "for _ in range(10):\n",
    "    print(next(lazy_return_random_attacks()))"
   ]
  },
  {
   "cell_type": "markdown",
   "metadata": {
    "colab_type": "text",
    "id": "VJ9sUUN1sz_6"
   },
   "source": [
    "#### Applying a Function to a Pandas DataFrame\n",
    "\n",
    "The final lesson on functions is to take this knowledge and use it on a DataFrame in Pandas. One of the more fundamental concepts in Pandas is use apply on a column vs iterating through all of the values. An example is shown below where all of the numbers are rounded to a whole digit."
   ]
  },
  {
   "cell_type": "code",
   "execution_count": 0,
   "metadata": {
    "colab": {
     "base_uri": "https://localhost:8080/",
     "height": 102
    },
    "colab_type": "code",
    "id": "FP-CwOqostU6",
    "outputId": "8b24af70-4e11-49bb-f4b7-8694fdc2aea1"
   },
   "outputs": [
    {
     "name": "stdout",
     "output_type": "stream",
     "text": [
      "Requirement already satisfied: pandas in /usr/local/lib/python3.6/dist-packages\r\n",
      "Requirement already satisfied: python-dateutil>=2 in /usr/local/lib/python3.6/dist-packages (from pandas)\r\n",
      "Requirement already satisfied: numpy>=1.9.0 in /usr/local/lib/python3.6/dist-packages (from pandas)\n",
      "Requirement already satisfied: pytz>=2011k in /usr/local/lib/python3.6/dist-packages (from pandas)\n",
      "Requirement already satisfied: six>=1.5 in /usr/local/lib/python3.6/dist-packages (from python-dateutil>=2->pandas)\n"
     ]
    }
   ],
   "source": [
    "!pip install pandas"
   ]
  },
  {
   "cell_type": "code",
   "execution_count": 0,
   "metadata": {
    "colab": {
     "base_uri": "https://localhost:8080/",
     "height": 204
    },
    "colab_type": "code",
    "id": "FuVhdH6itI6T",
    "outputId": "417e97da-2d32-4d50-8c00-9db2b6d8d24a"
   },
   "outputs": [
    {
     "data": {
      "text/html": [
       "<div>\n",
       "<style scoped>\n",
       "    .dataframe tbody tr th:only-of-type {\n",
       "        vertical-align: middle;\n",
       "    }\n",
       "\n",
       "    .dataframe tbody tr th {\n",
       "        vertical-align: top;\n",
       "    }\n",
       "\n",
       "    .dataframe thead th {\n",
       "        text-align: right;\n",
       "    }\n",
       "</style>\n",
       "<table border=\"1\" class=\"dataframe\">\n",
       "  <thead>\n",
       "    <tr style=\"text-align: right;\">\n",
       "      <th></th>\n",
       "      <th>sepal_length</th>\n",
       "      <th>sepal_width</th>\n",
       "      <th>petal_length</th>\n",
       "      <th>petal_width</th>\n",
       "      <th>species</th>\n",
       "    </tr>\n",
       "  </thead>\n",
       "  <tbody>\n",
       "    <tr>\n",
       "      <th>0</th>\n",
       "      <td>5.1</td>\n",
       "      <td>3.5</td>\n",
       "      <td>1.4</td>\n",
       "      <td>0.2</td>\n",
       "      <td>setosa</td>\n",
       "    </tr>\n",
       "    <tr>\n",
       "      <th>1</th>\n",
       "      <td>4.9</td>\n",
       "      <td>3.0</td>\n",
       "      <td>1.4</td>\n",
       "      <td>0.2</td>\n",
       "      <td>setosa</td>\n",
       "    </tr>\n",
       "    <tr>\n",
       "      <th>2</th>\n",
       "      <td>4.7</td>\n",
       "      <td>3.2</td>\n",
       "      <td>1.3</td>\n",
       "      <td>0.2</td>\n",
       "      <td>setosa</td>\n",
       "    </tr>\n",
       "    <tr>\n",
       "      <th>3</th>\n",
       "      <td>4.6</td>\n",
       "      <td>3.1</td>\n",
       "      <td>1.5</td>\n",
       "      <td>0.2</td>\n",
       "      <td>setosa</td>\n",
       "    </tr>\n",
       "    <tr>\n",
       "      <th>4</th>\n",
       "      <td>5.0</td>\n",
       "      <td>3.6</td>\n",
       "      <td>1.4</td>\n",
       "      <td>0.2</td>\n",
       "      <td>setosa</td>\n",
       "    </tr>\n",
       "  </tbody>\n",
       "</table>\n",
       "</div>"
      ],
      "text/plain": [
       "   sepal_length  sepal_width  petal_length  petal_width species\n",
       "0           5.1          3.5           1.4          0.2  setosa\n",
       "1           4.9          3.0           1.4          0.2  setosa\n",
       "2           4.7          3.2           1.3          0.2  setosa\n",
       "3           4.6          3.1           1.5          0.2  setosa\n",
       "4           5.0          3.6           1.4          0.2  setosa"
      ]
     },
     "execution_count": 74,
     "metadata": {
      "tags": []
     },
     "output_type": "execute_result"
    }
   ],
   "source": [
    "import pandas as pd\n",
    "iris = pd.read_csv('https://raw.githubusercontent.com/mwaskom/seaborn-data/master/iris.csv')\n",
    "iris.head()"
   ]
  },
  {
   "cell_type": "code",
   "execution_count": 0,
   "metadata": {
    "colab": {
     "base_uri": "https://localhost:8080/",
     "height": 204
    },
    "colab_type": "code",
    "id": "Z49MY9N4tYb8",
    "outputId": "5aa4a270-7ae7-4137-cfaa-4065f9968c0f"
   },
   "outputs": [
    {
     "data": {
      "text/html": [
       "<div>\n",
       "<style scoped>\n",
       "    .dataframe tbody tr th:only-of-type {\n",
       "        vertical-align: middle;\n",
       "    }\n",
       "\n",
       "    .dataframe tbody tr th {\n",
       "        vertical-align: top;\n",
       "    }\n",
       "\n",
       "    .dataframe thead th {\n",
       "        text-align: right;\n",
       "    }\n",
       "</style>\n",
       "<table border=\"1\" class=\"dataframe\">\n",
       "  <thead>\n",
       "    <tr style=\"text-align: right;\">\n",
       "      <th></th>\n",
       "      <th>sepal_length</th>\n",
       "      <th>sepal_width</th>\n",
       "      <th>petal_length</th>\n",
       "      <th>petal_width</th>\n",
       "      <th>species</th>\n",
       "      <th>rounded_sepal_length</th>\n",
       "    </tr>\n",
       "  </thead>\n",
       "  <tbody>\n",
       "    <tr>\n",
       "      <th>0</th>\n",
       "      <td>5.1</td>\n",
       "      <td>3.5</td>\n",
       "      <td>1.4</td>\n",
       "      <td>0.2</td>\n",
       "      <td>setosa</td>\n",
       "      <td>5.0</td>\n",
       "    </tr>\n",
       "    <tr>\n",
       "      <th>1</th>\n",
       "      <td>4.9</td>\n",
       "      <td>3.0</td>\n",
       "      <td>1.4</td>\n",
       "      <td>0.2</td>\n",
       "      <td>setosa</td>\n",
       "      <td>5.0</td>\n",
       "    </tr>\n",
       "    <tr>\n",
       "      <th>2</th>\n",
       "      <td>4.7</td>\n",
       "      <td>3.2</td>\n",
       "      <td>1.3</td>\n",
       "      <td>0.2</td>\n",
       "      <td>setosa</td>\n",
       "      <td>5.0</td>\n",
       "    </tr>\n",
       "    <tr>\n",
       "      <th>3</th>\n",
       "      <td>4.6</td>\n",
       "      <td>3.1</td>\n",
       "      <td>1.5</td>\n",
       "      <td>0.2</td>\n",
       "      <td>setosa</td>\n",
       "      <td>5.0</td>\n",
       "    </tr>\n",
       "    <tr>\n",
       "      <th>4</th>\n",
       "      <td>5.0</td>\n",
       "      <td>3.6</td>\n",
       "      <td>1.4</td>\n",
       "      <td>0.2</td>\n",
       "      <td>setosa</td>\n",
       "      <td>5.0</td>\n",
       "    </tr>\n",
       "  </tbody>\n",
       "</table>\n",
       "</div>"
      ],
      "text/plain": [
       "   sepal_length  sepal_width  petal_length  petal_width species  \\\n",
       "0           5.1          3.5           1.4          0.2  setosa   \n",
       "1           4.9          3.0           1.4          0.2  setosa   \n",
       "2           4.7          3.2           1.3          0.2  setosa   \n",
       "3           4.6          3.1           1.5          0.2  setosa   \n",
       "4           5.0          3.6           1.4          0.2  setosa   \n",
       "\n",
       "   rounded_sepal_length  \n",
       "0                   5.0  \n",
       "1                   5.0  \n",
       "2                   5.0  \n",
       "3                   5.0  \n",
       "4                   5.0  "
      ]
     },
     "execution_count": 75,
     "metadata": {
      "tags": []
     },
     "output_type": "execute_result"
    }
   ],
   "source": [
    "iris['rounded_sepal_length'] = iris[['sepal_length']].apply(pd.Series.round)\n",
    "iris.head()"
   ]
  },
  {
   "cell_type": "markdown",
   "metadata": {
    "colab_type": "text",
    "id": "crAix83YtfIU"
   },
   "source": [
    "This was done with a built in function, but a custom function can also be written and applied to a column. In the example below, the values are multiplied by 100. The alternative way to accomplish this would be to create a loop, transform the data and then write it back. In Pandas, it is straightforward and simple to apply custom functions instead."
   ]
  },
  {
   "cell_type": "code",
   "execution_count": 0,
   "metadata": {
    "colab": {
     "base_uri": "https://localhost:8080/",
     "height": 204
    },
    "colab_type": "code",
    "id": "7vNcYc6htaHj",
    "outputId": "e8c59d57-0696-4a2e-c4e6-e066d3d4e306"
   },
   "outputs": [
    {
     "data": {
      "text/html": [
       "<div>\n",
       "<style scoped>\n",
       "    .dataframe tbody tr th:only-of-type {\n",
       "        vertical-align: middle;\n",
       "    }\n",
       "\n",
       "    .dataframe tbody tr th {\n",
       "        vertical-align: top;\n",
       "    }\n",
       "\n",
       "    .dataframe thead th {\n",
       "        text-align: right;\n",
       "    }\n",
       "</style>\n",
       "<table border=\"1\" class=\"dataframe\">\n",
       "  <thead>\n",
       "    <tr style=\"text-align: right;\">\n",
       "      <th></th>\n",
       "      <th>sepal_length</th>\n",
       "      <th>sepal_width</th>\n",
       "      <th>petal_length</th>\n",
       "      <th>petal_width</th>\n",
       "      <th>species</th>\n",
       "      <th>rounded_sepal_length</th>\n",
       "      <th>100x_sepal_length</th>\n",
       "    </tr>\n",
       "  </thead>\n",
       "  <tbody>\n",
       "    <tr>\n",
       "      <th>0</th>\n",
       "      <td>5.1</td>\n",
       "      <td>3.5</td>\n",
       "      <td>1.4</td>\n",
       "      <td>0.2</td>\n",
       "      <td>setosa</td>\n",
       "      <td>5.0</td>\n",
       "      <td>510.0</td>\n",
       "    </tr>\n",
       "    <tr>\n",
       "      <th>1</th>\n",
       "      <td>4.9</td>\n",
       "      <td>3.0</td>\n",
       "      <td>1.4</td>\n",
       "      <td>0.2</td>\n",
       "      <td>setosa</td>\n",
       "      <td>5.0</td>\n",
       "      <td>490.0</td>\n",
       "    </tr>\n",
       "    <tr>\n",
       "      <th>2</th>\n",
       "      <td>4.7</td>\n",
       "      <td>3.2</td>\n",
       "      <td>1.3</td>\n",
       "      <td>0.2</td>\n",
       "      <td>setosa</td>\n",
       "      <td>5.0</td>\n",
       "      <td>470.0</td>\n",
       "    </tr>\n",
       "    <tr>\n",
       "      <th>3</th>\n",
       "      <td>4.6</td>\n",
       "      <td>3.1</td>\n",
       "      <td>1.5</td>\n",
       "      <td>0.2</td>\n",
       "      <td>setosa</td>\n",
       "      <td>5.0</td>\n",
       "      <td>460.0</td>\n",
       "    </tr>\n",
       "    <tr>\n",
       "      <th>4</th>\n",
       "      <td>5.0</td>\n",
       "      <td>3.6</td>\n",
       "      <td>1.4</td>\n",
       "      <td>0.2</td>\n",
       "      <td>setosa</td>\n",
       "      <td>5.0</td>\n",
       "      <td>500.0</td>\n",
       "    </tr>\n",
       "  </tbody>\n",
       "</table>\n",
       "</div>"
      ],
      "text/plain": [
       "   sepal_length  sepal_width  petal_length  petal_width species  \\\n",
       "0           5.1          3.5           1.4          0.2  setosa   \n",
       "1           4.9          3.0           1.4          0.2  setosa   \n",
       "2           4.7          3.2           1.3          0.2  setosa   \n",
       "3           4.6          3.1           1.5          0.2  setosa   \n",
       "4           5.0          3.6           1.4          0.2  setosa   \n",
       "\n",
       "   rounded_sepal_length  100x_sepal_length  \n",
       "0                   5.0              510.0  \n",
       "1                   5.0              490.0  \n",
       "2                   5.0              470.0  \n",
       "3                   5.0              460.0  \n",
       "4                   5.0              500.0  "
      ]
     },
     "execution_count": 76,
     "metadata": {
      "tags": []
     },
     "output_type": "execute_result"
    }
   ],
   "source": [
    "def multiply_by_100(x):\n",
    "    \"\"\"Multiplies by 100\"\"\"\n",
    "    return x*100\n",
    "iris['100x_sepal_length'] = iris[['sepal_length']].apply(multiply_by_100)\n",
    "iris.head()"
   ]
  },
  {
   "cell_type": "markdown",
   "metadata": {
    "colab_type": "text",
    "id": "6clKK6eovI89"
   },
   "source": [
    "### Control Structures\n",
    "*  **For loops**\n",
    "*  While loops\n",
    "*  If/else statements\n",
    "*  Try/Except\n",
    "*  Generator expressions\n",
    "*  List Comprehensions\n",
    "*  Pattern Matching\n",
    "\n",
    "All programs eventually need a way to control the flow of execution.  This section describes techniques."
   ]
  },
  {
   "cell_type": "markdown",
   "metadata": {
    "colab_type": "text",
    "id": "kkrALu_wvRMQ"
   },
   "source": [
    "**For Loops**\n",
    "\n",
    "The for loop is one of the most fundamental control structures in Python.\n",
    "One common pattern is to use the range function to generate a range of values, then to iterate on them."
   ]
  },
  {
   "cell_type": "code",
   "execution_count": 0,
   "metadata": {
    "colab": {
     "base_uri": "https://localhost:8080/",
     "height": 34
    },
    "colab_type": "code",
    "id": "abHaxRTlth7c",
    "outputId": "56b5675a-3e6a-402a-e1cd-87a64a077e86"
   },
   "outputs": [
    {
     "name": "stdout",
     "output_type": "stream",
     "text": [
      "[0, 1, 2]\n"
     ]
    }
   ],
   "source": [
    "res = range(3)\n",
    "print(list(res))"
   ]
  },
  {
   "cell_type": "code",
   "execution_count": 0,
   "metadata": {
    "colab": {
     "base_uri": "https://localhost:8080/",
     "height": 68
    },
    "colab_type": "code",
    "id": "tnUuKBtlvWz5",
    "outputId": "4efbc3b6-b0ca-4fe6-aec7-72bd898aa805"
   },
   "outputs": [
    {
     "name": "stdout",
     "output_type": "stream",
     "text": [
      "0\n",
      "1\n",
      "2\n"
     ]
    }
   ],
   "source": [
    "for i in range(3):\n",
    "    print(i)"
   ]
  },
  {
   "cell_type": "markdown",
   "metadata": {
    "colab_type": "text",
    "id": "ANmx4hYRvdXF"
   },
   "source": [
    "**For loop over list**\n",
    "\n",
    "Another common pattern is to iterate or a list"
   ]
  },
  {
   "cell_type": "code",
   "execution_count": 0,
   "metadata": {
    "colab": {
     "base_uri": "https://localhost:8080/",
     "height": 68
    },
    "colab_type": "code",
    "id": "K_XrmKB6vYHw",
    "outputId": "f1c86fe9-4a56-4303-e1c5-86688f2d5127"
   },
   "outputs": [
    {
     "name": "stdout",
     "output_type": "stream",
     "text": [
      "Sambo has influenced modern mixed martial arts\n",
      "Muay Thai has influenced modern mixed martial arts\n",
      "BJJ has influenced modern mixed martial arts\n"
     ]
    }
   ],
   "source": [
    "martial_arts = [\"Sambo\", \"Muay Thai\", \"BJJ\"]\n",
    "for martial_art in martial_arts:\n",
    "    print(f\"{martial_art} has influenced modern mixed martial arts\")"
   ]
  },
  {
   "cell_type": "markdown",
   "metadata": {
    "colab_type": "text",
    "id": "McQsitwbvrIG"
   },
   "source": [
    "**While Loops**\n",
    "\n",
    "A While Loop is often used as a way of looping until a condition is met. A very common use of a while loop is to create an infinite loop. In the example below a while loop is used to filter a function that returns 1 of 2 types of attacks."
   ]
  },
  {
   "cell_type": "code",
   "execution_count": 0,
   "metadata": {
    "colab": {
     "base_uri": "https://localhost:8080/",
     "height": 85
    },
    "colab_type": "code",
    "id": "XA-2E-uNvhUK",
    "outputId": "9d58b70e-7bda-49d3-ebfc-f750b1b79fc5"
   },
   "outputs": [
    {
     "name": "stdout",
     "output_type": "stream",
     "text": [
      "There are a total of 3 attacks coming!\n",
      "crossing legs to prevent attack #1\n",
      "crossing legs to prevent attack #2\n",
      "This is not a lower body attack, I will cross my arms for #3\n"
     ]
    }
   ],
   "source": [
    "def attacks():\n",
    "    list_of_attacks = [\"lower_body\", \"lower_body\",\"upper_body\"]\n",
    "    print(f\"There are a total of {len(list_of_attacks)} attacks coming!\")\n",
    "    for attack in list_of_attacks:\n",
    "        yield attack\n",
    "attack = attacks()\n",
    "count = 0\n",
    "while next(attack) == \"lower_body\":\n",
    "    count +=1\n",
    "    print(f\"crossing legs to prevent attack #{count}\")\n",
    "else:\n",
    "    count +=1\n",
    "    print(f\"This is not a lower body attack, I will cross my arms for #{count}\")"
   ]
  },
  {
   "cell_type": "markdown",
   "metadata": {
    "colab_type": "text",
    "id": "88ORBTOPvyKy"
   },
   "source": [
    "**If/Else**\n",
    "\n",
    "If/Else statements are a common way to branch between decisions. In the example below if/elif are used to match a branch. If there are no matches, the last \"else\" statement is run."
   ]
  },
  {
   "cell_type": "code",
   "execution_count": 0,
   "metadata": {
    "colab": {},
    "colab_type": "code",
    "id": "4rPN8VYgvvsL"
   },
   "outputs": [],
   "source": [
    "def recommended_attack(position):\n",
    "    \"\"\"Recommends an attack based on the position\"\"\"\n",
    "    if position == \"full_guard\":\n",
    "        print(f\"Try an armbar attack\")\n",
    "    elif position == \"half_guard\":\n",
    "        print(f\"Try a kimura attack\")\n",
    "    elif position == \"full_mount\":\n",
    "        print(f\"Try an arm triangle\")\n",
    "    else:\n",
    "        print(f\"You're on your own, there is no suggestion for an attack\")"
   ]
  },
  {
   "cell_type": "code",
   "execution_count": 0,
   "metadata": {
    "colab": {
     "base_uri": "https://localhost:8080/",
     "height": 34
    },
    "colab_type": "code",
    "id": "liJPIg7dv4kq",
    "outputId": "deef69d6-963b-406b-b829-6e8fdc9c6108"
   },
   "outputs": [
    {
     "name": "stdout",
     "output_type": "stream",
     "text": [
      "Try an armbar attack\n"
     ]
    }
   ],
   "source": [
    "recommended_attack(\"full_guard\")"
   ]
  },
  {
   "cell_type": "code",
   "execution_count": 0,
   "metadata": {
    "colab": {
     "base_uri": "https://localhost:8080/",
     "height": 34
    },
    "colab_type": "code",
    "id": "7d6qc-4yv_7F",
    "outputId": "651231d9-1116-4d14-e031-88546e1d1e5d"
   },
   "outputs": [
    {
     "name": "stdout",
     "output_type": "stream",
     "text": [
      "You're on your own, there is no suggestion for an attack\n"
     ]
    }
   ],
   "source": [
    "recommended_attack(\"z_guard\")"
   ]
  },
  {
   "cell_type": "markdown",
   "metadata": {
    "colab_type": "text",
    "id": "22pQ51hdwE4w"
   },
   "source": [
    "**Generator Expression**\n",
    "\n",
    "Generator Expressions build further on the concept of yield by allowing for the lazy evaluation of a sequence. The benefit of generator expressions is that nothing is evaluated or brought into memory until it is actually evaluated.\n",
    "\n",
    "This is why the example below can be operating on an infi-nite sequence of random attacks that are generated. In the generator pipeline the lower-case attack, such as \"arm_triangle\" is converted to \"ARM_TRIANGLE\", next the underscore is remove \"ARM TRIANGLE\"."
   ]
  },
  {
   "cell_type": "code",
   "execution_count": 0,
   "metadata": {
    "colab": {},
    "colab_type": "code",
    "id": "5AIcGpUgwBR0"
   },
   "outputs": [],
   "source": [
    "def lazy_return_random_attacks():\n",
    "    \"\"\"Yield attacks each time\"\"\"\n",
    "    import random\n",
    "    attacks = {\"kimura\": \"upper_body\",\n",
    "           \"straight_ankle_lock\":\"lower_body\", \n",
    "           \"arm_triangle\":\"upper_body\",\n",
    "            \"keylock\": \"upper_body\",\n",
    "            \"knee_bar\": \"lower_body\"}\n",
    "    while True:\n",
    "        random_attack = random.choices(list(attacks.keys()))\n",
    "        yield random_attack\n",
    "        \n",
    "#Make all attacks appear as Upper Case\n",
    "upper_case_attacks = (attack.pop().upper() for attack in lazy_return_random_attacks())"
   ]
  },
  {
   "cell_type": "code",
   "execution_count": 0,
   "metadata": {
    "colab": {
     "base_uri": "https://localhost:8080/",
     "height": 34
    },
    "colab_type": "code",
    "id": "eaWWG7N8wNHd",
    "outputId": "14c67630-4fbd-4c9e-a7ae-1341f94f5910"
   },
   "outputs": [
    {
     "data": {
      "text/plain": [
       "'KEYLOCK'"
      ]
     },
     "execution_count": 85,
     "metadata": {
      "tags": []
     },
     "output_type": "execute_result"
    }
   ],
   "source": [
    "next(upper_case_attacks)"
   ]
  },
  {
   "cell_type": "code",
   "execution_count": 0,
   "metadata": {
    "colab": {},
    "colab_type": "code",
    "id": "NPKsH9dPwO89"
   },
   "outputs": [],
   "source": [
    "## Generator Pipeline:  One expression chains into the next\n",
    "#Make all attacks appear as Upper Case\n",
    "upper_case_attacks = (attack.pop().upper() for attack in lazy_return_random_attacks())\n",
    "#Remove the underscore\n",
    "remove_underscore = (attack.split(\"_\") for attack in upper_case_attacks)\n",
    "#Create a new phrase \n",
    "new_attack_phrase = (\" \".join(phrase) for phrase in remove_underscore)"
   ]
  },
  {
   "cell_type": "code",
   "execution_count": 0,
   "metadata": {
    "colab": {
     "base_uri": "https://localhost:8080/",
     "height": 34
    },
    "colab_type": "code",
    "id": "xb4vf2URwRnk",
    "outputId": "9ea27959-c2e9-468c-a829-06284a4674ad"
   },
   "outputs": [
    {
     "data": {
      "text/plain": [
       "'KEYLOCK'"
      ]
     },
     "execution_count": 87,
     "metadata": {
      "tags": []
     },
     "output_type": "execute_result"
    }
   ],
   "source": [
    "next(new_attack_phrase)"
   ]
  },
  {
   "cell_type": "code",
   "execution_count": 0,
   "metadata": {
    "colab": {
     "base_uri": "https://localhost:8080/",
     "height": 187
    },
    "colab_type": "code",
    "id": "OA9PLTTFwV00",
    "outputId": "1ea2807a-9cd1-4392-9728-de02f7ef5e95"
   },
   "outputs": [
    {
     "name": "stdout",
     "output_type": "stream",
     "text": [
      "KNEE BAR\n",
      "KIMURA\n",
      "KEYLOCK\n",
      "KNEE BAR\n",
      "KNEE BAR\n",
      "STRAIGHT ANKLE LOCK\n",
      "KNEE BAR\n",
      "ARM TRIANGLE\n",
      "ARM TRIANGLE\n",
      "KIMURA\n"
     ]
    }
   ],
   "source": [
    "for number in range(10):\n",
    "    print(next(new_attack_phrase))"
   ]
  },
  {
   "cell_type": "markdown",
   "metadata": {
    "colab_type": "text",
    "id": "bBqchsBXwaiD"
   },
   "source": [
    "**List Comprehension**\n",
    "\n",
    "A list comprehension is very similar to a generator expression, but it evaluated in memory. Additionally, it is optimized C code that be a substantial improvement over a traditional for loop."
   ]
  },
  {
   "cell_type": "code",
   "execution_count": 0,
   "metadata": {
    "colab": {},
    "colab_type": "code",
    "id": "X_pm3eyqwXXM"
   },
   "outputs": [],
   "source": [
    "martial_arts = [\"Sambo\", \"Muay Thai\", \"BJJ\"]\n",
    "new_phrases = [\"\".join(f\"Mixed Martial Arts is influenced by {martial_art}\") for martial_art in martial_arts]"
   ]
  },
  {
   "cell_type": "code",
   "execution_count": 0,
   "metadata": {
    "colab": {
     "base_uri": "https://localhost:8080/",
     "height": 54
    },
    "colab_type": "code",
    "id": "lVhLoAQ2wiHP",
    "outputId": "b1e3f595-613b-42f3-d55c-09c399adcbc8"
   },
   "outputs": [
    {
     "name": "stdout",
     "output_type": "stream",
     "text": [
      "['Mixed Martial Arts is influenced by Sambo', 'Mixed Martial Arts is influenced by Muay Thai', 'Mixed Martial Arts is influenced by BJJ']\n"
     ]
    }
   ],
   "source": [
    "print(new_phrases)"
   ]
  },
  {
   "cell_type": "markdown",
   "metadata": {
    "colab_type": "text",
    "id": "9wWsG9Cdwme0"
   },
   "source": [
    "**Try/Except**\n",
    "\n",
    "There is an expression in sports, \"Always be prepared to do your best on your worst day\". Try/Except statements are similar. It is always a good idea to think about what happens when something goes wrong in code that is written. Try/Except blocks allow for this."
   ]
  },
  {
   "cell_type": "code",
   "execution_count": 0,
   "metadata": {
    "colab": {
     "base_uri": "https://localhost:8080/",
     "height": 85
    },
    "colab_type": "code",
    "id": "G94tPojywjkt",
    "outputId": "57fd3a09-dd9d-4f74-d686-cae504bc94e6"
   },
   "outputs": [
    {
     "name": "stdout",
     "output_type": "stream",
     "text": [
      "I would like to compete in the EBI tournament.\n",
      "I would like to compete in the IBJJF tournament.\n",
      "I would like to compete in the NAGA tournament.\n",
      "There are no more tournaments\n"
     ]
    }
   ],
   "source": [
    "tournaments = [\"NAGA\", \"IBJJF\", \"EBI\"]\n",
    "while True:\n",
    "    try:\n",
    "        tournament = tournaments.pop()\n",
    "        print(f\"I would like to compete in the {tournament} tournament.\")\n",
    "    except IndexError:\n",
    "        print(\"There are no more tournaments\")\n",
    "        break"
   ]
  },
  {
   "cell_type": "markdown",
   "metadata": {
    "colab_type": "text",
    "id": "IOrXSbsBmER1"
   },
   "source": [
    "#### Lambda\n",
    "\n",
    "Generally considered to be unnecessary.  A Python lambda is an inline python and it can often lead to confusing code.  \n",
    "\n"
   ]
  },
  {
   "cell_type": "code",
   "execution_count": 0,
   "metadata": {
    "colab": {
     "base_uri": "https://localhost:8080/",
     "height": 34
    },
    "colab_type": "code",
    "id": "svG3pAATmQgN",
    "outputId": "5f9d8c42-c31a-4a56-e666-317b570543a5"
   },
   "outputs": [
    {
     "data": {
      "text/plain": [
       "4"
      ]
     },
     "execution_count": 3,
     "metadata": {
      "tags": []
     },
     "output_type": "execute_result"
    }
   ],
   "source": [
    "func = lambda x: x**2\n",
    "func(2)"
   ]
  },
  {
   "cell_type": "code",
   "execution_count": 0,
   "metadata": {
    "colab": {
     "base_uri": "https://localhost:8080/",
     "height": 34
    },
    "colab_type": "code",
    "id": "FYAyqtzToqv1",
    "outputId": "d868417c-b71b-4625-b4c9-a820e2d8e014"
   },
   "outputs": [
    {
     "data": {
      "text/plain": [
       "4"
      ]
     },
     "execution_count": 5,
     "metadata": {
      "tags": []
     },
     "output_type": "execute_result"
    }
   ],
   "source": [
    "def regular_func(x):\n",
    "  return x**2\n",
    "\n",
    "regular_func(2)"
   ]
  }
 ],
 "metadata": {
  "colab": {
   "collapsed_sections": [],
   "name": "Python ML and Jupyter-Day1-Part1.ipynb",
   "provenance": [],
   "version": "0.3.2"
  },
  "kernelspec": {
   "display_name": "Python 3",
   "language": "python",
   "name": "python3"
  },
  "language_info": {
   "codemirror_mode": {
    "name": "ipython",
    "version": 3
   },
   "file_extension": ".py",
   "mimetype": "text/x-python",
   "name": "python",
   "nbconvert_exporter": "python",
   "pygments_lexer": "ipython3",
   "version": "3.8.6"
  }
 },
 "nbformat": 4,
 "nbformat_minor": 1
}
