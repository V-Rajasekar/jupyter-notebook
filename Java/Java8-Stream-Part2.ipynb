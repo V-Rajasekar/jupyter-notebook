{
 "cells": [
  {
   "cell_type": "markdown",
   "metadata": {},
   "source": [
    "## Java 8 Stream"
   ]
  },
  {
   "cell_type": "markdown",
   "metadata": {},
   "source": [
    "#### What is Java Stream ?\n",
    "Java 8 streams are a framework inthe Java class library that provides several \n",
    "key benefits to programs, e.g.\n",
    "\n",
    "- Manipulate flows of data declaratively via function composition\n",
    "- Enable transparent parallelization without the need to write any multi-threaded code\n",
    "- A stream is a pipeline of aggregate operations that process a sequence of elements (aka, “values” or “data”)\n",
    "\n",
    "#### How to create a Stream ?\n",
    "A stream is create via factory methods. There are many factory methods to create few mentioned below\n",
    "\n",
    "- collection.stream()\n",
    "- collection.parallelStream() Pattern.compile(…).splitAsStream()\n",
    "- Stream.of(value1,… ,valueN)\n",
    "- Arrays.stream(array)\n",
    "- Arrays.stream(array, start, end)\n",
    "\n",
    "#### what it does ?\n",
    "Streams enhance flexibility by forming a “processing pipeline” that chains multiple aggregate operations together\n",
    "- Each aggregation operation in the pipeline can filter and/or transform the stream\n",
    "1. Starts with a source of data\n",
    "2. Processes data through a pipeline of intermediate operations that each map an input stream to an output stream (e.g) intermediate operations `filter(), map() & flatMap()`\n",
    "3. Finishes with a terminal operation that yields a non-stream result\n",
    "` forEach(), collect(), reduce()`\n"
   ]
  },
  {
   "cell_type": "code",
   "execution_count": 22,
   "metadata": {},
   "outputs": [
    {
     "name": "stdout",
     "output_type": "stream",
     "text": [
      "hamelton\n",
      "harish\n",
      "hobbit\n",
      "hortans\n"
     ]
    }
   ],
   "source": [
    "import java.util.stream.Stream;\n",
    "import static java.lang.Character.toLowerCase;\n",
    "public class StreamTest {\n",
    "  \n",
    "  public String capitalize(String str) {\n",
    "     if(str.length() == 0) \n",
    "       return \"\";\n",
    "     else \n",
    "       return str.substring(0,1).toUpperCase()\n",
    "        .concat(str.substring(1)).toLowerCase();\n",
    "  }\n",
    "\n",
    "    public void testStream() {\n",
    "     Stream.of(\"balu\", \"hortans\", \"harish\", \"hamelton\",\"lartese\", \"Hobbit\")\n",
    "    .filter( s ->  toLowerCase(s.charAt(0)) == 'h')\n",
    "    .map(this::capitalize)\n",
    "    .sorted()\n",
    "    .forEach(System.out::println);\n",
    "}\n",
    "\n",
    "}\n",
    "\n",
    "StreamTest streamTest = new StreamTest();\n",
    " streamTest.testStream();\n",
    "\n"
   ]
  },
  {
   "cell_type": "markdown",
   "metadata": {},
   "source": [
    "#### OverView Aggreation Operations \n",
    "|Operation | Description |Syntax\n",
    "| :--- | --- | :--- |\n",
    "| Map | Applies the mapper function to every element of the input stream & returnsan output stream consisting of the results |Stream map(Function<...> mapper )|\n",
    "|filter| Tests the given predicate against each element of the input stream & returns an output stream consisting only of the elements that match the predicate |Stream filter(Predicate<...> predicate )|\n",
    "|collect|This terminal operation uses a collector to perform reduction on the elements of its input stream & returns the results of the reduction |R collect(Collector<…>collector)|\n",
    "\n",
    "### Overview of common stream aggregate operation\n",
    "- List collect(toList())            creates a list of elements\n",
    "- Stream limit(long maxSize) & Optional findFirst() "
   ]
  },
  {
   "cell_type": "markdown",
   "metadata": {},
   "source": [
    "#### Map, Collectors.joining"
   ]
  },
  {
   "cell_type": "code",
   "execution_count": 35,
   "metadata": {},
   "outputs": [
    {
     "name": "stdout",
     "output_type": "stream",
     "text": [
      "Kamal Hasaan\n",
      "Rajinikanth\n",
      "Prabhas\n",
      "Rajinikanth\n",
      "Kamal Hasaan,Rajinikanth,Prabhas,Rajinikanth\n"
     ]
    }
   ],
   "source": [
    "/*package whatever //do not write package name here */\n",
    "\n",
    "import java.io.*;\n",
    "\n",
    "import java.util.List;\n",
    "import java.util.stream.Stream;\n",
    "import java.util.stream.Collectors;\n",
    "\n",
    "class Actor {\n",
    "    private String name;\n",
    "    \n",
    "    public  Actor(String name){this.name = name;}\n",
    "    public String getName() {\n",
    "        return name;\n",
    "    }\n",
    "}\n",
    "class Movie {\n",
    "    private String name;\n",
    "    private Actor actor;\n",
    "    \n",
    "    public Movie (String name, String actorName) {\n",
    "        this.name = name;\n",
    "        this.actor = new Actor(actorName);    \n",
    "    }\n",
    "    \n",
    "    public Actor getActor(){return actor;}\n",
    "}\n",
    "\n",
    "Movie nayakan = new Movie(\"Nayakan\", \"Kamal Hasaan\");\n",
    "Movie basha = new Movie(\"Basha\", \"Rajinikanth\");\n",
    "Movie bahubali = new Movie(\"Bahubali\", \"Prabhas\");\n",
    "Movie thalapathi = new Movie(\"Thalapathi\", \"Rajinikanth\");\n",
    "\n",
    "Stream <Movie> movieStream = Stream.of(nayakan, basha, bahubali, thalapathi);\n",
    "   List<Actor> actors = movieStream.map(movie -> new Actor(movie.getActor().getName()))\n",
    "    .collect(Collectors.toList()); \n",
    "actors.forEach(actor -> System.out.println(actor.getName()));\n",
    "\n",
    "Stream <Movie> movieStream = Stream.of(nayakan, basha, bahubali, thalapathi);\n",
    "   String actors = movieStream.map(movie -> movie.getActor().getName())\n",
    "    .collect(Collectors.joining(\",\")); \n",
    "System.out.println(actors);\n"
   ]
  },
  {
   "cell_type": "markdown",
   "metadata": {},
   "source": [
    "#### FlatMap, Collectors.summingDouble, Collectors.groupingBy, Collectors.partitioningBy"
   ]
  },
  {
   "cell_type": "code",
   "execution_count": 38,
   "metadata": {},
   "outputs": [
    {
     "name": "stdout",
     "output_type": "stream",
     "text": [
      "List of developers programming language:\n",
      "Java\n",
      "Scala\n",
      "Bash\n",
      "Angular\n",
      "Python\n",
      "DevelopersByDept: {Payment=[Mugunthan, Teja], IT solution=[Rajasekar]}\n",
      "TotalSalaryOfPaymentDept: 1024000.0\n",
      "DevelopersBySalary > 500000: {false=[Teja], true=[Rajasekar, Mugunthan]}\n"
     ]
    }
   ],
   "source": [
    "\n",
    "import java.util.Set;\n",
    "import java.util.stream.Stream;\n",
    "import java.util.stream.Collectors;\n",
    "import java.util.Map;\n",
    "import java.util.List;\n",
    "\n",
    "class Developer {\n",
    "    private String name;\n",
    "    private String deptName;\n",
    "    private Double salary;\n",
    "    private Set<String> languages;\n",
    "    private String grade;\n",
    "    \n",
    "    public Developer (String name, String deptName, Double salary, Set<String> languages) {\n",
    "        this.name = name;\n",
    "        this.deptName = deptName;\n",
    "        this.salary = salary;\n",
    "        this.languages = languages;\n",
    "        \n",
    "    }\n",
    "    \n",
    "    public String getDeptName() {return deptName;}\n",
    "    \n",
    "    public Double getSalary(){return salary;}\n",
    "    \n",
    "    public Set<String> getLanguages() { return languages;}\n",
    "    \n",
    "    public String getGrade() { return grade; }\n",
    "    \n",
    "    public String toString() {\n",
    "        return name;\n",
    "    }\n",
    "}\n",
    "\n",
    "\n",
    "\t    Set<String> rajLanguages = Stream.of(\"Java\", \"Python\", \"Scala\").collect(Collectors.toSet());\n",
    "\tDeveloper rajasekar = new Developer(\"Rajasekar\", \"IT solution\", new Double(564000), rajLanguages);\n",
    "\t\n",
    "\t\t\n",
    "\t    Set<String> mugunthanLanguages = Stream.of(\"Java\").collect(Collectors.toSet());\n",
    "\tDeveloper mugunthan = new Developer(\"Mugunthan\", \"Payment\", new Double(560000), mugunthanLanguages);\n",
    "\t\n",
    "\t\t\n",
    "\t    Set<String> tejaLanguages = Stream.of(\"Java\", \"Angular\", \"Bash\").collect(Collectors.toSet());\n",
    "\t    \n",
    "\t    \n",
    "\tDeveloper teja = new Developer(\"Teja\", \"Payment\", new Double(464000), tejaLanguages);\n",
    "\t    System.out.println(\"List of developers programming language:\");\n",
    "       Stream.of(rajasekar, mugunthan, teja)\n",
    "                      .flatMap(developer -> developer.getLanguages().stream())\n",
    "                      .collect(Collectors.toSet())\n",
    "                      .forEach(System.out::println); \n",
    "    // Collectors.groupingBy                 \n",
    "                      \n",
    "            Map<String, List<Developer>> developersByDept = Stream.of(rajasekar, mugunthan, teja)\n",
    "                      .collect(Collectors.groupingBy(Developer:: getDeptName));\n",
    "            System.out.println(\"DevelopersByDept: \"+ developersByDept);          \n",
    "   \n",
    "   //Collectors.summing         \n",
    "            Map<String, Double> totalSalaryByDept = Stream.of(rajasekar, mugunthan, teja)\n",
    "                      .collect(\n",
    "                          Collectors.groupingBy(Developer:: getDeptName,\n",
    "                          Collectors.summingDouble(Developer::getSalary)));\n",
    "            System.out.println(\"TotalSalaryOfPaymentDept: \"+ totalSalaryByDept.get(\"Payment\"));                    \n",
    "  // Collectors.partitioningBy          \n",
    "            Map<Boolean, List<Developer>> partitionDeveloperBasedOnSal = \n",
    "                    Stream.of(rajasekar, mugunthan, teja)\n",
    "                          .collect(Collectors.partitioningBy(d ->d.getSalary() > 500000 ));\n",
    "            System.out.println(\"DevelopersBySalary > 500000: \"+ partitionDeveloperBasedOnSal);                        \n",
    "  "
   ]
  },
  {
   "cell_type": "markdown",
   "metadata": {},
   "source": [
    "Resources \n",
    "- [Java8 SimpleSearch using Stream, Filter, Map e.t.c](https://github.com/douglascraigschmidt/LiveLessons/tree/master/SimpleSearchStream/src/main/java/search)\n",
    "- [Java 8 Stream Overview](https://www.ibm.com/developerworks/java/library/j-java-streams-1-brian-goetz/index.html)"
   ]
  },
  {
   "cell_type": "code",
   "execution_count": null,
   "metadata": {},
   "outputs": [],
   "source": []
  }
 ],
 "metadata": {
  "kernelspec": {
   "display_name": "Java",
   "language": "java",
   "name": "java"
  },
  "language_info": {
   "codemirror_mode": "java",
   "file_extension": ".java",
   "mimetype": "text/x-java-source",
   "name": "Java",
   "pygments_lexer": "java",
   "version": "11.0.1+13-LTS"
  }
 },
 "nbformat": 4,
 "nbformat_minor": 2
}
